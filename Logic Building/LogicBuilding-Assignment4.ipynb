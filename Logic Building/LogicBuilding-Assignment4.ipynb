{
 "cells": [
  {
   "cell_type": "markdown",
   "id": "5cd2b0a9-3fcb-4764-b375-0a09c677dafd",
   "metadata": {},
   "source": [
    "# Assignment 4"
   ]
  },
  {
   "cell_type": "markdown",
   "id": "60a9e28f-e583-4838-9768-236577839f00",
   "metadata": {},
   "source": [
    "# Numbers/Loops"
   ]
  },
  {
   "cell_type": "code",
   "execution_count": 1,
   "id": "890dac28-2c24-4105-9866-c6324f77c24b",
   "metadata": {},
   "outputs": [
    {
     "name": "stdin",
     "output_type": "stream",
     "text": [
      "Enter a number:  12\n",
      "Enter a number:  50\n"
     ]
    },
    {
     "name": "stdout",
     "output_type": "stream",
     "text": [
      "13\n",
      "17\n",
      "19\n",
      "23\n",
      "29\n",
      "31\n",
      "37\n",
      "41\n",
      "43\n",
      "47\n"
     ]
    }
   ],
   "source": [
    "# 1. Write a function to print all prime numbers between two numbers.\n",
    "def is_prime(n): \n",
    "    if n > 1: \n",
    "        for i in range(2,n): \n",
    "            if n%i == 0: \n",
    "                return False\n",
    "                break \n",
    "        else: \n",
    "            return True\n",
    "\n",
    "a = int(input(\"Enter a number: \"))\n",
    "b = int(input(\"Enter a number: \"))\n",
    "\n",
    "for i in range(a, b):\n",
    "    if is_prime(i) == True:\n",
    "        print(i)"
   ]
  },
  {
   "cell_type": "code",
   "execution_count": 2,
   "id": "61da3158-d0d8-4588-95dd-d032229ca6bb",
   "metadata": {},
   "outputs": [
    {
     "name": "stdin",
     "output_type": "stream",
     "text": [
      "Enter a number:  123\n"
     ]
    },
    {
     "data": {
      "text/plain": [
       "False"
      ]
     },
     "execution_count": 2,
     "metadata": {},
     "output_type": "execute_result"
    }
   ],
   "source": [
    "# 2. Write a program to check whether a number is a perfect number (sum of its divisors = number).\n",
    "def perfect_no(n):\n",
    "    l = []\n",
    "    if n > 1:\n",
    "        for i in range(1, n):\n",
    "            if n%i == 0:\n",
    "                l.append(i)\n",
    "        return sum(l) == n\n",
    "\n",
    "a = int(input(\"Enter a number: \"))\n",
    "perfect_no(a)"
   ]
  },
  {
   "cell_type": "code",
   "execution_count": 4,
   "id": "62846640-de0e-49c2-8bd5-d9183399fc51",
   "metadata": {},
   "outputs": [
    {
     "name": "stdin",
     "output_type": "stream",
     "text": [
      "Enter a number:  1\n",
      "Enter a number:  1000\n"
     ]
    },
    {
     "name": "stdout",
     "output_type": "stream",
     "text": [
      "1\n",
      "2\n",
      "3\n",
      "4\n",
      "5\n",
      "6\n",
      "7\n",
      "8\n",
      "9\n",
      "153\n",
      "370\n",
      "371\n",
      "407\n"
     ]
    }
   ],
   "source": [
    "# 3. Find all Armstrong numbers between 1 and 1000.\n",
    "def armstrongNum(n):\n",
    "    m = str(n)\n",
    "    num_sum= sum(int(i)**len(m) for i in m)\n",
    "    if num_sum== n:\n",
    "        return True\n",
    "    else:\n",
    "        return False\n",
    "\n",
    "a = int(input(\"Enter a number: \"))\n",
    "b = int(input(\"Enter a number: \"))\n",
    "\n",
    "for i in range(a, b):\n",
    "    if armstrongNum(i) == True:\n",
    "        print(i)"
   ]
  },
  {
   "cell_type": "code",
   "execution_count": 5,
   "id": "5642e234-ecfd-44d2-bd86-738d3132973b",
   "metadata": {},
   "outputs": [
    {
     "name": "stdin",
     "output_type": "stream",
     "text": [
      "Enter a number:  145\n"
     ]
    },
    {
     "name": "stdout",
     "output_type": "stream",
     "text": [
      "Number is a strong number\n"
     ]
    }
   ],
   "source": [
    "# 4. Write a program to check whether a number is a strong number (sum of factorial of digits = number).\n",
    "def numFact(n):\n",
    "    if n==0 or n==1:\n",
    "        return 1\n",
    "    return n*numFact(n-1)\n",
    "\n",
    "def strong_no(n):\n",
    "    l = [int(i) for i in str(n)]\n",
    "    sum = 0\n",
    "    for j in l:\n",
    "        sum += numFact(j)\n",
    "    if sum == n:\n",
    "        print(\"Number is a strong number\")\n",
    "    else:\n",
    "        print(\"Number is not a strong number\")\n",
    "\n",
    "a = int(input(\"Enter a number: \"))\n",
    "strong_no(a)"
   ]
  },
  {
   "cell_type": "code",
   "execution_count": 6,
   "id": "3b21129a-00e0-4ce9-8fcf-50a69742878a",
   "metadata": {},
   "outputs": [
    {
     "name": "stdin",
     "output_type": "stream",
     "text": [
      "Enter a number:  78\n"
     ]
    },
    {
     "name": "stdout",
     "output_type": "stream",
     "text": [
      "2\n",
      "3\n",
      "5\n",
      "7\n",
      "11\n",
      "13\n",
      "17\n",
      "19\n",
      "23\n",
      "29\n",
      "31\n",
      "37\n",
      "41\n",
      "43\n",
      "47\n",
      "53\n",
      "59\n",
      "61\n",
      "67\n",
      "71\n",
      "73\n"
     ]
    }
   ],
   "source": [
    "# 5. Write a function to generate the first n prime numbers.\n",
    "def is_prime(n): \n",
    "    if n > 1: \n",
    "        for i in range(2,n): \n",
    "            if n%i == 0: \n",
    "                return False\n",
    "                break \n",
    "        else: \n",
    "            return True\n",
    "\n",
    "a = int(input(\"Enter a number: \"))\n",
    "\n",
    "for i in range(2, a):\n",
    "    if is_prime(i) == True:\n",
    "        print(i)"
   ]
  },
  {
   "cell_type": "code",
   "execution_count": 7,
   "id": "6731e43d-7377-4ed3-99d9-d0de9b9234a3",
   "metadata": {},
   "outputs": [
    {
     "name": "stdin",
     "output_type": "stream",
     "text": [
      "Enter a number:  108\n",
      "Enter a number:  72\n"
     ]
    },
    {
     "data": {
      "text/plain": [
       "216"
      ]
     },
     "execution_count": 7,
     "metadata": {},
     "output_type": "execute_result"
    }
   ],
   "source": [
    "# 6. Write a program to find the LCM (Least Common Multiple) of two numbers.\n",
    "def lcm(x, y):\n",
    "    b = max(x, y)\n",
    "    s = min(x, y)\n",
    "    for i in range(b, b*s+1, b):\n",
    "        if i%s == 0:\n",
    "            return i\n",
    "    return a*b\n",
    "\n",
    "x = int(input(\"Enter a number: \"))\n",
    "y = int(input(\"Enter a number: \"))\n",
    "lcm(x, y)"
   ]
  },
  {
   "cell_type": "code",
   "execution_count": 9,
   "id": "dd45c27b-d144-4f60-a4e9-29f64a1a2f58",
   "metadata": {},
   "outputs": [
    {
     "name": "stdin",
     "output_type": "stream",
     "text": [
      "Enter a number:  35\n",
      "Enter another number:  200\n"
     ]
    },
    {
     "data": {
      "text/plain": [
       "5"
      ]
     },
     "execution_count": 9,
     "metadata": {},
     "output_type": "execute_result"
    }
   ],
   "source": [
    "# 7. Write a function that returns the HCF (GCD) of a list of numbers.\n",
    "def gcd(a, b):\n",
    "    while b != 0:\n",
    "        a, b = b, a % b\n",
    "    return a\n",
    "\n",
    "a = int(input(\"Enter a number: \"))\n",
    "b = int(input(\"Enter another number: \"))\n",
    "gcd(a, b)"
   ]
  },
  {
   "cell_type": "code",
   "execution_count": 11,
   "id": "13068125-346f-430d-87fc-58b79d9f7458",
   "metadata": {},
   "outputs": [
    {
     "name": "stdin",
     "output_type": "stream",
     "text": [
      "Enter a number:  459\n"
     ]
    },
    {
     "name": "stdout",
     "output_type": "stream",
     "text": [
      "[1, 3, 9, 17, 27, 51, 153, 459]\n"
     ]
    }
   ],
   "source": [
    "# 8. Write a function to print all factors of a number.\n",
    "def factors(n):\n",
    "    l = []\n",
    "    if n > 1:\n",
    "        for i in range(1, n+1):\n",
    "            if n%i == 0:\n",
    "                l.append(i)\n",
    "    print(l)\n",
    "\n",
    "a = int(input(\"Enter a number: \"))\n",
    "factors(a)"
   ]
  },
  {
   "cell_type": "code",
   "execution_count": 13,
   "id": "a3517b5d-4f9e-4318-b94e-350d7d871c8a",
   "metadata": {},
   "outputs": [
    {
     "name": "stdin",
     "output_type": "stream",
     "text": [
      "Enter a number:  153\n"
     ]
    },
    {
     "name": "stdout",
     "output_type": "stream",
     "text": [
      "Number is a Harshad (Niven) number\n"
     ]
    }
   ],
   "source": [
    "# 9. Write a function to check whether a number is Harshad (Niven) number (divisible by sum of its digits).\n",
    "def hn_no(n):\n",
    "    l = [int(i) for i in str(n)]\n",
    "    sum = 0\n",
    "    for j in l:\n",
    "        sum += j\n",
    "    if n%sum == 0:\n",
    "        print(\"Number is a Harshad (Niven) number\")\n",
    "    else:\n",
    "        print(\"Number is not a Harshad (Niven) number\")\n",
    "\n",
    "a = int(input(\"Enter a number: \"))\n",
    "hn_no(a)"
   ]
  },
  {
   "cell_type": "code",
   "execution_count": 14,
   "id": "b92103d4-9442-4f76-b4a6-424c84aa595b",
   "metadata": {},
   "outputs": [
    {
     "name": "stdin",
     "output_type": "stream",
     "text": [
      "Enter a number:  4386\n"
     ]
    },
    {
     "data": {
      "text/plain": [
       "125"
      ]
     },
     "execution_count": 14,
     "metadata": {},
     "output_type": "execute_result"
    }
   ],
   "source": [
    "# 10. Write a function to find the sum of squares of digits of a number.\n",
    "def sumsqr(n):\n",
    "    m = str(n)\n",
    "    num_sum= sum(int(i)**2 for i in m)\n",
    "    return num_sum\n",
    "\n",
    "a = int(input(\"Enter a number: \"))\n",
    "sumsqr(a)"
   ]
  },
  {
   "cell_type": "markdown",
   "id": "f7a517ba-ae2f-4bec-9d1c-86626c5bd1b3",
   "metadata": {},
   "source": [
    "# Strings"
   ]
  },
  {
   "cell_type": "code",
   "execution_count": 15,
   "id": "83851104-2f7f-447b-bd9c-a4a629713d17",
   "metadata": {},
   "outputs": [
    {
     "name": "stdin",
     "output_type": "stream",
     "text": [
      "Enter a string:  Enjoy the journey, not the destination\n"
     ]
    },
    {
     "name": "stdout",
     "output_type": "stream",
     "text": [
      "njy th jrny, nt th dstntn\n"
     ]
    }
   ],
   "source": [
    "# 11. Write a function to remove all vowels from a string.\n",
    "def remove_vowel(s):\n",
    "    vowel = \"aeiouAEIOU\"\n",
    "    for i in vowel:\n",
    "        s = s.replace(i, \"\")\n",
    "    print(s)\n",
    "\n",
    "s = input(\"Enter a string: \")\n",
    "remove_vowel(s)"
   ]
  },
  {
   "cell_type": "code",
   "execution_count": 16,
   "id": "5d4080e4-44a4-465b-8ad5-fd3eb1653663",
   "metadata": {},
   "outputs": [
    {
     "name": "stdin",
     "output_type": "stream",
     "text": [
      "Enter a string:  heart\n",
      "Enter a string:  earth\n"
     ]
    },
    {
     "name": "stdout",
     "output_type": "stream",
     "text": [
      "The strings are anagrams of each other\n"
     ]
    }
   ],
   "source": [
    "# 12. Write a program to check whether two strings are anagrams of each other.\n",
    "def anagram(a, b):\n",
    "    char_a = {}\n",
    "    for i in a:\n",
    "        char_a[i] = a.count(i)\n",
    "\n",
    "    char_b = {}\n",
    "    for j in b:\n",
    "        char_b[j] = b.count(j)\n",
    "    \n",
    "    if char_a == char_b:\n",
    "        print(\"The strings are anagrams of each other\")\n",
    "    else:\n",
    "        print(\"The strings are not anagrams of each other\")\n",
    "\n",
    "a = input(\"Enter a string: \")\n",
    "b = input(\"Enter a string: \")\n",
    "anagram(a, b)"
   ]
  },
  {
   "cell_type": "code",
   "execution_count": 17,
   "id": "9cea3042-adf2-4978-9ffb-3d81eb5d745a",
   "metadata": {},
   "outputs": [
    {
     "name": "stdin",
     "output_type": "stream",
     "text": [
      "Enter a string:  Don't let yesterday take too much of today\n"
     ]
    },
    {
     "data": {
      "text/plain": [
       "{'d': 3,\n",
       " 'o': 5,\n",
       " 'n': 1,\n",
       " \"'\": 1,\n",
       " 't': 6,\n",
       " ' ': 7,\n",
       " 'l': 1,\n",
       " 'e': 4,\n",
       " 'y': 3,\n",
       " 's': 1,\n",
       " 'r': 1,\n",
       " 'a': 3,\n",
       " 'k': 1,\n",
       " 'm': 1,\n",
       " 'u': 1,\n",
       " 'c': 1,\n",
       " 'h': 1,\n",
       " 'f': 1}"
      ]
     },
     "execution_count": 17,
     "metadata": {},
     "output_type": "execute_result"
    }
   ],
   "source": [
    "# 13. Write a function to count the frequency of each character in a string (dictionary output).\n",
    "def charFreq(a):\n",
    "    char = {}\n",
    "    a = a.lower()\n",
    "    for i in a:\n",
    "        char[i] = a.count(i)\n",
    "    return char\n",
    "\n",
    "a = input(\"Enter a string: \")\n",
    "charFreq(a)"
   ]
  },
  {
   "cell_type": "code",
   "execution_count": 18,
   "id": "efadd665-eb9f-482b-91f8-f8b793f892ba",
   "metadata": {},
   "outputs": [
    {
     "name": "stdin",
     "output_type": "stream",
     "text": [
      "Enter a string:  Who cares about the crowded, broad road? I’ll walk the single-plank bridge into the night\n"
     ]
    },
    {
     "data": {
      "text/plain": [
       "'single-plank'"
      ]
     },
     "execution_count": 18,
     "metadata": {},
     "output_type": "execute_result"
    }
   ],
   "source": [
    "# 14. Write a program to find the longest word in a given sentence.\n",
    "def longestWord(s):\n",
    "    a = s.split(' ')\n",
    "    long = max(a, key=len)\n",
    "    return long\n",
    "\n",
    "a = input(\"Enter a string: \")\n",
    "longestWord(a)"
   ]
  },
  {
   "cell_type": "code",
   "execution_count": 19,
   "id": "a68cde79-caea-4c62-9f05-23c747cd05b2",
   "metadata": {},
   "outputs": [
    {
     "name": "stdin",
     "output_type": "stream",
     "text": [
      "Enter a string:  I wANT To pick and gaTHer All the PrETty Words and giVe Them to YOu\n"
     ]
    },
    {
     "name": "stdout",
     "output_type": "stream",
     "text": [
      "Uppercase Letters: 16\n",
      "Lowercase Letters: 37\n"
     ]
    }
   ],
   "source": [
    "# 15. Write a function to count uppercase and lowercase letters in a string.\n",
    "def countLetter(s):\n",
    "    upper = 0\n",
    "    lower = 0\n",
    "    for i in s:\n",
    "        if i.isupper():\n",
    "            upper += 1\n",
    "        elif i.islower():\n",
    "            lower += 1\n",
    "    print(\"Uppercase Letters:\", upper)\n",
    "    print(\"Lowercase Letters:\", lower)\n",
    "\n",
    "a = input(\"Enter a string: \")\n",
    "countLetter(a)"
   ]
  },
  {
   "cell_type": "markdown",
   "id": "a209dde4-1311-4797-947f-99d87b382e45",
   "metadata": {},
   "source": [
    "# Patterns/Logic"
   ]
  },
  {
   "cell_type": "code",
   "execution_count": 20,
   "id": "a27aa8da-08df-40c8-923f-4102be6b66e3",
   "metadata": {},
   "outputs": [
    {
     "name": "stdin",
     "output_type": "stream",
     "text": [
      "Enter number of rows:  9\n"
     ]
    },
    {
     "name": "stdout",
     "output_type": "stream",
     "text": [
      "* \n",
      "* * \n",
      "* * * \n",
      "* * * * \n",
      "* * * * * \n",
      "* * * * * * \n",
      "* * * * * * * \n",
      "* * * * * * * * \n",
      "* * * * * * * * * \n"
     ]
    }
   ],
   "source": [
    "# 16. Write a program to print a right-angled triangle pattern with *.\n",
    "def pattern1(n):\n",
    "    for i in range(1, n+1):\n",
    "        for j in range(1, i+1):\n",
    "            print(\"*\", end=' ')\n",
    "        print()\n",
    "\n",
    "n = int(input(\"Enter number of rows: \"))\n",
    "pattern1(n)"
   ]
  },
  {
   "cell_type": "code",
   "execution_count": 22,
   "id": "f6990381-2a46-4587-85e7-6e832d0c909b",
   "metadata": {},
   "outputs": [
    {
     "name": "stdin",
     "output_type": "stream",
     "text": [
      "Enter number of rows:  5\n"
     ]
    },
    {
     "name": "stdout",
     "output_type": "stream",
     "text": [
      "        1 \n",
      "      1 2 1 \n",
      "    1 2 3 2 1 \n",
      "  1 2 3 4 3 2 1 \n",
      "1 2 3 4 5 4 3 2 1 \n"
     ]
    }
   ],
   "source": [
    "# 17. Write a program to print a pyramid of numbers.\n",
    "def pattern2(n):\n",
    "    for i in range(1, n+1):\n",
    "        for j in range(n-i):\n",
    "            print(\" \", end=' ')\n",
    "        for k in range(1, i+1):\n",
    "            print(k, end=' ')\n",
    "        for l in range(i-1, 0, -1):\n",
    "            print(l, end=' ')\n",
    "        print()\n",
    "\n",
    "n = int(input(\"Enter number of rows: \"))\n",
    "pattern2(n)"
   ]
  },
  {
   "cell_type": "code",
   "execution_count": 23,
   "id": "baa202f2-646f-4f3e-a102-355e66700346",
   "metadata": {},
   "outputs": [
    {
     "name": "stdin",
     "output_type": "stream",
     "text": [
      "Enter number of rows:  5\n"
     ]
    },
    {
     "name": "stdout",
     "output_type": "stream",
     "text": [
      "    1 \n",
      "   1 1 \n",
      "  1 2 1 \n",
      " 1 3 3 1 \n",
      "1 4 6 4 1 \n"
     ]
    }
   ],
   "source": [
    "# 18. Write a function to print the first n rows of Pascal’s Triangle.\n",
    "def numFact(n):\n",
    "    if n==0 or n==1:\n",
    "        return 1\n",
    "    return n*numFact(n-1)\n",
    "\n",
    "def pascalTri(n):\n",
    "    for i in range(n):\n",
    "        for j in range(n-i-1):\n",
    "            print(end=' ')\n",
    "        for k in range(i+1):\n",
    "            # nCr = n!/((n-r)!*r!)\n",
    "            print(numFact(i)//(numFact(k)*numFact(i-k)), end=' ')\n",
    "        print()\n",
    "\n",
    "n = int(input(\"Enter number of rows: \"))\n",
    "pascalTri(n)"
   ]
  },
  {
   "cell_type": "code",
   "execution_count": 24,
   "id": "81477633-eef3-4490-87bc-c29a20b89ca6",
   "metadata": {},
   "outputs": [
    {
     "name": "stdin",
     "output_type": "stream",
     "text": [
      "Enter a number:  10\n"
     ]
    },
    {
     "name": "stdout",
     "output_type": "stream",
     "text": [
      "Multiplication table\n",
      "1 x 1 = 1\n",
      "1 x 2 = 2\n",
      "1 x 3 = 3\n",
      "1 x 4 = 4\n",
      "1 x 5 = 5\n",
      "1 x 6 = 6\n",
      "1 x 7 = 7\n",
      "1 x 8 = 8\n",
      "1 x 9 = 9\n",
      "1 x 10 = 10\n",
      "\n",
      "2 x 1 = 2\n",
      "2 x 2 = 4\n",
      "2 x 3 = 6\n",
      "2 x 4 = 8\n",
      "2 x 5 = 10\n",
      "2 x 6 = 12\n",
      "2 x 7 = 14\n",
      "2 x 8 = 16\n",
      "2 x 9 = 18\n",
      "2 x 10 = 20\n",
      "\n",
      "3 x 1 = 3\n",
      "3 x 2 = 6\n",
      "3 x 3 = 9\n",
      "3 x 4 = 12\n",
      "3 x 5 = 15\n",
      "3 x 6 = 18\n",
      "3 x 7 = 21\n",
      "3 x 8 = 24\n",
      "3 x 9 = 27\n",
      "3 x 10 = 30\n",
      "\n",
      "4 x 1 = 4\n",
      "4 x 2 = 8\n",
      "4 x 3 = 12\n",
      "4 x 4 = 16\n",
      "4 x 5 = 20\n",
      "4 x 6 = 24\n",
      "4 x 7 = 28\n",
      "4 x 8 = 32\n",
      "4 x 9 = 36\n",
      "4 x 10 = 40\n",
      "\n",
      "5 x 1 = 5\n",
      "5 x 2 = 10\n",
      "5 x 3 = 15\n",
      "5 x 4 = 20\n",
      "5 x 5 = 25\n",
      "5 x 6 = 30\n",
      "5 x 7 = 35\n",
      "5 x 8 = 40\n",
      "5 x 9 = 45\n",
      "5 x 10 = 50\n",
      "\n",
      "6 x 1 = 6\n",
      "6 x 2 = 12\n",
      "6 x 3 = 18\n",
      "6 x 4 = 24\n",
      "6 x 5 = 30\n",
      "6 x 6 = 36\n",
      "6 x 7 = 42\n",
      "6 x 8 = 48\n",
      "6 x 9 = 54\n",
      "6 x 10 = 60\n",
      "\n",
      "7 x 1 = 7\n",
      "7 x 2 = 14\n",
      "7 x 3 = 21\n",
      "7 x 4 = 28\n",
      "7 x 5 = 35\n",
      "7 x 6 = 42\n",
      "7 x 7 = 49\n",
      "7 x 8 = 56\n",
      "7 x 9 = 63\n",
      "7 x 10 = 70\n",
      "\n",
      "8 x 1 = 8\n",
      "8 x 2 = 16\n",
      "8 x 3 = 24\n",
      "8 x 4 = 32\n",
      "8 x 5 = 40\n",
      "8 x 6 = 48\n",
      "8 x 7 = 56\n",
      "8 x 8 = 64\n",
      "8 x 9 = 72\n",
      "8 x 10 = 80\n",
      "\n",
      "9 x 1 = 9\n",
      "9 x 2 = 18\n",
      "9 x 3 = 27\n",
      "9 x 4 = 36\n",
      "9 x 5 = 45\n",
      "9 x 6 = 54\n",
      "9 x 7 = 63\n",
      "9 x 8 = 72\n",
      "9 x 9 = 81\n",
      "9 x 10 = 90\n",
      "\n",
      "10 x 1 = 10\n",
      "10 x 2 = 20\n",
      "10 x 3 = 30\n",
      "10 x 4 = 40\n",
      "10 x 5 = 50\n",
      "10 x 6 = 60\n",
      "10 x 7 = 70\n",
      "10 x 8 = 80\n",
      "10 x 9 = 90\n",
      "10 x 10 = 100\n",
      "\n"
     ]
    }
   ],
   "source": [
    "# 19. Write a function to generate a multiplication table of size n x n (nested loop).\n",
    "def mulTable(n):\n",
    "    for i in range(1, n+1):\n",
    "        for j in range(1, n+1):\n",
    "            print(f\"{i} x {j} = {i*j}\")\n",
    "        print()\n",
    "\n",
    "n = int(input(\"Enter a number: \"))\n",
    "print(\"Multiplication table\")\n",
    "mulTable(n)"
   ]
  },
  {
   "cell_type": "code",
   "execution_count": 25,
   "id": "8bc512b8-9a1a-44e4-b086-280c336ce834",
   "metadata": {},
   "outputs": [
    {
     "name": "stdin",
     "output_type": "stream",
     "text": [
      "Enter number of rows:  4\n"
     ]
    },
    {
     "name": "stdout",
     "output_type": "stream",
     "text": [
      "1\n",
      "22\n",
      "333\n",
      "4444\n"
     ]
    }
   ],
   "source": [
    "# 20. Write a function to print the following pattern:\n",
    "'''\n",
    "1\n",
    "22\n",
    "333\n",
    "4444\n",
    "'''\n",
    "\n",
    "def pattern4(n):\n",
    "    for i in range(1, n+1):\n",
    "        for j in range(1, i+1):\n",
    "            print(i, end='')\n",
    "        print()\n",
    "\n",
    "n = int(input(\"Enter number of rows: \"))\n",
    "pattern4(n)"
   ]
  },
  {
   "cell_type": "code",
   "execution_count": null,
   "id": "3c86c429-6877-407a-8f78-088b7da9c110",
   "metadata": {},
   "outputs": [],
   "source": []
  }
 ],
 "metadata": {
  "kernelspec": {
   "display_name": "Python 3 (ipykernel)",
   "language": "python",
   "name": "python3"
  },
  "language_info": {
   "codemirror_mode": {
    "name": "ipython",
    "version": 3
   },
   "file_extension": ".py",
   "mimetype": "text/x-python",
   "name": "python",
   "nbconvert_exporter": "python",
   "pygments_lexer": "ipython3",
   "version": "3.11.7"
  }
 },
 "nbformat": 4,
 "nbformat_minor": 5
}
