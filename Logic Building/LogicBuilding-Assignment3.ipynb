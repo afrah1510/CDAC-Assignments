{
 "cells": [
  {
   "cell_type": "markdown",
   "id": "b6a976a5-bbde-4dbf-802c-220a849c1747",
   "metadata": {},
   "source": [
    "# Assignment 3"
   ]
  },
  {
   "cell_type": "markdown",
   "id": "459401df-6b39-4b50-9d57-a0aaee6c415c",
   "metadata": {},
   "source": [
    "# Functions"
   ]
  },
  {
   "cell_type": "code",
   "execution_count": 1,
   "id": "55e55321-7529-44e1-a726-6404ccf2fdde",
   "metadata": {},
   "outputs": [
    {
     "name": "stdout",
     "output_type": "stream",
     "text": [
      "Hello, Afrah!\n"
     ]
    }
   ],
   "source": [
    "# 1. Write a function greet(name) that prints \"Hello, <name>!\".\n",
    "def greet(name):\n",
    "    print(f\"Hello, {name}!\")\n",
    "\n",
    "greet(\"Afrah\")"
   ]
  },
  {
   "cell_type": "code",
   "execution_count": 2,
   "id": "8d5d0a84-d51a-40f2-8d78-f6e8a74b9dec",
   "metadata": {},
   "outputs": [
    {
     "data": {
      "text/plain": [
       "125"
      ]
     },
     "execution_count": 2,
     "metadata": {},
     "output_type": "execute_result"
    }
   ],
   "source": [
    "# 2. Write a function cube(n) that returns the cube of a number.\n",
    "def cube(n):\n",
    "    return n**3\n",
    "\n",
    "cube(5)"
   ]
  },
  {
   "cell_type": "code",
   "execution_count": 3,
   "id": "2fc0a4cd-3613-4d5c-ad07-f4b6a92223e7",
   "metadata": {},
   "outputs": [
    {
     "data": {
      "text/plain": [
       "60"
      ]
     },
     "execution_count": 3,
     "metadata": {},
     "output_type": "execute_result"
    }
   ],
   "source": [
    "# 3. Create a function sum_list(lst) that returns the sum of all numbers in a list.\n",
    "def sum_list(lst):\n",
    "    for i in lst:\n",
    "        i+=i\n",
    "    return i\n",
    "\n",
    "myList = [10, 20, 30]\n",
    "sum_list(myList)"
   ]
  },
  {
   "cell_type": "code",
   "execution_count": 4,
   "id": "0f24ef4b-a1fb-403a-943d-b4f8df052ea6",
   "metadata": {},
   "outputs": [
    {
     "data": {
      "text/plain": [
       "12.333333333333334"
      ]
     },
     "execution_count": 4,
     "metadata": {},
     "output_type": "execute_result"
    }
   ],
   "source": [
    "# 4. Write a function average(a, b, c) that returns the average of three numbers.\n",
    "def avg(a, b, c):\n",
    "    return (a+b+c)/3\n",
    "\n",
    "avg(10, 15, 12)"
   ]
  },
  {
   "cell_type": "code",
   "execution_count": 5,
   "id": "95f5096e-e5bd-48a5-938c-79552decafec",
   "metadata": {},
   "outputs": [
    {
     "name": "stdout",
     "output_type": "stream",
     "text": [
      "-2\n"
     ]
    }
   ],
   "source": [
    "# 5. Create a function min_of_two(a, b) that returns the smaller of two numbers.\n",
    "def min_of_two(a, b):\n",
    "    if a<b:\n",
    "        print(a)\n",
    "    else:\n",
    "        print(b)\n",
    "\n",
    "min_of_two(10, -2)"
   ]
  },
  {
   "cell_type": "code",
   "execution_count": 6,
   "id": "7e579d57-dc81-41f7-94dc-56506fcb7fb5",
   "metadata": {},
   "outputs": [
    {
     "data": {
      "text/plain": [
       "False"
      ]
     },
     "execution_count": 6,
     "metadata": {},
     "output_type": "execute_result"
    }
   ],
   "source": [
    "# 6. Write a function that checks if a number is prime (return True/False).\n",
    "def prime(n): \n",
    "    if n > 1: \n",
    "        for i in range(2,n): \n",
    "            if n%i == 0: \n",
    "                return False\n",
    "                break \n",
    "        else: \n",
    "            return True\n",
    "\n",
    "prime(63)"
   ]
  },
  {
   "cell_type": "code",
   "execution_count": 7,
   "id": "3bea2264-c68b-4f81-bf31-ccd659b070f8",
   "metadata": {},
   "outputs": [
    {
     "data": {
      "text/plain": [
       "1"
      ]
     },
     "execution_count": 7,
     "metadata": {},
     "output_type": "execute_result"
    }
   ],
   "source": [
    "# 7. Write a function count_words(s) that returns the number of words in a string.\n",
    "def count_words(s):\n",
    "    l = s.split(' ')\n",
    "    return len(l)\n",
    "\n",
    "count_words(\"Hiiiii\")"
   ]
  },
  {
   "cell_type": "code",
   "execution_count": 8,
   "id": "dc96d113-c743-421f-9eee-a58354edbc6e",
   "metadata": {},
   "outputs": [
    {
     "data": {
      "text/plain": [
       "'g'"
      ]
     },
     "execution_count": 8,
     "metadata": {},
     "output_type": "execute_result"
    }
   ],
   "source": [
    "# 8. Create a function last_char(s) that returns the last character of a string.\n",
    "def last_char(s):\n",
    "    return s[-1]\n",
    "\n",
    "last_char(\"It's raining\")"
   ]
  },
  {
   "cell_type": "markdown",
   "id": "85be6033-2835-46de-9421-ab9e82f59c9a",
   "metadata": {},
   "source": [
    "# Tuples"
   ]
  },
  {
   "cell_type": "code",
   "execution_count": 9,
   "id": "9910d290-c8f6-4306-a2bf-9766d05c0683",
   "metadata": {},
   "outputs": [
    {
     "data": {
      "text/plain": [
       "(1, 2, 3, 4, 5)"
      ]
     },
     "execution_count": 9,
     "metadata": {},
     "output_type": "execute_result"
    }
   ],
   "source": [
    "# 9. Create a tuple with numbers from 1 to 5 and print it.\n",
    "myTup = (1, 2, 3, 4, 5)\n",
    "myTup"
   ]
  },
  {
   "cell_type": "code",
   "execution_count": 10,
   "id": "a0de17ec-7410-4747-b488-8e9bd1373d8f",
   "metadata": {},
   "outputs": [
    {
     "data": {
      "text/plain": [
       "30"
      ]
     },
     "execution_count": 10,
     "metadata": {},
     "output_type": "execute_result"
    }
   ],
   "source": [
    "# 10. Write a program to access the third element of a tuple (10, 20, 30, 40, 50).\n",
    "myTup1 = (10, 20, 30, 40, 50)\n",
    "myTup1[2]"
   ]
  },
  {
   "cell_type": "code",
   "execution_count": 11,
   "id": "3e447729-bce8-48a0-a09c-599750d4d629",
   "metadata": {},
   "outputs": [
    {
     "data": {
      "text/plain": [
       "5"
      ]
     },
     "execution_count": 11,
     "metadata": {},
     "output_type": "execute_result"
    }
   ],
   "source": [
    "# 11. Write a program to find the length of a tuple.\n",
    "len(myTup1)"
   ]
  },
  {
   "cell_type": "code",
   "execution_count": 12,
   "id": "2ce9f219-7b10-4208-9906-46ab0f550609",
   "metadata": {},
   "outputs": [
    {
     "data": {
      "text/plain": [
       "[1, 2, 3]"
      ]
     },
     "execution_count": 12,
     "metadata": {},
     "output_type": "execute_result"
    }
   ],
   "source": [
    "# 12. Convert a tuple (1,2,3) into a list.\n",
    "myTup2 = (1, 2, 3)\n",
    "myL = list(myTup2)\n",
    "myL"
   ]
  },
  {
   "cell_type": "code",
   "execution_count": 13,
   "id": "0894c88f-804d-48fe-a96f-b8e50c5a75c2",
   "metadata": {},
   "outputs": [
    {
     "data": {
      "text/plain": [
       "(1, 2, 3, 4, 5, 6)"
      ]
     },
     "execution_count": 13,
     "metadata": {},
     "output_type": "execute_result"
    }
   ],
   "source": [
    "# 13. Concatenate two tuples (1,2,3) and (4,5,6).\n",
    "myTup3 = (4, 5, 6)\n",
    "myTup2 + myTup3"
   ]
  },
  {
   "cell_type": "code",
   "execution_count": 14,
   "id": "741e4e96-f462-4b84-9323-5806dde523de",
   "metadata": {},
   "outputs": [
    {
     "name": "stdout",
     "output_type": "stream",
     "text": [
      "False\n"
     ]
    }
   ],
   "source": [
    "# 14. Write a program to check if an element exists in a tuple.\n",
    "myTup4 = (8, -9, 45, 87, 23)\n",
    "\n",
    "if -2 in myTup4:\n",
    "    print(True)\n",
    "else:\n",
    "    print(False)"
   ]
  },
  {
   "cell_type": "markdown",
   "id": "edb9a92a-9d0d-4dca-99b9-7ef62c8f5bfe",
   "metadata": {},
   "source": [
    "# Dictionaries"
   ]
  },
  {
   "cell_type": "code",
   "execution_count": 15,
   "id": "ce40c313-e924-4cca-bf18-e30cf9fc72ea",
   "metadata": {},
   "outputs": [
    {
     "data": {
      "text/plain": [
       "{'Apple': 200, 'Mango': 150, 'Pear': 160}"
      ]
     },
     "execution_count": 15,
     "metadata": {},
     "output_type": "execute_result"
    }
   ],
   "source": [
    "# 15. Create a dictionary with three fruits and their prices, then print it.\n",
    "fruits = {\"Apple\": 200, \"Mango\": 150, \"Pear\": 160}\n",
    "fruits"
   ]
  },
  {
   "cell_type": "code",
   "execution_count": 16,
   "id": "e6bc6954-f40a-4203-a0ec-82784d174d8b",
   "metadata": {},
   "outputs": [
    {
     "data": {
      "text/plain": [
       "dict_values([200, 150, 160])"
      ]
     },
     "execution_count": 16,
     "metadata": {},
     "output_type": "execute_result"
    }
   ],
   "source": [
    "# 16. Write a program to print only the values of a dictionary.\n",
    "fruits.values()"
   ]
  },
  {
   "cell_type": "code",
   "execution_count": 17,
   "id": "63425b35-67be-4f86-a6e5-e8b555339088",
   "metadata": {},
   "outputs": [
    {
     "data": {
      "text/plain": [
       "{'Apple': 200, 'Mango': 150, 'Pear': 160, 'Custard Apple': 140}"
      ]
     },
     "execution_count": 17,
     "metadata": {},
     "output_type": "execute_result"
    }
   ],
   "source": [
    "# 17. Write a program to add a new key-value pair to a dictionary.\n",
    "fruits[\"Custard Apple\"] = 140\n",
    "fruits"
   ]
  },
  {
   "cell_type": "code",
   "execution_count": 18,
   "id": "1f5f50a4-13b5-4d67-860c-f11c4d54ac8d",
   "metadata": {},
   "outputs": [
    {
     "data": {
      "text/plain": [
       "'Rahul'"
      ]
     },
     "execution_count": 18,
     "metadata": {},
     "output_type": "execute_result"
    }
   ],
   "source": [
    "# 18. Given {\"name\": \"Rahul\", \"age\": 22}, print the value of \"name\".\n",
    "myDict = {\"name\" : \"Rahul\", \"Age\" : 22}\n",
    "myDict[\"name\"]"
   ]
  },
  {
   "cell_type": "code",
   "execution_count": 19,
   "id": "9241add9-5a2d-4356-b535-3ddf273f9122",
   "metadata": {},
   "outputs": [
    {
     "data": {
      "text/plain": [
       "{'name': 'Rahul'}"
      ]
     },
     "execution_count": 19,
     "metadata": {},
     "output_type": "execute_result"
    }
   ],
   "source": [
    "# 19. Write a program to delete a key from a dictionary.\n",
    "del myDict[\"Age\"]\n",
    "myDict"
   ]
  },
  {
   "cell_type": "code",
   "execution_count": 20,
   "id": "f57eb582-1e26-4a1a-984b-a4cf5aea066f",
   "metadata": {},
   "outputs": [
    {
     "data": {
      "text/plain": [
       "{1: 1, 2: 8, 3: 27, 4: 64, 5: 125}"
      ]
     },
     "execution_count": 20,
     "metadata": {},
     "output_type": "execute_result"
    }
   ],
   "source": [
    "# 20. Create a dictionary of squares of numbers from 1 to 5.\n",
    "sqrDict = {x: x**3 for x in range(1, 6)}\n",
    "sqrDict"
   ]
  },
  {
   "cell_type": "code",
   "execution_count": 21,
   "id": "c26b4fde-c64e-40dd-b1b4-44cb23a456b8",
   "metadata": {},
   "outputs": [
    {
     "data": {
      "text/plain": [
       "5"
      ]
     },
     "execution_count": 21,
     "metadata": {},
     "output_type": "execute_result"
    }
   ],
   "source": [
    "# 21. Write a program to count how many keys are in a dictionary.\n",
    "len(sqrDict)"
   ]
  },
  {
   "cell_type": "code",
   "execution_count": 22,
   "id": "42403943-0a0e-48bc-a0b5-a617e22282c5",
   "metadata": {},
   "outputs": [
    {
     "data": {
      "text/plain": [
       "{'apple': 2, 'banana': 5, 'mango': 7}"
      ]
     },
     "execution_count": 22,
     "metadata": {},
     "output_type": "execute_result"
    }
   ],
   "source": [
    "# 22. Given {\"apple\": 2, \"banana\": 5, \"mango\": 7}, increase the value of \"banana\" by 2.\n",
    "myFruit = {\"apple\": 2, \"banana\": 5, \"mango\": 7}\n",
    "myFruit"
   ]
  },
  {
   "cell_type": "code",
   "execution_count": 23,
   "id": "4d355b33-0095-4d12-9aa5-b0985faf3a55",
   "metadata": {},
   "outputs": [
    {
     "data": {
      "text/plain": [
       "{'apple': 2, 'banana': 7, 'mango': 7}"
      ]
     },
     "execution_count": 23,
     "metadata": {},
     "output_type": "execute_result"
    }
   ],
   "source": [
    "myFruit[\"banana\"] += 2\n",
    "myFruit"
   ]
  },
  {
   "cell_type": "markdown",
   "id": "c47b10c2-107f-43a9-a2ea-a654cc9447f8",
   "metadata": {},
   "source": [
    "# Operators"
   ]
  },
  {
   "cell_type": "markdown",
   "id": "f4f6b133-646c-4f58-a302-cd1a4ce7e37b",
   "metadata": {},
   "source": [
    "# A. Arithmetic Operators"
   ]
  },
  {
   "cell_type": "code",
   "execution_count": 24,
   "id": "6cb72b6f-7762-4f67-8d9d-5d7533e0d8bf",
   "metadata": {},
   "outputs": [
    {
     "name": "stdin",
     "output_type": "stream",
     "text": [
      "Enter a number:  12\n",
      "Enter a number:  15\n"
     ]
    },
    {
     "name": "stdout",
     "output_type": "stream",
     "text": [
      "Product =  180\n"
     ]
    }
   ],
   "source": [
    "# 23. Input two numbers and print their product.\n",
    "a = int(input(\"Enter a number: \"))\n",
    "b = int(input(\"Enter a number: \"))\n",
    "\n",
    "print(\"Product = \", a*b)"
   ]
  },
  {
   "cell_type": "code",
   "execution_count": 25,
   "id": "e240df8e-e2aa-4818-b889-623487b4d635",
   "metadata": {},
   "outputs": [
    {
     "name": "stdin",
     "output_type": "stream",
     "text": [
      "Enter length:  15\n",
      "Enter breadth:  30\n"
     ]
    },
    {
     "name": "stdout",
     "output_type": "stream",
     "text": [
      "Perimeter = 90\n"
     ]
    }
   ],
   "source": [
    "# 24. Write a program to calculate the perimeter of a rectangle.\n",
    "l = int(input(\"Enter length: \"))\n",
    "b = int(input(\"Enter breadth: \"))\n",
    "per = 2*l + 2*b\n",
    "print(\"Perimeter =\",per)"
   ]
  },
  {
   "cell_type": "code",
   "execution_count": 26,
   "id": "31f406db-d818-4acd-8ef1-a1404775fdf9",
   "metadata": {},
   "outputs": [
    {
     "name": "stdin",
     "output_type": "stream",
     "text": [
      "Enter a number:  25\n",
      "Enter a number:  4\n"
     ]
    },
    {
     "name": "stdout",
     "output_type": "stream",
     "text": [
      "Remainder: 1\n"
     ]
    }
   ],
   "source": [
    "# 25. Find the remainder when 25 is divided by 4.\n",
    "a = int(input(\"Enter a number: \"))\n",
    "b = int(input(\"Enter a number: \"))\n",
    "\n",
    "print(\"Remainder:\", a%b)"
   ]
  },
  {
   "cell_type": "markdown",
   "id": "046f28e5-3856-4f15-b078-2e08b87dc17a",
   "metadata": {},
   "source": [
    "# B. Bitwise Operators"
   ]
  },
  {
   "cell_type": "code",
   "execution_count": 27,
   "id": "a15fb142-012f-4b9a-8f10-57cf150bf165",
   "metadata": {},
   "outputs": [
    {
     "name": "stdin",
     "output_type": "stream",
     "text": [
      "Enter a number:  12\n"
     ]
    },
    {
     "name": "stdout",
     "output_type": "stream",
     "text": [
      "Binary = 0b1100\n"
     ]
    }
   ],
   "source": [
    "# 26. Print the binary representation of a number using bin().\n",
    "a = int(input(\"Enter a number: \"))\n",
    "print(\"Binary =\", bin(a))"
   ]
  },
  {
   "cell_type": "code",
   "execution_count": 28,
   "id": "71e63ecd-0ea5-4e94-b4c7-e7ad9a5a609a",
   "metadata": {},
   "outputs": [
    {
     "data": {
      "text/plain": [
       "3"
      ]
     },
     "execution_count": 28,
     "metadata": {},
     "output_type": "execute_result"
    }
   ],
   "source": [
    "# 27. Use bitwise AND (&) on two numbers 7 and 3.\n",
    "7 & 3"
   ]
  },
  {
   "cell_type": "code",
   "execution_count": 29,
   "id": "33b7eb2d-86e3-44e5-8fc7-44fcf9510913",
   "metadata": {},
   "outputs": [
    {
     "data": {
      "text/plain": [
       "7"
      ]
     },
     "execution_count": 29,
     "metadata": {},
     "output_type": "execute_result"
    }
   ],
   "source": [
    "# 28. Use bitwise OR (|) on two numbers 7 and 3.\n",
    "7 | 3"
   ]
  },
  {
   "cell_type": "markdown",
   "id": "9d29ec08-6571-4fe9-9caa-473f2ec0677c",
   "metadata": {},
   "source": [
    "# Conditional (Ternary) Operators"
   ]
  },
  {
   "cell_type": "code",
   "execution_count": 30,
   "id": "929ca3a2-e015-457e-9e16-6b00bf58d121",
   "metadata": {},
   "outputs": [
    {
     "name": "stdin",
     "output_type": "stream",
     "text": [
      "Enter a number:  -999999\n"
     ]
    },
    {
     "name": "stdout",
     "output_type": "stream",
     "text": [
      "Negative\n"
     ]
    }
   ],
   "source": [
    "# 29. Write a one-liner using ternary operator to check if a number is positive or negative.\n",
    "num = int(input(\"Enter a number: \"))\n",
    "res = \"Positive\" if num>0 else \"Negative\"\n",
    "print(res)"
   ]
  },
  {
   "cell_type": "code",
   "execution_count": 31,
   "id": "2d1d443d-4145-4681-9750-a54357933b61",
   "metadata": {},
   "outputs": [
    {
     "name": "stdin",
     "output_type": "stream",
     "text": [
      "Enter marks:  95\n"
     ]
    },
    {
     "name": "stdout",
     "output_type": "stream",
     "text": [
      "Pass\n"
     ]
    }
   ],
   "source": [
    "# 30. Using ternary operator, print \"Pass\" if marks ≥ 40 else \"Fail\".\n",
    "marks = int(input(\"Enter marks: \"))\n",
    "res = \"Pass\" if marks >= 40 else \"Fail\"\n",
    "print(res)"
   ]
  },
  {
   "cell_type": "markdown",
   "id": "35061cc7-27fa-4bab-9cac-ecdb77ff2d2a",
   "metadata": {},
   "source": [
    "# Logical Python Questions"
   ]
  },
  {
   "cell_type": "code",
   "execution_count": 32,
   "id": "8efee6d5-0652-4185-8086-887bcb3efb9d",
   "metadata": {},
   "outputs": [
    {
     "name": "stdout",
     "output_type": "stream",
     "text": [
      "63 is not prime\n"
     ]
    }
   ],
   "source": [
    "# 1. Write a function is_prime(n) that checks if a number is prime.\n",
    "def is_prime(n): \n",
    "    if n > 1: \n",
    "        for i in range(2,n): \n",
    "            if n%i == 0: \n",
    "                print(n,\"is not prime\")\n",
    "                break \n",
    "        else: \n",
    "            print(n,\"is prime\")\n",
    "\n",
    "is_prime(63)"
   ]
  },
  {
   "cell_type": "code",
   "execution_count": 33,
   "id": "859db971-cf30-4bc5-9dc3-872c334ca02e",
   "metadata": {},
   "outputs": [
    {
     "name": "stdin",
     "output_type": "stream",
     "text": [
      "Enter a number:  121121\n"
     ]
    },
    {
     "name": "stdout",
     "output_type": "stream",
     "text": [
      "Number is palindrome\n"
     ]
    }
   ],
   "source": [
    "# 2. Write a function to check whether a number is a palindrome (e.g., 121 → Palindrome).\n",
    "def is_palindrome(n):\n",
    "    b = str(n)\n",
    "    if b == b[::-1]:\n",
    "        print(\"Number is palindrome\")\n",
    "    else:\n",
    "        print(\"Number is not palindrome\")\n",
    "\n",
    "a = int(input(\"Enter a number: \"))\n",
    "is_palindrome(a)"
   ]
  },
  {
   "cell_type": "code",
   "execution_count": 34,
   "id": "e9f2ab2d-6b88-4352-a536-1bd090ef2304",
   "metadata": {},
   "outputs": [
    {
     "name": "stdin",
     "output_type": "stream",
     "text": [
      "Enter a string:  madam\n"
     ]
    },
    {
     "name": "stdout",
     "output_type": "stream",
     "text": [
      "String is palindrome\n"
     ]
    }
   ],
   "source": [
    "# 3. Write a function to check if a string is a palindrome (\"madam\" → True).\n",
    "def is_palindrome(s):\n",
    "    if s == s[::-1]:\n",
    "        print(\"String is palindrome\")\n",
    "    else:\n",
    "        print(\"String is not palindrome\")\n",
    "\n",
    "a = input(\"Enter a string: \")\n",
    "is_palindrome(a)"
   ]
  },
  {
   "cell_type": "code",
   "execution_count": 35,
   "id": "6bad2df5-e02c-432c-90cd-cc5054e2e561",
   "metadata": {},
   "outputs": [
    {
     "name": "stdin",
     "output_type": "stream",
     "text": [
      "Enter a number:  15\n"
     ]
    },
    {
     "data": {
      "text/plain": [
       "1307674368000"
      ]
     },
     "execution_count": 35,
     "metadata": {},
     "output_type": "execute_result"
    }
   ],
   "source": [
    "# 4. Write a function factorial(n) that calculates factorial using a loop.\n",
    "def numFact(n):\n",
    "    if n==0 or n==1:\n",
    "        return 1\n",
    "    return n*numFact(n-1)\n",
    "\n",
    "a = int(input(\"Enter a number: \"))\n",
    "numFact(a)"
   ]
  },
  {
   "cell_type": "code",
   "execution_count": 36,
   "id": "5a72ccb5-4175-4074-8e39-3acb3ade289d",
   "metadata": {},
   "outputs": [
    {
     "name": "stdin",
     "output_type": "stream",
     "text": [
      "Enter a number:  12\n"
     ]
    },
    {
     "name": "stdout",
     "output_type": "stream",
     "text": [
      "0\n",
      "1\n",
      "1\n",
      "2\n",
      "3\n",
      "5\n",
      "8\n",
      "13\n",
      "21\n",
      "34\n",
      "55\n"
     ]
    }
   ],
   "source": [
    "# 5. Write a function to print the first n terms of the Fibonacci series.\n",
    "def fibNum(n):\n",
    "    a = 0\n",
    "    b = 1\n",
    "    i = 1\n",
    "    \n",
    "    while i < n:\n",
    "        print(a)\n",
    "        a, b = b, a + b\n",
    "        i+=1\n",
    "\n",
    "n = int(input(\"Enter a number: \"))\n",
    "fibNum(n)"
   ]
  },
  {
   "cell_type": "code",
   "execution_count": 37,
   "id": "40912f26-ae4b-49de-b589-1586ae9bc12b",
   "metadata": {},
   "outputs": [
    {
     "name": "stdin",
     "output_type": "stream",
     "text": [
      "Enter a number:  153\n"
     ]
    },
    {
     "name": "stdout",
     "output_type": "stream",
     "text": [
      "Number is an Armstrong Number\n"
     ]
    }
   ],
   "source": [
    "# 6. Write a function to check if a number is an Armstrong number (e.g., 153 = 1³+5³+3³).\n",
    "def armstrongNum(n):\n",
    "    b = str(n)\n",
    "    num_sum= sum(int(i)**len(b) for i in b)\n",
    "    if num_sum== n:\n",
    "        print(\"Number is an Armstrong Number\")\n",
    "    else:\n",
    "        print(\"Number is not an Armstrong Number\")\n",
    "\n",
    "a = int(input(\"Enter a number: \"))\n",
    "armstrongNum(a)"
   ]
  },
  {
   "cell_type": "code",
   "execution_count": 38,
   "id": "679146fd-490f-4174-bed0-1e8dd43f6399",
   "metadata": {},
   "outputs": [
    {
     "name": "stdin",
     "output_type": "stream",
     "text": [
      "Enter a number:  4793\n"
     ]
    },
    {
     "name": "stdout",
     "output_type": "stream",
     "text": [
      "23\n"
     ]
    }
   ],
   "source": [
    "# 7. Write a function to calculate the sum of digits of a number.\n",
    "def sum_of_num(num):\n",
    "    sum = 0\n",
    "    while num!=0:\n",
    "        last = num%10\n",
    "        sum = sum + last\n",
    "        num = num // 10\n",
    "    print(sum)\n",
    "\n",
    "n = int(input(\"Enter a number: \"))\n",
    "sum_of_num(n)"
   ]
  },
  {
   "cell_type": "code",
   "execution_count": 39,
   "id": "733618e0-5e32-416e-a0a8-ece769bf3077",
   "metadata": {},
   "outputs": [
    {
     "name": "stdin",
     "output_type": "stream",
     "text": [
      "Enter a number:  95732\n"
     ]
    },
    {
     "name": "stdout",
     "output_type": "stream",
     "text": [
      "23759\n"
     ]
    }
   ],
   "source": [
    "# 8. Write a function to reverse a number (e.g., 123 → 321).\n",
    "def rev_num(num):\n",
    "    revNum = 0\n",
    "    while num!=0:\n",
    "        last = num%10\n",
    "        revNum = revNum*10 + last\n",
    "        num = num // 10\n",
    "    print(revNum)\n",
    "\n",
    "n = int(input(\"Enter a number: \"))\n",
    "rev_num(n)"
   ]
  },
  {
   "cell_type": "code",
   "execution_count": 40,
   "id": "02c676f3-0ff3-45d2-b764-7269eca808a9",
   "metadata": {},
   "outputs": [
    {
     "name": "stdin",
     "output_type": "stream",
     "text": [
      "Enter a string:  wowowow\n"
     ]
    },
    {
     "name": "stdout",
     "output_type": "stream",
     "text": [
      "{'o': 3}\n"
     ]
    }
   ],
   "source": [
    "# 9. Write a function to count the number of vowels in a given string.\n",
    "def countVowel(s):\n",
    "    vowels = 'aeiou'\n",
    "    s = s.lower()\n",
    "    charVowel = {}\n",
    "    for i in s:\n",
    "        if i in vowels:\n",
    "            charVowel[i] = s.count(i)\n",
    "    print(charVowel)\n",
    "\n",
    "s = input(\"Enter a string: \")\n",
    "countVowel(s)"
   ]
  },
  {
   "cell_type": "code",
   "execution_count": 41,
   "id": "7e442de9-d3c3-469e-85a0-31575356841a",
   "metadata": {},
   "outputs": [
    {
     "name": "stdin",
     "output_type": "stream",
     "text": [
      "Enter a number:  56\n",
      "Enter another number:  98\n"
     ]
    },
    {
     "data": {
      "text/plain": [
       "14"
      ]
     },
     "execution_count": 41,
     "metadata": {},
     "output_type": "execute_result"
    }
   ],
   "source": [
    "# 10. Write a function gcd(a, b) that finds the greatest common divisor of two numbers using a loop.\n",
    "def gcd(a, b):\n",
    "    while b != 0:\n",
    "        a, b = b, a % b\n",
    "    return a\n",
    "\n",
    "a = int(input(\"Enter a number: \"))\n",
    "b = int(input(\"Enter another number: \"))\n",
    "gcd(a, b)"
   ]
  },
  {
   "cell_type": "code",
   "execution_count": null,
   "id": "c568d884-4a97-41a9-8f01-525e95bdf273",
   "metadata": {},
   "outputs": [],
   "source": []
  }
 ],
 "metadata": {
  "kernelspec": {
   "display_name": "Python 3 (ipykernel)",
   "language": "python",
   "name": "python3"
  },
  "language_info": {
   "codemirror_mode": {
    "name": "ipython",
    "version": 3
   },
   "file_extension": ".py",
   "mimetype": "text/x-python",
   "name": "python",
   "nbconvert_exporter": "python",
   "pygments_lexer": "ipython3",
   "version": "3.11.7"
  }
 },
 "nbformat": 4,
 "nbformat_minor": 5
}
