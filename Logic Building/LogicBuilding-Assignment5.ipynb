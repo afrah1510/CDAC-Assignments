{
 "cells": [
  {
   "cell_type": "markdown",
   "id": "b204a504-9cfa-45e5-b89c-92d04587f70b",
   "metadata": {},
   "source": [
    "# Assignment 5"
   ]
  },
  {
   "cell_type": "markdown",
   "id": "49f25e3e-aef3-465c-831b-3eafbe8a297b",
   "metadata": {},
   "source": [
    "# Numbers/Loops"
   ]
  },
  {
   "cell_type": "code",
   "execution_count": 1,
   "id": "c131fc97-0bc0-4343-ab5f-f9936cf6d251",
   "metadata": {},
   "outputs": [
    {
     "name": "stdin",
     "output_type": "stream",
     "text": [
      "Enter a number:  9\n"
     ]
    },
    {
     "name": "stdout",
     "output_type": "stream",
     "text": [
      "Number is not a Happy Number\n"
     ]
    }
   ],
   "source": [
    "# 1. Write a program to check whether a given number is a happy number.\n",
    "# (A happy number eventually reaches 1 when replaced by the sum of the squares of its digits repeatedly.)\n",
    "def sumsqr(n):\n",
    "    return sum(int(i)**2 for i in str(n))\n",
    "    \n",
    "def happy_no(b):\n",
    "    check = set()\n",
    "    while b != 1 and b not in check:\n",
    "        check.add(b)\n",
    "        b = sumsqr(b)\n",
    "    if b == 1:\n",
    "        print(\"Number is a Happy Number\")\n",
    "    else:\n",
    "        print(\"Number is not a Happy Number\")\n",
    "\n",
    "a = int(input(\"Enter a number: \"))\n",
    "happy_no(a)"
   ]
  },
  {
   "cell_type": "code",
   "execution_count": 2,
   "id": "f26d1e67-68a7-4f74-9b0b-5b572142a7e4",
   "metadata": {},
   "outputs": [
    {
     "name": "stdin",
     "output_type": "stream",
     "text": [
      "Enter a number:  8\n"
     ]
    },
    {
     "data": {
      "text/plain": [
       "21"
      ]
     },
     "execution_count": 2,
     "metadata": {},
     "output_type": "execute_result"
    }
   ],
   "source": [
    "# 2. Write a function to find the nth Fibonacci number using recursion.\n",
    "def fibNum(n):\n",
    "    if n==0 or n==1:\n",
    "        return n\n",
    "    return fibNum(n-1)+fibNum(n-2)\n",
    "\n",
    "n = int(input(\"Enter a number: \"))\n",
    "fibNum(n)"
   ]
  },
  {
   "cell_type": "code",
   "execution_count": 3,
   "id": "7ada8070-6f3f-417c-82be-b9fc9109abdf",
   "metadata": {},
   "outputs": [
    {
     "name": "stdout",
     "output_type": "stream",
     "text": [
      "Total count of palindrome numbers between 1 and 100: 18\n"
     ]
    }
   ],
   "source": [
    "# 3. Write a program to count how many numbers between 1 and 100 are palindromes.\n",
    "def is_palindrome(n):\n",
    "    b = str(n)\n",
    "    if b == b[::-1]:\n",
    "        return True\n",
    "    else:\n",
    "        return False\n",
    "\n",
    "count = 0\n",
    "for i in range(1, 100):\n",
    "    if is_palindrome(i) == True:\n",
    "        count += 1\n",
    "\n",
    "print(\"Total count of palindrome numbers between 1 and 100:\", count)"
   ]
  },
  {
   "cell_type": "code",
   "execution_count": 4,
   "id": "cee283f4-b1cc-462a-8266-dc4ece9377ce",
   "metadata": {},
   "outputs": [
    {
     "name": "stdout",
     "output_type": "stream",
     "text": [
      "Enter number for list (-1 to quit)\n"
     ]
    },
    {
     "name": "stdin",
     "output_type": "stream",
     "text": [
      "Enter a number:  12\n",
      "Enter a number:  -567\n",
      "Enter a number:  343\n",
      "Enter a number:  682\n",
      "Enter a number:  -34999\n",
      "Enter a number:  -1\n"
     ]
    },
    {
     "name": "stdout",
     "output_type": "stream",
     "text": [
      "\n",
      "Smallest Number: -34999\n",
      "Largest Number: 682\n"
     ]
    }
   ],
   "source": [
    "# 4. Write a program to find the smallest and largest numbers in a given list without using built-in functions like min() or max().\n",
    "def minmax(l):\n",
    "    min = max = l[0]\n",
    "    for i in l:\n",
    "        if i <= min:\n",
    "            min = i\n",
    "        if i >= max:\n",
    "            max = i\n",
    "    print()\n",
    "    print(\"Smallest Number:\", min)\n",
    "    print(\"Largest Number:\", max)\n",
    "\n",
    "l = []\n",
    "print(\"Enter number for list (-1 to quit)\")\n",
    "x = 0\n",
    "while True:\n",
    "    x = int(input(\"Enter a number: \"))\n",
    "    if x == -1:\n",
    "        break\n",
    "    l.append(x)\n",
    "\n",
    "minmax(l)"
   ]
  },
  {
   "cell_type": "code",
   "execution_count": 5,
   "id": "238bb6d5-aa5f-467f-bec2-d4db7f2fddfc",
   "metadata": {},
   "outputs": [
    {
     "name": "stdin",
     "output_type": "stream",
     "text": [
      "Enter a number:  81\n"
     ]
    },
    {
     "name": "stdout",
     "output_type": "stream",
     "text": [
      "Number is not Kaprekar Number\n"
     ]
    }
   ],
   "source": [
    "# 5. Write a function to check whether a given number is a Kaprekar number.\n",
    "# (A number whose square can be split into two parts that add up to the original number.)\n",
    "def kaprekar(n):\n",
    "    if n == 1:\n",
    "        print(\"Number is Kaprekar Number\")\n",
    "        return\n",
    "    a = str(n**2)\n",
    "    for i in range(1, len(a)):\n",
    "        c = a[:i]\n",
    "        d = a[i:]\n",
    "        x, y = int(c), int(d)\n",
    "        if (x+y) == n and y!=0:\n",
    "            print(\"Number is Kaprekar Number\")\n",
    "            return\n",
    "    print(\"Number is not Kaprekar Number\")\n",
    "\n",
    "n = int(input(\"Enter a number: \"))\n",
    "kaprekar(n)"
   ]
  },
  {
   "cell_type": "markdown",
   "id": "fa5e7aa9-7405-4fc5-908e-d75ee1ef4ae3",
   "metadata": {},
   "source": [
    "# Strings"
   ]
  },
  {
   "cell_type": "code",
   "execution_count": 6,
   "id": "e62be739-b8a0-4413-8c45-3f6c527c5b66",
   "metadata": {},
   "outputs": [
    {
     "name": "stdin",
     "output_type": "stream",
     "text": [
      "Enter a string:  world\n"
     ]
    },
    {
     "name": "stdout",
     "output_type": "stream",
     "text": [
      "{'w', 'orld', 'rld', 'wo', 'd', 'rl', 'l', 'o', 'ld', 'or', 'wor', 'orl', 'r', 'worl', 'world'}\n"
     ]
    }
   ],
   "source": [
    "# 6. Write a program to find all unique substrings of a given string.\n",
    "def substring(s):\n",
    "    substring = set()\n",
    "    for i in range(len(s)):\n",
    "        sub = ''\n",
    "        for j in range(i, len(s)):\n",
    "            sub += s[j]\n",
    "            substring.add(sub)\n",
    "    print(substring)\n",
    "\n",
    "s = input(\"Enter a string: \")\n",
    "substring(s)"
   ]
  },
  {
   "cell_type": "code",
   "execution_count": 7,
   "id": "5d8f3965-fa39-47ef-ba18-900fb5a74eae",
   "metadata": {},
   "outputs": [
    {
     "name": "stdin",
     "output_type": "stream",
     "text": [
      "Enter a string:  Python is fun\n"
     ]
    },
    {
     "data": {
      "text/plain": [
       "'nohtyP si nuf'"
      ]
     },
     "execution_count": 7,
     "metadata": {},
     "output_type": "execute_result"
    }
   ],
   "source": [
    "# 7. Write a function to reverse each word in a sentence without changing the word order.\n",
    "# *(Example: \"Python is fun\" → \"nohtyP si nuf\")\n",
    "def reverseString(s):\n",
    "    a = s.split(' ')\n",
    "    rev = []\n",
    "    for i in a:\n",
    "        rev.append(i[::-1])\n",
    "    return ' '.join(rev)\n",
    "\n",
    "s = input(\"Enter a string: \")\n",
    "reverseString(s)"
   ]
  },
  {
   "cell_type": "code",
   "execution_count": 8,
   "id": "39da8993-56f7-447b-845f-1169a51278c6",
   "metadata": {},
   "outputs": [
    {
     "name": "stdin",
     "output_type": "stream",
     "text": [
      "Enter a string:  The quick brown fox jumps over the lazy dog\n"
     ]
    },
    {
     "name": "stdout",
     "output_type": "stream",
     "text": [
      "String is a pangram\n"
     ]
    }
   ],
   "source": [
    "# 8. Write a function to check if a string is a pangram.\n",
    "# (A pangram contains every letter of the English alphabet at least once.)\n",
    "def pangram(s):\n",
    "    char = 'abcdefghijklmnopqrstuvwxyz'\n",
    "    for i in char:\n",
    "        if i not in s.lower():\n",
    "            print(\"String is not a pangram\")\n",
    "            return\n",
    "    print(\"String is a pangram\")\n",
    "\n",
    "s = input(\"Enter a string: \")\n",
    "pangram(s)"
   ]
  },
  {
   "cell_type": "code",
   "execution_count": 9,
   "id": "695eb4eb-a09c-4052-b5cb-b9ad12738cb2",
   "metadata": {},
   "outputs": [
    {
     "name": "stdin",
     "output_type": "stream",
     "text": [
      "Enter a string:  john_doe123.world.tech@xyz!!!\n"
     ]
    },
    {
     "name": "stdout",
     "output_type": "stream",
     "text": [
      "Number of alphabets: 19\n",
      "Number of digits: 3\n",
      "Number of special: 7\n"
     ]
    }
   ],
   "source": [
    "# 9. Write a program to count the number of words, digits, and special characters in a string.\n",
    "def countChar(s):\n",
    "    word = 0\n",
    "    digit = 0\n",
    "    special = 0\n",
    "    for i in s:\n",
    "        if i.isalpha():\n",
    "            word += 1\n",
    "        elif i.isdigit():\n",
    "            digit += 1\n",
    "        else:\n",
    "            special += 1\n",
    "    print(\"Number of alphabets:\", word)\n",
    "    print(\"Number of digits:\", digit)\n",
    "    print(\"Number of special:\", special)\n",
    "\n",
    "s = input(\"Enter a string: \")\n",
    "countChar(s)"
   ]
  },
  {
   "cell_type": "code",
   "execution_count": 10,
   "id": "56dca01d-fcde-449a-9dd4-2501040ae4d6",
   "metadata": {},
   "outputs": [
    {
     "name": "stdin",
     "output_type": "stream",
     "text": [
      "Enter a string:  aaaabbccccaaddef\n"
     ]
    },
    {
     "data": {
      "text/plain": [
       "'a4b2c4a2d2e1f1'"
      ]
     },
     "execution_count": 10,
     "metadata": {},
     "output_type": "execute_result"
    }
   ],
   "source": [
    "# 10. Write a function to compress a string using counts of repeated characters.\n",
    "# *(Example: \"aaabbcddd\" → \"a3b2c1d3\")\n",
    "def compressStr(s):\n",
    "    if len(s) == 0:\n",
    "        return \"String is empty\"\n",
    "    result = \"\"\n",
    "    count = 1\n",
    "    for i in range(1, len(s)):\n",
    "        if s[i] == s[i - 1]:\n",
    "            count += 1\n",
    "        else:\n",
    "            result += s[i - 1] + str(count)\n",
    "            count = 1\n",
    "    result += s[-1] + str(count)\n",
    "    return result\n",
    "\n",
    "s = input(\"Enter a string: \")\n",
    "compressStr(s)"
   ]
  },
  {
   "cell_type": "markdown",
   "id": "d04f3cf2-20b8-4bb3-b283-bc460ac2b410",
   "metadata": {},
   "source": [
    "# Patterns/Logic"
   ]
  },
  {
   "cell_type": "code",
   "execution_count": 11,
   "id": "f8872035-9e87-4a7e-8fdc-b20bbbd65477",
   "metadata": {},
   "outputs": [
    {
     "name": "stdin",
     "output_type": "stream",
     "text": [
      "Enter number of rows:  5\n"
     ]
    },
    {
     "name": "stdout",
     "output_type": "stream",
     "text": [
      "*****\n",
      "****\n",
      "***\n",
      "**\n",
      "*\n"
     ]
    }
   ],
   "source": [
    "# 11. Write a program to print an inverted pyramid of stars. (For n=5)\n",
    "'''\n",
    "*****\n",
    "****\n",
    "***\n",
    "**\n",
    "*\n",
    "'''\n",
    "def pattern1(n):\n",
    "    for i in range(n):\n",
    "        for j in range(n-i):\n",
    "            print(\"*\", end='')\n",
    "        print()\n",
    "\n",
    "n = int(input(\"Enter number of rows: \"))\n",
    "pattern1(n)"
   ]
  },
  {
   "cell_type": "code",
   "execution_count": 12,
   "id": "cdfe3f6e-7c31-42b7-9f80-3e0359627cd9",
   "metadata": {},
   "outputs": [
    {
     "name": "stdin",
     "output_type": "stream",
     "text": [
      "Enter number of rows:  3\n"
     ]
    },
    {
     "name": "stdout",
     "output_type": "stream",
     "text": [
      "  *\n",
      " ***\n",
      "*****\n",
      " ***\n",
      "  *\n"
     ]
    }
   ],
   "source": [
    "# 12. Write a program to generate a diamond-shaped star pattern. (For n=3)\n",
    "'''\n",
    "  *\n",
    " ***\n",
    "*****\n",
    " ***\n",
    "  *\n",
    "'''\n",
    "def pattern2(n):\n",
    "    for i in range(1, n+1):\n",
    "        for j in range(n-i):\n",
    "            print(\" \", end='')\n",
    "        for k in range(2*i-1):\n",
    "            print(\"*\", end='')\n",
    "        print()\n",
    "        \n",
    "    for i in range(n-1, 0, -1):\n",
    "        for j in range(n-i):\n",
    "            print(\" \", end='')\n",
    "        for k in range(2*i-1):\n",
    "            print(\"*\", end='')\n",
    "        print()\n",
    "        \n",
    "n = int(input(\"Enter number of rows: \"))\n",
    "pattern2(n)"
   ]
  },
  {
   "cell_type": "code",
   "execution_count": 13,
   "id": "2b9612c9-383b-4db7-b1c4-70d95f7934d6",
   "metadata": {},
   "outputs": [
    {
     "name": "stdout",
     "output_type": "stream",
     "text": [
      "1 2 3\n",
      "8 9 4\n",
      "7 6 5\n"
     ]
    }
   ],
   "source": [
    "# 13. Write a function to print a spiral matrix of size n × n. (For n=3)\n",
    "'''\n",
    "1  2  3\n",
    "8  9  4\n",
    "7  6  5\n",
    "'''\n",
    "def print_spiral_matrix(n):\n",
    "    matrix = [[0 for i in range(n)] for j in range(n)]\n",
    "    top = 0\n",
    "    bottom = n\n",
    "    left = 0\n",
    "    right = n\n",
    "    num = 1\n",
    "\n",
    "    while top <= bottom and left <= right:\n",
    "        for i in range(left, right):\n",
    "            matrix[top][i] = num\n",
    "            num += 1\n",
    "        top += 1\n",
    "\n",
    "        for i in range(top, bottom):\n",
    "            matrix[i][right-1] = num\n",
    "            num += 1\n",
    "        right -= 1\n",
    "\n",
    "        if top <= bottom:\n",
    "            for i in range(right-1, left - 1, -1):\n",
    "                matrix[bottom-1][i] = num\n",
    "                num += 1\n",
    "            bottom -= 1\n",
    "\n",
    "        if left <= right:\n",
    "            for i in range(bottom-1, top - 1, -1):\n",
    "                matrix[i][left] = num\n",
    "                num += 1\n",
    "            left += 1\n",
    "\n",
    "    for row in matrix:\n",
    "        print(*row)\n",
    "\n",
    "print_spiral_matrix(3)"
   ]
  },
  {
   "cell_type": "code",
   "execution_count": 14,
   "id": "7dbaf8a0-dab3-4271-bc90-1c19182792a1",
   "metadata": {},
   "outputs": [
    {
     "name": "stdout",
     "output_type": "stream",
     "text": [
      "Valid Sudoku board\n"
     ]
    }
   ],
   "source": [
    "# 14. Write a function to check if a Sudoku row, column, or grid is valid. (Input: a list of 9 numbers, output: True/False)\n",
    "def checkRowColGrid(a):\n",
    "    return sorted(a) == list(range(1, 10))\n",
    "\n",
    "def getGrid(b, row, col):\n",
    "    grid = []\n",
    "    for i in range(3):\n",
    "        for j in range(3):\n",
    "            grid.append(b[row+i][col+j])\n",
    "    return grid\n",
    "\n",
    "def checkSudoku(b):\n",
    "    for i in range(9):\n",
    "        for j in range(9):\n",
    "            rows = b[i]\n",
    "            cols = [b[j][i] for j in range(9)]\n",
    "            if not checkRowColGrid(rows):\n",
    "                print(\"Invalid row at index\", i)\n",
    "                return False\n",
    "            if not checkRowColGrid(cols):\n",
    "                print(\"Invalid column at index\", i)\n",
    "                return False\n",
    "                \n",
    "    for m in range(0, 9, 3):\n",
    "        for n in range(0, 9, 3):\n",
    "            grids = getGrid(b, m, n)\n",
    "            if not checkRowColGrid(grids):\n",
    "                print(\"Invalid grid at\", m, n)\n",
    "                return False\n",
    "    return True\n",
    "\n",
    "b = [[5, 3, 4, 6, 7, 8, 9, 1, 2],\n",
    "     [6, 7, 2, 1, 9, 5, 3, 4, 8],\n",
    "     [1, 9, 8, 3, 4, 2, 5, 6, 7],\n",
    "     [8, 5, 9, 7, 6, 1, 4, 2, 3],\n",
    "     [4, 2, 6, 8, 5, 3, 7, 9, 1],\n",
    "     [7, 1, 3, 9, 2, 4, 8, 5, 6],\n",
    "     [9, 6, 1, 5, 3, 7, 2, 8, 4],\n",
    "     [2, 8, 7, 4, 1, 9, 6, 3, 5],\n",
    "     [3, 4, 5, 2, 8, 6, 1, 7, 9]]\n",
    "\n",
    "if checkSudoku(b):\n",
    "    print(\"Valid Sudoku board\")\n",
    "else:\n",
    "    print(\"Invalid Sudoku board\")"
   ]
  },
  {
   "cell_type": "code",
   "execution_count": 15,
   "id": "232e8481-fd57-4dbf-9dd0-910e08516cec",
   "metadata": {},
   "outputs": [
    {
     "name": "stdin",
     "output_type": "stream",
     "text": [
      "Enter number of rows:  4\n"
     ]
    },
    {
     "name": "stdout",
     "output_type": "stream",
     "text": [
      "1 \n",
      "2 3 \n",
      "4 5 6 \n",
      "7 8 9 10 \n"
     ]
    }
   ],
   "source": [
    "# 15. Write a program to create a number pyramid where each row contains consecutive integers: (For n=4)\n",
    "'''\n",
    "1\n",
    "2 3\n",
    "4 5 6\n",
    "7 8 9 10\n",
    "'''\n",
    "def pattern3(n):\n",
    "    a = 1\n",
    "    for i in range(1, n+1):\n",
    "        for j in range(i):\n",
    "            print(a, end=' ')\n",
    "            a += 1\n",
    "        print()\n",
    "\n",
    "n = int(input(\"Enter number of rows: \"))\n",
    "pattern3(n)"
   ]
  }
 ],
 "metadata": {
  "kernelspec": {
   "display_name": "Python 3 (ipykernel)",
   "language": "python",
   "name": "python3"
  },
  "language_info": {
   "codemirror_mode": {
    "name": "ipython",
    "version": 3
   },
   "file_extension": ".py",
   "mimetype": "text/x-python",
   "name": "python",
   "nbconvert_exporter": "python",
   "pygments_lexer": "ipython3",
   "version": "3.11.7"
  }
 },
 "nbformat": 4,
 "nbformat_minor": 5
}
