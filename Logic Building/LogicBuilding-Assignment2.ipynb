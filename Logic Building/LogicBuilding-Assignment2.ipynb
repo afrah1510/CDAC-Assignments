{
 "cells": [
  {
   "cell_type": "markdown",
   "id": "ffdbb641-4fe4-4c80-bdbe-02dc1ca24078",
   "metadata": {},
   "source": [
    "# Assignment No. 2"
   ]
  },
  {
   "cell_type": "markdown",
   "id": "51a06e30-a3c4-4950-bef5-08d1e987c019",
   "metadata": {},
   "source": [
    "# I. Sets"
   ]
  },
  {
   "cell_type": "code",
   "execution_count": 1,
   "id": "b01c5915-52ea-4737-aa49-068931506b41",
   "metadata": {},
   "outputs": [
    {
     "data": {
      "text/plain": [
       "{1, 2, 3, 4, 5}"
      ]
     },
     "execution_count": 1,
     "metadata": {},
     "output_type": "execute_result"
    }
   ],
   "source": [
    "# 1. Create a set with numbers from 1 to 5. Add the number 6 and remove 3. Print the final set.\n",
    "my_set = {1, 2, 3, 4, 5}\n",
    "my_set"
   ]
  },
  {
   "cell_type": "code",
   "execution_count": 2,
   "id": "a44d8b63-1329-4f11-86a7-35116587de9c",
   "metadata": {},
   "outputs": [
    {
     "data": {
      "text/plain": [
       "{1, 2, 3, 4, 5, 6}"
      ]
     },
     "execution_count": 2,
     "metadata": {},
     "output_type": "execute_result"
    }
   ],
   "source": [
    "# Add 3\n",
    "my_set.add(6)\n",
    "my_set"
   ]
  },
  {
   "cell_type": "code",
   "execution_count": 3,
   "id": "639734c1-257e-4b18-9919-9b71e6da804d",
   "metadata": {},
   "outputs": [
    {
     "data": {
      "text/plain": [
       "{1, 2, 4, 5, 6}"
      ]
     },
     "execution_count": 3,
     "metadata": {},
     "output_type": "execute_result"
    }
   ],
   "source": [
    "# Remove 6\n",
    "my_set.remove(3)\n",
    "my_set"
   ]
  },
  {
   "cell_type": "code",
   "execution_count": 4,
   "id": "27a911c4-5959-45dd-8268-135b6206df4f",
   "metadata": {},
   "outputs": [],
   "source": [
    "# 2. Write a program to find the union and intersection of two sets: {1, 2, 3} and {3, 4, 5}.\n",
    "mySet1 = {1, 2, 3}\n",
    "mySet2 = {3, 4, 5}"
   ]
  },
  {
   "cell_type": "code",
   "execution_count": 5,
   "id": "f5631160-004e-45a2-9bdc-f55a519a4a78",
   "metadata": {},
   "outputs": [
    {
     "data": {
      "text/plain": [
       "{1, 2, 3}"
      ]
     },
     "execution_count": 5,
     "metadata": {},
     "output_type": "execute_result"
    }
   ],
   "source": [
    "mySet1"
   ]
  },
  {
   "cell_type": "code",
   "execution_count": 6,
   "id": "07f06d5e-7920-422e-874a-c77cb8e8c217",
   "metadata": {},
   "outputs": [
    {
     "data": {
      "text/plain": [
       "{3, 4, 5}"
      ]
     },
     "execution_count": 6,
     "metadata": {},
     "output_type": "execute_result"
    }
   ],
   "source": [
    "mySet2"
   ]
  },
  {
   "cell_type": "code",
   "execution_count": 7,
   "id": "3e7c4bf5-db19-4da4-a783-9b6c96d3d74c",
   "metadata": {},
   "outputs": [
    {
     "data": {
      "text/plain": [
       "{1, 2, 3, 4, 5}"
      ]
     },
     "execution_count": 7,
     "metadata": {},
     "output_type": "execute_result"
    }
   ],
   "source": [
    "# union\n",
    "mySet1 | mySet2"
   ]
  },
  {
   "cell_type": "code",
   "execution_count": 8,
   "id": "82988a0d-836f-4f10-94d7-caae5b737e74",
   "metadata": {},
   "outputs": [
    {
     "data": {
      "text/plain": [
       "{3}"
      ]
     },
     "execution_count": 8,
     "metadata": {},
     "output_type": "execute_result"
    }
   ],
   "source": [
    "# intersection\n",
    "mySet1 & mySet2"
   ]
  },
  {
   "cell_type": "code",
   "execution_count": 9,
   "id": "0ab195b6-94a3-4617-9e38-075feacf269a",
   "metadata": {},
   "outputs": [
    {
     "data": {
      "text/plain": [
       "[1, 2, 2, 3, 4, 4, 5]"
      ]
     },
     "execution_count": 9,
     "metadata": {},
     "output_type": "execute_result"
    }
   ],
   "source": [
    "# 3. Given a list with duplicates [1, 2, 2, 3, 4, 4, 5], convert it into a set to remove duplicates.\n",
    "myList = [1, 2, 2, 3, 4, 4, 5]\n",
    "myList"
   ]
  },
  {
   "cell_type": "code",
   "execution_count": 10,
   "id": "6cc395c4-dc5d-4090-ac10-aba32f8411c8",
   "metadata": {},
   "outputs": [
    {
     "data": {
      "text/plain": [
       "{1, 2, 3, 4, 5}"
      ]
     },
     "execution_count": 10,
     "metadata": {},
     "output_type": "execute_result"
    }
   ],
   "source": [
    "# convert to set\n",
    "mySet = set(myList)\n",
    "mySet"
   ]
  },
  {
   "cell_type": "code",
   "execution_count": 11,
   "id": "699547e8-d025-45cb-9898-6d0d50946cba",
   "metadata": {},
   "outputs": [
    {
     "data": {
      "text/plain": [
       "{1, 3, 5, 7, 9}"
      ]
     },
     "execution_count": 11,
     "metadata": {},
     "output_type": "execute_result"
    }
   ],
   "source": [
    "# 4. Check whether the number 7 exists in the set {1, 3, 5, 7, 9}.\n",
    "mySet = {1, 3, 5, 7, 9}\n",
    "mySet"
   ]
  },
  {
   "cell_type": "code",
   "execution_count": 12,
   "id": "eff7a3f9-93ad-466e-88fc-a2bce6e85281",
   "metadata": {},
   "outputs": [
    {
     "name": "stdout",
     "output_type": "stream",
     "text": [
      "True\n"
     ]
    }
   ],
   "source": [
    "print(7 in mySet)"
   ]
  },
  {
   "cell_type": "code",
   "execution_count": 13,
   "id": "a5a54a81-db52-46d3-b309-53948808ffb6",
   "metadata": {},
   "outputs": [],
   "source": [
    "# 5. Create two sets and print the symmetric difference between them.\n",
    "mySet1 = {1, 2, 3}\n",
    "mySet2 = {3, 4, 5}"
   ]
  },
  {
   "cell_type": "code",
   "execution_count": 14,
   "id": "7dfa919b-0e6f-4bdf-889d-139d0df80740",
   "metadata": {},
   "outputs": [
    {
     "data": {
      "text/plain": [
       "{1, 2, 3}"
      ]
     },
     "execution_count": 14,
     "metadata": {},
     "output_type": "execute_result"
    }
   ],
   "source": [
    "mySet1"
   ]
  },
  {
   "cell_type": "code",
   "execution_count": 15,
   "id": "a7268fe9-3b0c-4279-ae2f-40a9432914f8",
   "metadata": {},
   "outputs": [
    {
     "data": {
      "text/plain": [
       "{3, 4, 5}"
      ]
     },
     "execution_count": 15,
     "metadata": {},
     "output_type": "execute_result"
    }
   ],
   "source": [
    "mySet2"
   ]
  },
  {
   "cell_type": "code",
   "execution_count": 16,
   "id": "1154cd70-e9ec-4e01-a4ea-ecb153f65350",
   "metadata": {},
   "outputs": [
    {
     "data": {
      "text/plain": [
       "{1, 2, 4, 5}"
      ]
     },
     "execution_count": 16,
     "metadata": {},
     "output_type": "execute_result"
    }
   ],
   "source": [
    "mySet1.symmetric_difference(mySet2)"
   ]
  },
  {
   "cell_type": "code",
   "execution_count": null,
   "id": "6e1d4a89-4129-4c51-bb46-9f293e2ab103",
   "metadata": {},
   "outputs": [],
   "source": []
  },
  {
   "cell_type": "markdown",
   "id": "317b2d83-2149-4d46-ab5c-51faf30c0504",
   "metadata": {},
   "source": [
    "# II. Dictionaries"
   ]
  },
  {
   "cell_type": "code",
   "execution_count": 17,
   "id": "2caee2ab-ac2b-4b83-9399-ea767d485450",
   "metadata": {},
   "outputs": [
    {
     "data": {
      "text/plain": [
       "{'Aileen': 92, 'Sebastian': 85, 'Dante': 70}"
      ]
     },
     "execution_count": 17,
     "metadata": {},
     "output_type": "execute_result"
    }
   ],
   "source": [
    "# 6. Create a dictionary of 3 students with names as keys and marks as values. Print only the keys.\n",
    "studMarks = {\"Aileen\":92, \"Sebastian\":85, \"Dante\":70}\n",
    "studMarks"
   ]
  },
  {
   "cell_type": "code",
   "execution_count": 18,
   "id": "835e9185-4b84-4051-9047-b8307e4bfa0a",
   "metadata": {},
   "outputs": [
    {
     "data": {
      "text/plain": [
       "dict_keys(['Aileen', 'Sebastian', 'Dante'])"
      ]
     },
     "execution_count": 18,
     "metadata": {},
     "output_type": "execute_result"
    }
   ],
   "source": [
    "studMarks.keys()"
   ]
  },
  {
   "cell_type": "code",
   "execution_count": 19,
   "id": "74879498-c63b-41f2-8bb6-63ce7619be60",
   "metadata": {},
   "outputs": [
    {
     "data": {
      "text/plain": [
       "{'a': 1, 'b': 2, 'c': 3}"
      ]
     },
     "execution_count": 19,
     "metadata": {},
     "output_type": "execute_result"
    }
   ],
   "source": [
    "# 7. Given {\"a\": 1, \"b\": 2, \"c\": 3}, update the value of \"b\" to 5.\n",
    "myDict = {\"a\":1, \"b\":2, \"c\":3}\n",
    "myDict"
   ]
  },
  {
   "cell_type": "code",
   "execution_count": 20,
   "id": "d2d812de-1a3f-470d-bd3b-4ce5790be2f1",
   "metadata": {},
   "outputs": [
    {
     "data": {
      "text/plain": [
       "{'a': 1, 'b': 5, 'c': 3}"
      ]
     },
     "execution_count": 20,
     "metadata": {},
     "output_type": "execute_result"
    }
   ],
   "source": [
    "myDict.update({\"b\":5})\n",
    "myDict"
   ]
  },
  {
   "cell_type": "code",
   "execution_count": 21,
   "id": "2993b0e7-e54c-4fe6-a5c5-3320df18ba1d",
   "metadata": {},
   "outputs": [
    {
     "data": {
      "text/plain": [
       "'hello world'"
      ]
     },
     "execution_count": 21,
     "metadata": {},
     "output_type": "execute_result"
    }
   ],
   "source": [
    "# 8. Write a program to count character frequency in the string \"hello world\" and store it in a dictionary.\n",
    "str = \"hello world\"\n",
    "str"
   ]
  },
  {
   "cell_type": "code",
   "execution_count": 22,
   "id": "7ba896b1-aece-49da-afc9-cd28765e4efa",
   "metadata": {},
   "outputs": [],
   "source": [
    "char = {}\n",
    "\n",
    "for i in str:\n",
    "    char[i] = str.count(i)"
   ]
  },
  {
   "cell_type": "code",
   "execution_count": 23,
   "id": "4c33a2da-44a5-41ae-a36c-64c2bc87f81a",
   "metadata": {},
   "outputs": [
    {
     "data": {
      "text/plain": [
       "{'h': 1, 'e': 1, 'l': 3, 'o': 2, ' ': 1, 'w': 1, 'r': 1, 'd': 1}"
      ]
     },
     "execution_count": 23,
     "metadata": {},
     "output_type": "execute_result"
    }
   ],
   "source": [
    "char"
   ]
  },
  {
   "cell_type": "code",
   "execution_count": 24,
   "id": "f1a0a5b7-a256-4436-bf60-73e2c11a74cb",
   "metadata": {},
   "outputs": [],
   "source": [
    "# 9. Merge two dictionaries: {\"x\": 10, \"y\": 20} and {\"y\": 30, \"z\": 40}.\n",
    "dict1 = {\"x\": 10, \"y\": 20} \n",
    "dict2 = {\"y\": 30, \"z\": 40}"
   ]
  },
  {
   "cell_type": "code",
   "execution_count": 25,
   "id": "a245884c-a72a-43b3-bd88-f44030b8dd62",
   "metadata": {},
   "outputs": [
    {
     "data": {
      "text/plain": [
       "{'x': 10, 'y': 20}"
      ]
     },
     "execution_count": 25,
     "metadata": {},
     "output_type": "execute_result"
    }
   ],
   "source": [
    "dict1"
   ]
  },
  {
   "cell_type": "code",
   "execution_count": 26,
   "id": "810a8c17-a699-4d8b-8ec6-e1c5592d4a17",
   "metadata": {},
   "outputs": [
    {
     "data": {
      "text/plain": [
       "{'y': 30, 'z': 40}"
      ]
     },
     "execution_count": 26,
     "metadata": {},
     "output_type": "execute_result"
    }
   ],
   "source": [
    "dict2"
   ]
  },
  {
   "cell_type": "code",
   "execution_count": 27,
   "id": "3524c01b-29a1-4908-bfb0-fc2a9ce9ff4f",
   "metadata": {},
   "outputs": [],
   "source": [
    "dict1.update(dict2)"
   ]
  },
  {
   "cell_type": "code",
   "execution_count": 28,
   "id": "284b6002-481c-45e5-b09b-81b8f1f5b51c",
   "metadata": {},
   "outputs": [
    {
     "data": {
      "text/plain": [
       "{'x': 10, 'y': 30, 'z': 40}"
      ]
     },
     "execution_count": 28,
     "metadata": {},
     "output_type": "execute_result"
    }
   ],
   "source": [
    "dict1"
   ]
  },
  {
   "cell_type": "code",
   "execution_count": 29,
   "id": "e6410193-b9d4-4fb6-905d-468c331dfadb",
   "metadata": {},
   "outputs": [],
   "source": [
    "# 10. Check if a given key exists in a dictionary. If not, add the key with a default value.\n",
    "mydict = {1:\"Apple\", 2:\"Mango\", 3:\"Grapes\", 4:\"Strawberry\"}"
   ]
  },
  {
   "cell_type": "code",
   "execution_count": 30,
   "id": "4d31a0e3-134a-46b9-9b8f-9d59902e9f9b",
   "metadata": {},
   "outputs": [
    {
     "data": {
      "text/plain": [
       "{1: 'Apple', 2: 'Mango', 3: 'Grapes', 4: 'Strawberry'}"
      ]
     },
     "execution_count": 30,
     "metadata": {},
     "output_type": "execute_result"
    }
   ],
   "source": [
    "mydict"
   ]
  },
  {
   "cell_type": "code",
   "execution_count": 31,
   "id": "0eb91af5-9104-4b34-a3bc-3b4a15f19ece",
   "metadata": {},
   "outputs": [],
   "source": [
    "if 5 in mydict:\n",
    "    print(True)\n",
    "else:\n",
    "    mydict.setdefault(5, 'Papaya')"
   ]
  },
  {
   "cell_type": "code",
   "execution_count": 32,
   "id": "80f3cc00-5983-46af-a3b5-2c299e6cd765",
   "metadata": {},
   "outputs": [
    {
     "data": {
      "text/plain": [
       "{1: 'Apple', 2: 'Mango', 3: 'Grapes', 4: 'Strawberry', 5: 'Papaya'}"
      ]
     },
     "execution_count": 32,
     "metadata": {},
     "output_type": "execute_result"
    }
   ],
   "source": [
    "mydict"
   ]
  },
  {
   "cell_type": "code",
   "execution_count": null,
   "id": "52de7007-e244-4a0b-8de0-70d15d646ff4",
   "metadata": {},
   "outputs": [],
   "source": []
  },
  {
   "cell_type": "markdown",
   "id": "67e29d23-8a71-4799-acc0-9f15ff72f4ca",
   "metadata": {},
   "source": [
    "# III. Functions"
   ]
  },
  {
   "cell_type": "code",
   "execution_count": 33,
   "id": "a5a5e32c-73fb-421c-b59b-3f796fdd2867",
   "metadata": {},
   "outputs": [
    {
     "name": "stdout",
     "output_type": "stream",
     "text": [
      "Hello, Python!\n"
     ]
    }
   ],
   "source": [
    "# 11. Write a function greet() that prints \"Hello, Python!\".\n",
    "def greet():\n",
    "    print(\"Hello, Python!\")\n",
    "\n",
    "greet()"
   ]
  },
  {
   "cell_type": "code",
   "execution_count": 34,
   "id": "ef191034-33b7-434d-8818-beacf87c197c",
   "metadata": {},
   "outputs": [
    {
     "data": {
      "text/plain": [
       "196"
      ]
     },
     "execution_count": 34,
     "metadata": {},
     "output_type": "execute_result"
    }
   ],
   "source": [
    "# 12. Create a function square(n) that returns the square of a number.\n",
    "def numSqr(n):\n",
    "    return n**2\n",
    "\n",
    "numSqr(14)"
   ]
  },
  {
   "cell_type": "code",
   "execution_count": 35,
   "id": "a92d5545-e8ef-452a-8d62-a60be25d2900",
   "metadata": {},
   "outputs": [
    {
     "data": {
      "text/plain": [
       "60"
      ]
     },
     "execution_count": 35,
     "metadata": {},
     "output_type": "execute_result"
    }
   ],
   "source": [
    "# 13. Write a function to calculate the sum of all elements in a list.\n",
    "def listSum(a):\n",
    "    for i in a:\n",
    "        i+=i\n",
    "    return i\n",
    "\n",
    "myList = [10, 20, 30]\n",
    "listSum(myList)"
   ]
  },
  {
   "cell_type": "code",
   "execution_count": 36,
   "id": "a27573dd-b61c-4be4-82e0-68e001d9dd28",
   "metadata": {},
   "outputs": [
    {
     "name": "stdout",
     "output_type": "stream",
     "text": [
      "Welcome, Guest!\n"
     ]
    }
   ],
   "source": [
    "# 14. Create a function with a default parameter: def welcome(name=\"Guest\"). Print \"Welcome, <name>!\".\n",
    "def welcome(name=\"Guest\"):\n",
    "    print(f\"Welcome, {name}!\")\n",
    "\n",
    "welcome()"
   ]
  },
  {
   "cell_type": "code",
   "execution_count": 38,
   "id": "71d1709d-5f19-4fe2-ad2c-89589da85c04",
   "metadata": {},
   "outputs": [],
   "source": [
    "#15. Write a function is_even(num) that returns True if a number is even, else False.\n",
    "def is_even(num):\n",
    "    if num%2==0:\n",
    "        return True\n",
    "    else:\n",
    "        return False"
   ]
  },
  {
   "cell_type": "code",
   "execution_count": 39,
   "id": "8767b23e-9c18-421c-8d50-23ed1f4dcbfa",
   "metadata": {},
   "outputs": [
    {
     "data": {
      "text/plain": [
       "False"
      ]
     },
     "execution_count": 39,
     "metadata": {},
     "output_type": "execute_result"
    }
   ],
   "source": [
    "is_even(25)"
   ]
  },
  {
   "cell_type": "code",
   "execution_count": 40,
   "id": "bf0c4ed8-1987-455a-af8a-1ff9f1041a65",
   "metadata": {},
   "outputs": [
    {
     "data": {
      "text/plain": [
       "True"
      ]
     },
     "execution_count": 40,
     "metadata": {},
     "output_type": "execute_result"
    }
   ],
   "source": [
    "is_even(60)"
   ]
  },
  {
   "cell_type": "code",
   "execution_count": 41,
   "id": "8c45bd6b-3f2f-471c-b2ab-4e4ba2279648",
   "metadata": {},
   "outputs": [],
   "source": [
    "# 16. Create a function to calculate the factorial of a number using recursion.\n",
    "def numFact(n):\n",
    "    if n==0 or n==1:\n",
    "        return 1\n",
    "    return n*numFact(n-1)"
   ]
  },
  {
   "cell_type": "code",
   "execution_count": 42,
   "id": "e56a3521-1be1-4972-95d6-1d29b1b31c6d",
   "metadata": {},
   "outputs": [
    {
     "data": {
      "text/plain": [
       "120"
      ]
     },
     "execution_count": 42,
     "metadata": {},
     "output_type": "execute_result"
    }
   ],
   "source": [
    "numFact(5)"
   ]
  },
  {
   "cell_type": "code",
   "execution_count": 43,
   "id": "2789a223-7b46-444a-af8c-4bed63bd6aec",
   "metadata": {},
   "outputs": [
    {
     "data": {
      "text/plain": [
       "479001600"
      ]
     },
     "execution_count": 43,
     "metadata": {},
     "output_type": "execute_result"
    }
   ],
   "source": [
    "numFact(12)"
   ]
  },
  {
   "cell_type": "code",
   "execution_count": 44,
   "id": "fca97f40-3235-49d0-8848-2c20176817de",
   "metadata": {},
   "outputs": [],
   "source": [
    "# 17. Write a function max_of_three(a, b, c) that returns the largest of three numbers.\n",
    "def max_of_three(a, b, c):\n",
    "    if(a>b and a>c):\n",
    "        print(a, \"is the largest number\")\n",
    "    elif(b>a and b>c):\n",
    "        print(b, \"is the largest number\")\n",
    "    else:\n",
    "        print(c, \"is the largest number\")"
   ]
  },
  {
   "cell_type": "code",
   "execution_count": 45,
   "id": "ed954fb6-5319-44ac-8d46-df7ddbbd1492",
   "metadata": {},
   "outputs": [
    {
     "name": "stdout",
     "output_type": "stream",
     "text": [
      "500 is the largest number\n"
     ]
    }
   ],
   "source": [
    "max_of_three(100, 150, 500)"
   ]
  },
  {
   "cell_type": "code",
   "execution_count": 46,
   "id": "152db320-3b12-4443-836b-7fb5bebb65de",
   "metadata": {},
   "outputs": [
    {
     "name": "stdout",
     "output_type": "stream",
     "text": [
      "50 is the largest number\n"
     ]
    }
   ],
   "source": [
    "max_of_three(10, 50, 5)"
   ]
  },
  {
   "cell_type": "code",
   "execution_count": 47,
   "id": "c8505a47-94a1-452d-bdd6-8c15ef6de037",
   "metadata": {},
   "outputs": [
    {
     "name": "stdout",
     "output_type": "stream",
     "text": [
      "120 is the largest number\n"
     ]
    }
   ],
   "source": [
    "max_of_three(120, 11, 37)"
   ]
  },
  {
   "cell_type": "code",
   "execution_count": 48,
   "id": "67437774-22ea-4821-8e4d-0833e30dc4d9",
   "metadata": {},
   "outputs": [],
   "source": [
    "# 18. Create a function reverse_string(s) that returns the reversed string.\n",
    "def reverse_string(s):\n",
    "    rev = \"\"\n",
    "    for i in s:\n",
    "        rev = i + rev\n",
    "    return rev"
   ]
  },
  {
   "cell_type": "code",
   "execution_count": 49,
   "id": "4b940a2b-e6a8-4e37-82a0-7882ef73394d",
   "metadata": {},
   "outputs": [
    {
     "data": {
      "text/plain": [
       "'revir'"
      ]
     },
     "execution_count": 49,
     "metadata": {},
     "output_type": "execute_result"
    }
   ],
   "source": [
    "reverse_string('river')"
   ]
  },
  {
   "cell_type": "code",
   "execution_count": 50,
   "id": "a7485c9b-ff32-4b84-bf41-baef43071fdc",
   "metadata": {},
   "outputs": [
    {
     "data": {
      "text/plain": [
       "'rednelac'"
      ]
     },
     "execution_count": 50,
     "metadata": {},
     "output_type": "execute_result"
    }
   ],
   "source": [
    "reverse_string('calender')"
   ]
  },
  {
   "cell_type": "code",
   "execution_count": 51,
   "id": "09ad9a0c-83cf-43df-8b5b-0d91f49f8c42",
   "metadata": {},
   "outputs": [],
   "source": [
    "# 19. Write a function to count the number of vowels in a given string.\n",
    "def countVowel(s):\n",
    "    vowels = 'aeiou'\n",
    "    s = s.lower()\n",
    "    charVowel = {}\n",
    "    for i in s:\n",
    "        if i in vowels:\n",
    "            charVowel[i] = s.count(i)\n",
    "    return charVowel"
   ]
  },
  {
   "cell_type": "code",
   "execution_count": 52,
   "id": "1e0dbc4f-6259-4e53-ab7b-c1681c5ab8e7",
   "metadata": {},
   "outputs": [
    {
     "data": {
      "text/plain": [
       "{'e': 2, 'u': 1, 'a': 1, 'i': 1, 'o': 1}"
      ]
     },
     "execution_count": 52,
     "metadata": {},
     "output_type": "execute_result"
    }
   ],
   "source": [
    "countVowel('E-education')"
   ]
  },
  {
   "cell_type": "code",
   "execution_count": 53,
   "id": "1da5a508-8b40-4416-9b97-0556b9fe190f",
   "metadata": {},
   "outputs": [
    {
     "data": {
      "text/plain": [
       "{'o': 1}"
      ]
     },
     "execution_count": 53,
     "metadata": {},
     "output_type": "execute_result"
    }
   ],
   "source": [
    "countVowel('World')"
   ]
  },
  {
   "cell_type": "code",
   "execution_count": 54,
   "id": "ff4e962a-15ab-430d-8135-7d146a0557a5",
   "metadata": {},
   "outputs": [
    {
     "data": {
      "text/plain": [
       "{'a': 2, 'o': 1, 'e': 1}"
      ]
     },
     "execution_count": 54,
     "metadata": {},
     "output_type": "execute_result"
    }
   ],
   "source": [
    "countVowel('Apocalypse')"
   ]
  },
  {
   "cell_type": "code",
   "execution_count": 55,
   "id": "04353196-79b6-4331-9ac8-ba29795fb781",
   "metadata": {},
   "outputs": [
    {
     "data": {
      "text/plain": [
       "280"
      ]
     },
     "execution_count": 55,
     "metadata": {},
     "output_type": "execute_result"
    }
   ],
   "source": [
    "# 20. Create a function that accepts any number of arguments using *args and returns their sum.\n",
    "def allSum(*a):\n",
    "    total = 0\n",
    "    for i in a:\n",
    "        total+=i\n",
    "    return total\n",
    "\n",
    "allSum(10, 20, 30, 40, 50, 60, 70)"
   ]
  },
  {
   "cell_type": "code",
   "execution_count": null,
   "id": "73ebc468-40cc-4708-bc35-d0e94591594e",
   "metadata": {},
   "outputs": [],
   "source": []
  },
  {
   "cell_type": "markdown",
   "id": "728e4ecf-1f41-457b-b1e7-cd120e7d83c0",
   "metadata": {},
   "source": [
    "# IV. Loops"
   ]
  },
  {
   "cell_type": "code",
   "execution_count": 58,
   "id": "b180c66c-72d2-4e18-9fb6-3f48b92a1caa",
   "metadata": {},
   "outputs": [
    {
     "name": "stdout",
     "output_type": "stream",
     "text": [
      "1\n",
      "2\n",
      "3\n",
      "4\n",
      "5\n",
      "6\n",
      "7\n",
      "8\n",
      "9\n",
      "10\n"
     ]
    }
   ],
   "source": [
    "# 21. Print numbers from 1 to 10 using a for loop.\n",
    "for i in range(1, 11):\n",
    "    print(i)"
   ]
  },
  {
   "cell_type": "code",
   "execution_count": 59,
   "id": "c58fd1da-70f4-49d7-9918-53989fa4cd6a",
   "metadata": {},
   "outputs": [
    {
     "name": "stdout",
     "output_type": "stream",
     "text": [
      "5 x 1 = 5\n",
      "5 x 2 = 10\n",
      "5 x 3 = 15\n",
      "5 x 4 = 20\n",
      "5 x 5 = 25\n",
      "5 x 6 = 30\n",
      "5 x 7 = 35\n",
      "5 x 8 = 40\n",
      "5 x 9 = 45\n",
      "5 x 10 = 50\n"
     ]
    }
   ],
   "source": [
    "# 22. Print the multiplication table of 5 using a loop.\n",
    "a = 5\n",
    "for i in range(1, 11):\n",
    "    print(f\"{a} x {i} = {a*i}\")"
   ]
  },
  {
   "cell_type": "code",
   "execution_count": 60,
   "id": "34550750-f406-4f4b-8291-ccc37bf24b55",
   "metadata": {},
   "outputs": [
    {
     "name": "stdout",
     "output_type": "stream",
     "text": [
      "10\n",
      "20\n",
      "30\n",
      "40\n"
     ]
    }
   ],
   "source": [
    "# 23. Given a list [10, 20, 30, 40], print each element using a loop.\n",
    "myList = [10, 20, 30, 40]\n",
    "for i in myList:\n",
    "    print(i)"
   ]
  },
  {
   "cell_type": "code",
   "execution_count": 61,
   "id": "d5e8275d-adb8-4efa-8f78-6a2b96e18b0c",
   "metadata": {},
   "outputs": [
    {
     "name": "stdout",
     "output_type": "stream",
     "text": [
      "5050\n"
     ]
    }
   ],
   "source": [
    "# 24. Write a program to find the sum of numbers from 1 to 100 using a for loop.\n",
    "totalSum = 0\n",
    "for i in range(1, 101):\n",
    "    totalSum += i\n",
    "print(totalSum)"
   ]
  },
  {
   "cell_type": "code",
   "execution_count": 62,
   "id": "324a8b67-7ca6-4eb7-a88d-e79815c865ed",
   "metadata": {},
   "outputs": [
    {
     "name": "stdout",
     "output_type": "stream",
     "text": [
      "2\n",
      "4\n",
      "6\n",
      "8\n",
      "10\n",
      "12\n",
      "14\n",
      "16\n",
      "18\n",
      "20\n"
     ]
    }
   ],
   "source": [
    "# 25. Print only even numbers from 1 to 20 using a loop.\n",
    "for i in range(2, 21, 2):\n",
    "    print(i)"
   ]
  },
  {
   "cell_type": "code",
   "execution_count": 63,
   "id": "6aa6a74a-9695-45f8-a263-e6369cdf1cb0",
   "metadata": {},
   "outputs": [
    {
     "name": "stdout",
     "output_type": "stream",
     "text": [
      "p\n",
      "y\n",
      "t\n",
      "h\n",
      "o\n",
      "n\n"
     ]
    }
   ],
   "source": [
    "# 26. Given a string \"python\", print each character using a loop.\n",
    "str = 'python'\n",
    "for i in str:\n",
    "    print(i)"
   ]
  },
  {
   "cell_type": "code",
   "execution_count": 64,
   "id": "3d99f6c7-25d2-4417-af68-312c6d16f379",
   "metadata": {},
   "outputs": [
    {
     "name": "stdout",
     "output_type": "stream",
     "text": [
      "120\n"
     ]
    }
   ],
   "source": [
    "# 27. Find the factorial of n using a for loop.\n",
    "n = 5\n",
    "factNum = 1\n",
    "for i in range(1, n+1):\n",
    "    factNum *= i\n",
    "print(factNum)"
   ]
  },
  {
   "cell_type": "code",
   "execution_count": 65,
   "id": "2e98efa0-ca9c-423e-a0ea-0ef3d6566384",
   "metadata": {},
   "outputs": [
    {
     "name": "stdout",
     "output_type": "stream",
     "text": [
      "5\n",
      "4\n",
      "3\n",
      "2\n",
      "1\n"
     ]
    }
   ],
   "source": [
    "# 28. Print the reverse of a list [1, 2, 3, 4, 5] using a loop.\n",
    "myList = [1, 2, 3, 4, 5]\n",
    "for i in myList[::-1]:\n",
    "    print(i)"
   ]
  },
  {
   "cell_type": "code",
   "execution_count": 66,
   "id": "78784c10-99cf-4089-9183-20242bd7cc85",
   "metadata": {},
   "outputs": [
    {
     "name": "stdout",
     "output_type": "stream",
     "text": [
      "Count of odd numbers between 1 and 50: 25\n",
      "Odd Numbers between 1 and 50: [1, 3, 5, 7, 9, 11, 13, 15, 17, 19, 21, 23, 25, 27, 29, 31, 33, 35, 37, 39, 41, 43, 45, 47, 49]\n"
     ]
    }
   ],
   "source": [
    "# 29. Count and print the number of odd numbers between 1 and 50.\n",
    "oddNum = []\n",
    "for i in range(1, 51):\n",
    "    if i%2!=0:\n",
    "        oddNum.append(i)\n",
    "\n",
    "print(\"Count of odd numbers between 1 and 50:\", len(oddNum))\n",
    "print(\"Odd Numbers between 1 and 50:\", oddNum)"
   ]
  },
  {
   "cell_type": "code",
   "execution_count": 67,
   "id": "6d8b5626-faad-4f28-ba0b-b1b7cf05e9ed",
   "metadata": {},
   "outputs": [
    {
     "name": "stdout",
     "output_type": "stream",
     "text": [
      "[6, 88, 66, 99, 39]\n"
     ]
    }
   ],
   "source": [
    "# 30. Given a list of integers, print only the positive numbers using a loop.\n",
    "myInt = [-88, 6, 88, 66, 99, -80, -14, -58, -36, 39]\n",
    "posNum = []\n",
    "for i in myInt:\n",
    "    if i > 0:\n",
    "        posNum.append(i)\n",
    "print(posNum)"
   ]
  },
  {
   "cell_type": "code",
   "execution_count": null,
   "id": "9e6cfeeb-1838-4aa0-96f2-df36b13c7a63",
   "metadata": {},
   "outputs": [],
   "source": []
  },
  {
   "cell_type": "markdown",
   "id": "42750f37-79f4-486f-8242-1d9bf50f7506",
   "metadata": {},
   "source": [
    "# V. While Loops"
   ]
  },
  {
   "cell_type": "code",
   "execution_count": 68,
   "id": "1934b572-9e90-4532-90a7-5117bd453bad",
   "metadata": {},
   "outputs": [
    {
     "name": "stdout",
     "output_type": "stream",
     "text": [
      "1\n",
      "2\n",
      "3\n",
      "4\n",
      "5\n",
      "6\n",
      "7\n",
      "8\n",
      "9\n",
      "10\n"
     ]
    }
   ],
   "source": [
    "# 31. Print numbers from 1 to 10 using a while loop.\n",
    "i = 1\n",
    "while i <= 10:\n",
    "    print(i)\n",
    "    i+=1"
   ]
  },
  {
   "cell_type": "code",
   "execution_count": 69,
   "id": "19a1d7b0-ad89-4df8-8873-4b21d662d33c",
   "metadata": {},
   "outputs": [
    {
     "name": "stdout",
     "output_type": "stream",
     "text": [
      "30\n"
     ]
    }
   ],
   "source": [
    "# 32. Calculate the sum of digits of a number using a while loop.\n",
    "num = 25698\n",
    "sum = 0\n",
    "while num!=0:\n",
    "    last = num%10\n",
    "    sum = sum + last\n",
    "    num = num // 10\n",
    "\n",
    "print(sum)"
   ]
  },
  {
   "cell_type": "code",
   "execution_count": 70,
   "id": "3aaae40c-9903-4824-a240-cc89323b461e",
   "metadata": {},
   "outputs": [
    {
     "name": "stdout",
     "output_type": "stream",
     "text": [
      "89652\n"
     ]
    }
   ],
   "source": [
    "# 33. Reverse a number using a while loop.\n",
    "num = 25698\n",
    "revNum = 0\n",
    "while num!=0:\n",
    "    last = num%10\n",
    "    revNum = revNum*10 + last\n",
    "    num = num // 10\n",
    "\n",
    "print(revNum)"
   ]
  },
  {
   "cell_type": "code",
   "execution_count": 72,
   "id": "6f4fd6fa-4cc9-4fbb-bf72-30fb136e73eb",
   "metadata": {},
   "outputs": [
    {
     "name": "stdin",
     "output_type": "stream",
     "text": [
      "Enter a name:  Aileen\n"
     ]
    },
    {
     "name": "stdout",
     "output_type": "stream",
     "text": [
      "Name entered: Aileen\n"
     ]
    },
    {
     "name": "stdin",
     "output_type": "stream",
     "text": [
      "\n",
      "Enter a name:  Dante\n"
     ]
    },
    {
     "name": "stdout",
     "output_type": "stream",
     "text": [
      "Name entered: Dante\n"
     ]
    },
    {
     "name": "stdin",
     "output_type": "stream",
     "text": [
      "\n",
      "Enter a name:  Patrick\n"
     ]
    },
    {
     "name": "stdout",
     "output_type": "stream",
     "text": [
      "Name entered: Patrick\n"
     ]
    },
    {
     "name": "stdin",
     "output_type": "stream",
     "text": [
      "\n",
      "Enter a name:  Simon\n"
     ]
    },
    {
     "name": "stdout",
     "output_type": "stream",
     "text": [
      "Name entered: Simon\n"
     ]
    },
    {
     "name": "stdin",
     "output_type": "stream",
     "text": [
      "\n",
      "Enter a name:  Suzume\n"
     ]
    },
    {
     "name": "stdout",
     "output_type": "stream",
     "text": [
      "Name entered: Suzume\n"
     ]
    },
    {
     "name": "stdin",
     "output_type": "stream",
     "text": [
      "\n",
      "Enter a name:  exit\n"
     ]
    }
   ],
   "source": [
    "# 34. Keep taking user input until they enter \"exit\".\n",
    "n = input(\"Enter a name: \")\n",
    "while n!='exit':\n",
    "    print(\"Name entered:\", n)\n",
    "    n = input(\"\\nEnter a name: \")"
   ]
  },
  {
   "cell_type": "code",
   "execution_count": 73,
   "id": "1e5dbb70-d22f-48a5-9a9d-a38412391e8a",
   "metadata": {},
   "outputs": [
    {
     "name": "stdin",
     "output_type": "stream",
     "text": [
      "Enter a number:  17\n"
     ]
    },
    {
     "name": "stdout",
     "output_type": "stream",
     "text": [
      "17 x 1 = 17\n",
      "17 x 2 = 34\n",
      "17 x 3 = 51\n",
      "17 x 4 = 68\n",
      "17 x 5 = 85\n",
      "17 x 6 = 102\n",
      "17 x 7 = 119\n",
      "17 x 8 = 136\n",
      "17 x 9 = 153\n",
      "17 x 10 = 170\n"
     ]
    }
   ],
   "source": [
    "# 35. Print the multiplication table of a given number using a while loop.\n",
    "i = int(input(\"Enter a number: \"))\n",
    "j = 1\n",
    "while j<=10:\n",
    "    mul = i*j\n",
    "    print(f\"{i} x {j} = {mul}\")\n",
    "    j+=1"
   ]
  },
  {
   "cell_type": "code",
   "execution_count": 74,
   "id": "c66114fe-3c5e-437c-8221-6c887adeefbb",
   "metadata": {},
   "outputs": [
    {
     "name": "stdout",
     "output_type": "stream",
     "text": [
      "2\n",
      "4\n",
      "6\n",
      "8\n",
      "10\n",
      "12\n",
      "14\n",
      "16\n",
      "18\n",
      "20\n"
     ]
    }
   ],
   "source": [
    "# 36. Print the first 10 even numbers using a while loop.\n",
    "n = 1\n",
    "while n<=21:\n",
    "    if n%2==0:\n",
    "        print(n)\n",
    "    n+=1"
   ]
  },
  {
   "cell_type": "code",
   "execution_count": 75,
   "id": "cb6162ef-b137-4d74-ac1b-b150bb226139",
   "metadata": {},
   "outputs": [
    {
     "name": "stdin",
     "output_type": "stream",
     "text": [
      "Enter a positive number:  9\n"
     ]
    },
    {
     "name": "stdout",
     "output_type": "stream",
     "text": [
      "362880\n"
     ]
    }
   ],
   "source": [
    "# 37. Find the factorial of a number using a while loop.\n",
    "num = int(input(\"Enter a positive number: \"))\n",
    "\n",
    "if n==0 or n==1:\n",
    "    print(\"1\")\n",
    "else:\n",
    "    fact = 1\n",
    "    i = 1\n",
    "    while i <= num:\n",
    "        fact *= i\n",
    "        i+=1\n",
    "    print(fact)"
   ]
  },
  {
   "cell_type": "code",
   "execution_count": 76,
   "id": "0735debe-e559-4907-9ea6-2e43d5d1ec39",
   "metadata": {},
   "outputs": [
    {
     "name": "stdout",
     "output_type": "stream",
     "text": [
      "5\n"
     ]
    }
   ],
   "source": [
    "# 38. Count the number of digits in a number using a while loop.\n",
    "num = 23759\n",
    "count = 0\n",
    "while num>0:\n",
    "    num = num // 10\n",
    "    count+=1\n",
    "\n",
    "print(count)"
   ]
  },
  {
   "cell_type": "code",
   "execution_count": 77,
   "id": "8a19113d-df0e-4d4c-b63f-12d169a71fc0",
   "metadata": {},
   "outputs": [
    {
     "name": "stdout",
     "output_type": "stream",
     "text": [
      "0\n",
      "1\n",
      "1\n",
      "2\n",
      "3\n",
      "5\n",
      "8\n",
      "13\n",
      "21\n",
      "34\n",
      "55\n",
      "89\n",
      "144\n",
      "233\n"
     ]
    }
   ],
   "source": [
    "# 39. Print the Fibonacci sequence up to n terms using a while loop.\n",
    "n = 15\n",
    "a = 0\n",
    "b = 1\n",
    "i = 1\n",
    "\n",
    "while i < n:\n",
    "    print(a)\n",
    "    a, b = b, a + b\n",
    "    i+=1"
   ]
  },
  {
   "cell_type": "code",
   "execution_count": 78,
   "id": "52ed3940-e624-449a-9600-cae10c185e64",
   "metadata": {},
   "outputs": [
    {
     "name": "stdin",
     "output_type": "stream",
     "text": [
      "Enter password:  letsGo\n"
     ]
    },
    {
     "name": "stdout",
     "output_type": "stream",
     "text": [
      "Please enter another password. This is not acceptable\n"
     ]
    },
    {
     "name": "stdin",
     "output_type": "stream",
     "text": [
      "\n",
      "Enter password:  123HaveFun\n"
     ]
    },
    {
     "name": "stdout",
     "output_type": "stream",
     "text": [
      "Please enter another password. This is not acceptable\n"
     ]
    },
    {
     "name": "stdin",
     "output_type": "stream",
     "text": [
      "\n",
      "Enter password:  dream#987\n"
     ]
    },
    {
     "name": "stdout",
     "output_type": "stream",
     "text": [
      "Please enter another password. This is not acceptable\n"
     ]
    },
    {
     "name": "stdin",
     "output_type": "stream",
     "text": [
      "\n",
      "Enter password:  python123\n"
     ]
    }
   ],
   "source": [
    "# 40. Keep asking for a password until the user enters \"python123\".\n",
    "n = input(\"Enter password: \")\n",
    "while n!='python123':\n",
    "    print(\"Please enter another password. This is not acceptable\")\n",
    "    n = input(\"\\nEnter password: \")"
   ]
  },
  {
   "cell_type": "code",
   "execution_count": null,
   "id": "333d00ef-586c-4350-af0f-e046144085bf",
   "metadata": {},
   "outputs": [],
   "source": []
  },
  {
   "cell_type": "markdown",
   "id": "158441cb-be24-4ef6-a2bb-e61e877b9f29",
   "metadata": {},
   "source": [
    "# VI. Conditional Statements"
   ]
  },
  {
   "cell_type": "code",
   "execution_count": 79,
   "id": "8e3f1f17-fbcc-4d7b-8662-0f626b16f581",
   "metadata": {},
   "outputs": [
    {
     "name": "stdin",
     "output_type": "stream",
     "text": [
      "Enter a number:  -256\n"
     ]
    },
    {
     "name": "stdout",
     "output_type": "stream",
     "text": [
      "Number is negative\n"
     ]
    }
   ],
   "source": [
    "# 41. Check if a given number is positive, negative, or zero.\n",
    "num = int(input(\"Enter a number: \"))\n",
    "if num < 0:\n",
    "    print(\"Number is negative\")\n",
    "elif num > 0:\n",
    "    print(\"Number is positive\")\n",
    "else:\n",
    "    print(\"Number is zero\")"
   ]
  },
  {
   "cell_type": "code",
   "execution_count": 80,
   "id": "e55707f7-eb76-4896-a9ce-7a22cc2f0ab8",
   "metadata": {},
   "outputs": [
    {
     "name": "stdin",
     "output_type": "stream",
     "text": [
      "Enter a year:  1992\n"
     ]
    },
    {
     "name": "stdout",
     "output_type": "stream",
     "text": [
      "Leap year\n"
     ]
    }
   ],
   "source": [
    "# 42. Input a year and check if it’s a leap year.\n",
    "year = int(input(\"Enter a year: \"))\n",
    "if year % 4 == 0:\n",
    "    if year % 100 == 0:\n",
    "        if year % 400 == 0:\n",
    "            print(\"Leap year\")\n",
    "        else:\n",
    "            print(\"Not a leap year\")\n",
    "    else:\n",
    "        print(\"Leap year\")\n",
    "else:\n",
    "    print(\"Not a leap year\")"
   ]
  },
  {
   "cell_type": "code",
   "execution_count": 83,
   "id": "504e05de-8fde-41dc-a827-eafbbc8509a3",
   "metadata": {},
   "outputs": [
    {
     "name": "stdin",
     "output_type": "stream",
     "text": [
      "Enter a character:  R\n"
     ]
    },
    {
     "name": "stdout",
     "output_type": "stream",
     "text": [
      "Character is a consonant\n"
     ]
    }
   ],
   "source": [
    "# 43. Input a character and check if it’s a vowel or consonant.\n",
    "word = input(\"Enter a character: \")\n",
    "vowels = 'aeiouAEIOU'\n",
    "if word in vowels:\n",
    "    print(\"Character is a vowel\")\n",
    "else:\n",
    "    print(\"Character is a consonant\")"
   ]
  },
  {
   "cell_type": "code",
   "execution_count": 84,
   "id": "effde5ec-22e8-412a-837c-74d6764753d3",
   "metadata": {},
   "outputs": [
    {
     "name": "stdin",
     "output_type": "stream",
     "text": [
      "Enter a number:  45\n"
     ]
    },
    {
     "name": "stdout",
     "output_type": "stream",
     "text": [
      "Number is divisible by both 3 and 5\n"
     ]
    }
   ],
   "source": [
    "# 44. Write a program to check if a number is divisible by both 3 and 5.\n",
    "num = int(input(\"Enter a number: \"))\n",
    "if num%3==0 and num%5==0:\n",
    "    print(\"Number is divisible by both 3 and 5\")\n",
    "else:\n",
    "    print(\"Number is not divisible by both 3 and 5\")"
   ]
  },
  {
   "cell_type": "code",
   "execution_count": 85,
   "id": "f2e7e210-3491-4fba-bf8f-7443d76ac99f",
   "metadata": {},
   "outputs": [
    {
     "name": "stdin",
     "output_type": "stream",
     "text": [
      "Enter age:  21\n"
     ]
    },
    {
     "name": "stdout",
     "output_type": "stream",
     "text": [
      "Eligible to vote\n"
     ]
    }
   ],
   "source": [
    "# 45. Input age and print whether the person is eligible to vote (18 or above).\n",
    "age = int(input(\"Enter age: \"))\n",
    "if age >= 18:\n",
    "    print(\"Eligible to vote\")\n",
    "else:\n",
    "    print(\"Not eligible to vote\")"
   ]
  },
  {
   "cell_type": "code",
   "execution_count": 86,
   "id": "ddc43a6b-076c-45f2-8fb1-5dc4e7f08422",
   "metadata": {},
   "outputs": [
    {
     "name": "stdin",
     "output_type": "stream",
     "text": [
      "Enter a number:  12\n",
      "Enter another number:  4\n",
      "Enter one more number:  600\n"
     ]
    },
    {
     "name": "stdout",
     "output_type": "stream",
     "text": [
      "600 is the largest number\n"
     ]
    }
   ],
   "source": [
    "# 46. Given three numbers, print the largest one.\n",
    "a = int(input(\"Enter a number: \"))\n",
    "b = int(input(\"Enter another number: \"))\n",
    "c = int(input(\"Enter one more number: \"))\n",
    "\n",
    "if(a>b and a>c):\n",
    "    print(a, \"is the largest number\")\n",
    "elif(b>a and b>c):\n",
    "    print(b, \"is the largest number\")\n",
    "else:\n",
    "    print(c, \"is the largest number\")"
   ]
  },
  {
   "cell_type": "code",
   "execution_count": 87,
   "id": "db6db8bb-dc44-4f92-8978-5c6ce0a57c9b",
   "metadata": {},
   "outputs": [
    {
     "name": "stdin",
     "output_type": "stream",
     "text": [
      "Enter marks:  84\n"
     ]
    },
    {
     "name": "stdout",
     "output_type": "stream",
     "text": [
      "Grade B\n"
     ]
    }
   ],
   "source": [
    "# 47. Input a mark and print the grade: 90+: A, 75–89: B, 60–74: C, Else: F\n",
    "marks = int(input(\"Enter marks: \"))\n",
    "\n",
    "if marks >= 90:\n",
    "    print(\"Grade A\")\n",
    "elif marks >= 75 and marks <= 89:\n",
    "    print(\"Grade B\")\n",
    "elif marks >= 60 and marks <= 74:\n",
    "    print(\"Grade C\")\n",
    "else:\n",
    "    print(\"Grade F\")"
   ]
  },
  {
   "cell_type": "code",
   "execution_count": 88,
   "id": "16a6df50-0bc6-4dac-b784-6d5b57f1c94a",
   "metadata": {},
   "outputs": [
    {
     "name": "stdin",
     "output_type": "stream",
     "text": [
      "Enter a word:  madam\n"
     ]
    },
    {
     "name": "stdout",
     "output_type": "stream",
     "text": [
      "String is a palindrome\n"
     ]
    }
   ],
   "source": [
    "# 48. Check if a string is a palindrome.\n",
    "str = input(\"Enter a word: \")\n",
    "if str == str[::-1]:\n",
    "    print(\"String is a palindrome\")\n",
    "else:\n",
    "    print(\"String is not a palindrome\")"
   ]
  },
  {
   "cell_type": "code",
   "execution_count": 89,
   "id": "5bbbd0ca-b631-41b2-b34b-44b9330ab7c9",
   "metadata": {},
   "outputs": [
    {
     "name": "stdin",
     "output_type": "stream",
     "text": [
      "Enter a number:  379\n"
     ]
    },
    {
     "name": "stdout",
     "output_type": "stream",
     "text": [
      "Number is odd\n"
     ]
    }
   ],
   "source": [
    "# 49. Given a number, check if it is even or odd using conditional statements.\n",
    "num = int(input(\"Enter a number: \"))\n",
    "if(num%2==0):\n",
    "    print(\"Number is even\")\n",
    "else:\n",
    "    print(\"Number is odd\")"
   ]
  },
  {
   "cell_type": "code",
   "execution_count": 90,
   "id": "42a5bf4c-8ef4-4adc-bdd2-e9f8552bde80",
   "metadata": {},
   "outputs": [
    {
     "name": "stdin",
     "output_type": "stream",
     "text": [
      "Enter a number:  246\n",
      "Enter another number:  357\n",
      "Enter your choice:  add\n"
     ]
    },
    {
     "name": "stdout",
     "output_type": "stream",
     "text": [
      "Sum: 603\n"
     ]
    }
   ],
   "source": [
    "# 50. Take two numbers and a choice from the user. If the choice is \"add\", print sum; if \"sub\", print difference; else print \"Invalid choice\".\n",
    "n1 = int(input(\"Enter a number: \"))\n",
    "n2 = int(input(\"Enter another number: \"))\n",
    "c = input(\"Enter your choice: \")\n",
    "\n",
    "if c == 'add':\n",
    "    print(\"Sum:\", n1+n2)\n",
    "elif c == 'sub':\n",
    "    print(\"Subtraction:\", n1-n2)\n",
    "else:\n",
    "    print(\"Invalid Choice\")"
   ]
  },
  {
   "cell_type": "code",
   "execution_count": null,
   "id": "1583e2de-0c01-4115-8eac-48e3dbcce5a9",
   "metadata": {},
   "outputs": [],
   "source": []
  },
  {
   "cell_type": "markdown",
   "id": "f1b2534b-6c59-4871-8a53-4a5f66f881d4",
   "metadata": {},
   "source": [
    "# VII. Operators"
   ]
  },
  {
   "cell_type": "markdown",
   "id": "7f6125f9-a51d-42b4-9865-083919dd0acc",
   "metadata": {},
   "source": [
    "# A. Arithmetic Operators"
   ]
  },
  {
   "cell_type": "code",
   "execution_count": 91,
   "id": "02b7907d-af49-47f6-be7c-409b99256935",
   "metadata": {},
   "outputs": [
    {
     "name": "stdin",
     "output_type": "stream",
     "text": [
      "Enter a number:  87\n",
      "Enter another number:  43\n"
     ]
    },
    {
     "name": "stdout",
     "output_type": "stream",
     "text": [
      "Sum: 130\n",
      "Difference: 44\n",
      "Product: 3741\n",
      "Quotient: 2\n",
      "Remainder: 1\n"
     ]
    }
   ],
   "source": [
    "# 51. Input two numbers and print their sum, difference, product, quotient, and remainder.\n",
    "n1 = int(input(\"Enter a number: \"))\n",
    "n2 = int(input(\"Enter another number: \"))\n",
    "\n",
    "print(\"Sum:\", n1+n2)\n",
    "print(\"Difference:\", n1-n2)\n",
    "print(\"Product:\", n1*n2)\n",
    "print(\"Quotient:\", n1//n2)\n",
    "print(\"Remainder:\", n1%n2)"
   ]
  },
  {
   "cell_type": "code",
   "execution_count": 92,
   "id": "b2619a3d-3c56-489c-acf7-dde19ef5347d",
   "metadata": {},
   "outputs": [
    {
     "name": "stdout",
     "output_type": "stream",
     "text": [
      "32\n"
     ]
    }
   ],
   "source": [
    "# 52. Given a = 2, b = 5, print a ** b.\n",
    "a = 2\n",
    "b = 5\n",
    "print(a**b)"
   ]
  },
  {
   "cell_type": "code",
   "execution_count": 93,
   "id": "91149299-4803-49fd-a4a5-dde96bd157e7",
   "metadata": {},
   "outputs": [
    {
     "name": "stdin",
     "output_type": "stream",
     "text": [
      "Enter radius:  12\n"
     ]
    },
    {
     "name": "stdout",
     "output_type": "stream",
     "text": [
      "Area of circle: 452.16\n"
     ]
    }
   ],
   "source": [
    "# 53. Find the area of a circle given its radius (π = 3.14).\n",
    "r = int(input(\"Enter radius: \"))\n",
    "pi = 3.14\n",
    "area = pi*(r**2)\n",
    "print(\"Area of circle:\", area)"
   ]
  },
  {
   "cell_type": "code",
   "execution_count": 94,
   "id": "d560b3fe-7a41-4350-82db-8f4c9849d178",
   "metadata": {},
   "outputs": [
    {
     "name": "stdin",
     "output_type": "stream",
     "text": [
      "Enter marks of Marathi (out of 100):  91\n",
      "Enter marks of Hindi (out of 100):  87\n",
      "Enter marks of English (out of 100):  83\n",
      "Enter marks of Maths (out of 100):  96\n",
      "Enter marks of Science (out of 100):  94\n"
     ]
    },
    {
     "name": "stdout",
     "output_type": "stream",
     "text": [
      "Average marks: 90.2\n"
     ]
    }
   ],
   "source": [
    "# 54. Input marks of 5 subjects and print their average.\n",
    "m1 = int(input(\"Enter marks of Marathi (out of 100): \"))\n",
    "m2 = int(input(\"Enter marks of Hindi (out of 100): \"))\n",
    "m3 = int(input(\"Enter marks of English (out of 100): \"))\n",
    "m4 = int(input(\"Enter marks of Maths (out of 100): \"))\n",
    "m5 = int(input(\"Enter marks of Science (out of 100): \"))\n",
    "\n",
    "avg = (m1+m2+m3+m4+m5) / 5\n",
    "print(\"Average marks:\", avg)"
   ]
  },
  {
   "cell_type": "code",
   "execution_count": 95,
   "id": "c0497333-6c5e-4d00-82fe-204a46e106aa",
   "metadata": {},
   "outputs": [
    {
     "name": "stdin",
     "output_type": "stream",
     "text": [
      "Enter temperature in Celcius:  40\n"
     ]
    },
    {
     "name": "stdout",
     "output_type": "stream",
     "text": [
      "Temperature in Fahrenheit: 104.0 F\n"
     ]
    }
   ],
   "source": [
    "# 55. Convert temperature from Celsius to Fahrenheit.\n",
    "c = int(input(\"Enter temperature in Celcius: \"))\n",
    "f = ((9/5)*c) + 32\n",
    "print(f\"Temperature in Fahrenheit: {f} F\")"
   ]
  },
  {
   "cell_type": "code",
   "execution_count": null,
   "id": "df4c5f7d-475a-4764-9eeb-61f4eda97dda",
   "metadata": {},
   "outputs": [],
   "source": []
  },
  {
   "cell_type": "markdown",
   "id": "d1016316-12f4-4c25-9803-6478e46f89c9",
   "metadata": {},
   "source": [
    "# B. Bitwise Operators"
   ]
  },
  {
   "cell_type": "code",
   "execution_count": 96,
   "id": "d9e448e8-5218-47f7-8db7-b29573ca365c",
   "metadata": {},
   "outputs": [
    {
     "name": "stdout",
     "output_type": "stream",
     "text": [
      "a & b: 1\n",
      "a | b: 7\n",
      "a ^ b: 6\n"
     ]
    }
   ],
   "source": [
    "# 56. For a = 5 and b = 3, print results of a & b, a | b, and a ^ b.\n",
    "a = 5\n",
    "b = 3\n",
    "print(f\"a & b: {a & b}\")\n",
    "print(f\"a | b: {a | b}\")\n",
    "print(f\"a ^ b: {a ^ b}\")"
   ]
  },
  {
   "cell_type": "code",
   "execution_count": 97,
   "id": "81c5bd18-c12c-4884-8a6f-7c0db3dc7967",
   "metadata": {},
   "outputs": [
    {
     "name": "stdout",
     "output_type": "stream",
     "text": [
      "x << 2: 32\n"
     ]
    }
   ],
   "source": [
    "# 57. Shift bits of x = 8 to the left by 2 positions and print the result.\n",
    "x = 8\n",
    "print(f\"x << 2: {x << 2}\")"
   ]
  },
  {
   "cell_type": "code",
   "execution_count": 98,
   "id": "ed3d96e0-e2ba-4cbb-836e-a54354c4211f",
   "metadata": {},
   "outputs": [
    {
     "name": "stdout",
     "output_type": "stream",
     "text": [
      "Number is odd\n"
     ]
    }
   ],
   "source": [
    "# 58. Check whether a given number is even using bitwise operators.\n",
    "x = 15\n",
    "# using bitwise and\n",
    "if (x & 1) == 0:\n",
    "    print(\"Number is even\")\n",
    "else:\n",
    "    print(\"Number is odd\")"
   ]
  },
  {
   "cell_type": "code",
   "execution_count": 99,
   "id": "2d4b1936-d0ce-491b-b644-dfa4b54393e9",
   "metadata": {},
   "outputs": [
    {
     "name": "stdout",
     "output_type": "stream",
     "text": [
      "Number is odd\n"
     ]
    }
   ],
   "source": [
    "x = 15\n",
    "# using bitwise or\n",
    "if (x | 1 > x):\n",
    "    print(\"Number is even\")\n",
    "else:\n",
    "    print(\"Number is odd\")"
   ]
  },
  {
   "cell_type": "code",
   "execution_count": 100,
   "id": "ae350913-c51e-4784-9105-a17e97415509",
   "metadata": {},
   "outputs": [
    {
     "name": "stdin",
     "output_type": "stream",
     "text": [
      "Enter a number:  45\n",
      "Enter another number:  76\n"
     ]
    },
    {
     "name": "stdout",
     "output_type": "stream",
     "text": [
      "Original\n",
      "x: 45, y: 76\n",
      "After swapping\n",
      "x: 76, y: 45\n"
     ]
    }
   ],
   "source": [
    "# 59. Swap two numbers using bitwise XOR.\n",
    "x = int(input(\"Enter a number: \"))\n",
    "y = int(input(\"Enter another number: \"))\n",
    "print(\"Original\")\n",
    "print(f\"x: {x}, y: {y}\")\n",
    "\n",
    "x = x ^ y\n",
    "y = x ^ y\n",
    "x = x ^ y\n",
    "print(\"After swapping\")\n",
    "print(f\"x: {x}, y: {y}\")"
   ]
  },
  {
   "cell_type": "code",
   "execution_count": 101,
   "id": "aab7f1e5-cd63-403b-9317-d980b7104522",
   "metadata": {},
   "outputs": [
    {
     "name": "stdout",
     "output_type": "stream",
     "text": [
      "~x: -17\n"
     ]
    }
   ],
   "source": [
    "# 60. Demonstrate bitwise NOT on an integer and explain the output.\n",
    "\n",
    "'''\n",
    "x = 16\n",
    "Bitwise NOT (~) operations inverts all the bits.\n",
    "It takes an integer and converts it to its equivalent binary representation and\n",
    "changes all the 0's in the original binary number to 1's and all the 1's to 0's.\n",
    "Python uses signed integer in two's complement form. So when we apply the bitwise NOT, \n",
    "it flip all bits and interprets the result as a signed integer using two's complement.\n",
    "In two's complement, the formula for bitwise NOT is:\n",
    "~x = -(x + 1)\n",
    "Here,\n",
    "x = 16\n",
    "~x = -(16 + 1) = -17\n",
    "So, the output is -17\n",
    "\n",
    "Binary number of 16 = 0001 0000\n",
    "Flipping the bits = 1110 1111\n",
    "In binary signed 2's complement, 1110 1111 is -17\n",
    "'''\n",
    "x = 16\n",
    "print(f\"~x: {~x}\")"
   ]
  },
  {
   "cell_type": "code",
   "execution_count": null,
   "id": "48e64920-e6dd-4692-a7a1-a71e420b0765",
   "metadata": {},
   "outputs": [],
   "source": []
  },
  {
   "cell_type": "markdown",
   "id": "6c03af3d-7a0a-4d1e-9f2c-90881ed53f67",
   "metadata": {},
   "source": [
    "# C. Conditional (Ternary) Operators"
   ]
  },
  {
   "cell_type": "code",
   "execution_count": 102,
   "id": "8b8f90bc-2dbd-43a8-b409-0979ad4ef305",
   "metadata": {},
   "outputs": [
    {
     "name": "stdin",
     "output_type": "stream",
     "text": [
      "Enter a number:  15\n",
      "Enter another number:  20\n"
     ]
    },
    {
     "name": "stdout",
     "output_type": "stream",
     "text": [
      "20 is greater\n"
     ]
    }
   ],
   "source": [
    "# 61. Input two numbers and print the greater one using a ternary operator.\n",
    "x = int(input(\"Enter a number: \"))\n",
    "y = int(input(\"Enter another number: \"))\n",
    "res = f\"{x} is greater\" if x > y else f\"{y} is greater\"\n",
    "print(res)"
   ]
  },
  {
   "cell_type": "code",
   "execution_count": null,
   "id": "7993b83e-b3e3-425d-84fc-eb318c477373",
   "metadata": {},
   "outputs": [],
   "source": [
    "# 62. Print \"even\" if a number is divisible by 2, else print \"odd\".\n",
    "num = int(input(\"Enter a number: \"))\n",
    "res = \"Even\" if num%2==0 else \"Odd\"\n",
    "print(res)"
   ]
  },
  {
   "cell_type": "code",
   "execution_count": null,
   "id": "31881cb0-39af-4ec1-9135-6393d949b184",
   "metadata": {},
   "outputs": [],
   "source": [
    "# 63. Assign \"Pass\" or \"Fail\" to a variable based on marks ≥ 40 using a single line.\n",
    "marks = int(input(\"Enter marks: \"))\n",
    "res = \"Pass\" if marks >= 40 else \"Fail\"\n",
    "print(res)"
   ]
  },
  {
   "cell_type": "code",
   "execution_count": null,
   "id": "dd7a48d2-d5fd-46ba-9758-b629497b97a2",
   "metadata": {},
   "outputs": [],
   "source": [
    "# 64. Input three numbers and print the smallest using a ternary operator.\n",
    "x = int(input(\"Enter a number: \"))\n",
    "y = int(input(\"Enter another number: \"))\n",
    "z = int(input(\"Enter one more number: \"))\n",
    "res = f\"{x} is greater\" if (x > y and x > z) else f\"{y} is greater\" if (y > x and y > z) else f\"{z} is greater\"\n",
    "print(res)"
   ]
  },
  {
   "cell_type": "code",
   "execution_count": null,
   "id": "6c97a04a-9b97-41f4-b38f-726ff3bca338",
   "metadata": {},
   "outputs": [],
   "source": [
    "# 65. Check if a character is uppercase or lowercase in one line.\n",
    "str = input(\"Enter a string: \")\n",
    "res = \"Uppercase\" if str.isupper() else \"Lowercase\" if str.islower() else \"Either mixed or non-alphabetic character\"\n",
    "print(res)"
   ]
  },
  {
   "cell_type": "code",
   "execution_count": null,
   "id": "c0a634db-8bf8-40d8-a987-620e152d8b3e",
   "metadata": {},
   "outputs": [],
   "source": []
  }
 ],
 "metadata": {
  "kernelspec": {
   "display_name": "Python 3 (ipykernel)",
   "language": "python",
   "name": "python3"
  },
  "language_info": {
   "codemirror_mode": {
    "name": "ipython",
    "version": 3
   },
   "file_extension": ".py",
   "mimetype": "text/x-python",
   "name": "python",
   "nbconvert_exporter": "python",
   "pygments_lexer": "ipython3",
   "version": "3.11.7"
  }
 },
 "nbformat": 4,
 "nbformat_minor": 5
}
