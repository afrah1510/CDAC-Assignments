{
 "cells": [
  {
   "cell_type": "markdown",
   "id": "40b53455-a8b2-44d5-9ae2-cc6a45d6e74c",
   "metadata": {},
   "source": [
    "# Assignment 1"
   ]
  },
  {
   "cell_type": "code",
   "execution_count": 1,
   "id": "06dfb4e4-878d-4f56-bc4d-db604f9ef2a6",
   "metadata": {},
   "outputs": [],
   "source": [
    "# 1. Create a string variable named my_string and assign it the value \"qwertyuiopasdfghjkl asdfghjkzxcvbnm\".\n",
    "my_string = \"qwertyuiopasdfghjkl asdfghjkzxcvbnm\""
   ]
  },
  {
   "cell_type": "code",
   "execution_count": 2,
   "id": "68e77bb3-6eb6-4b78-9652-8becd3cb350b",
   "metadata": {},
   "outputs": [
    {
     "data": {
      "text/plain": [
       "'e'"
      ]
     },
     "execution_count": 2,
     "metadata": {},
     "output_type": "execute_result"
    }
   ],
   "source": [
    "# 2. Print the third character of my_string using indexing.\n",
    "my_string[2]"
   ]
  },
  {
   "cell_type": "code",
   "execution_count": 3,
   "id": "58c56ee2-bbe8-4754-8610-2b3238b2a2bd",
   "metadata": {},
   "outputs": [
    {
     "data": {
      "text/plain": [
       "'m'"
      ]
     },
     "execution_count": 3,
     "metadata": {},
     "output_type": "execute_result"
    }
   ],
   "source": [
    "# 3. Print the last character of my_string using indexing.\n",
    "my_string[-1]"
   ]
  },
  {
   "cell_type": "code",
   "execution_count": 4,
   "id": "d921d1fa-1828-4f3b-a56b-ee8dbf77f681",
   "metadata": {},
   "outputs": [
    {
     "data": {
      "text/plain": [
       "'qwert'"
      ]
     },
     "execution_count": 4,
     "metadata": {},
     "output_type": "execute_result"
    }
   ],
   "source": [
    "# 4. Print the first five characters of my_string using slicing.\n",
    "my_string[:5:]"
   ]
  },
  {
   "cell_type": "code",
   "execution_count": 5,
   "id": "a4eb2cbb-6845-4e1f-b119-08b886556444",
   "metadata": {},
   "outputs": [
    {
     "data": {
      "text/plain": [
       "'cvbnm'"
      ]
     },
     "execution_count": 5,
     "metadata": {},
     "output_type": "execute_result"
    }
   ],
   "source": [
    "# 5. Print the last five characters of my_string using slicing.\n",
    "my_string[-5::]"
   ]
  },
  {
   "cell_type": "code",
   "execution_count": 6,
   "id": "5b34df7d-3874-4cf6-881d-cbdf2d3e7c8f",
   "metadata": {},
   "outputs": [
    {
     "data": {
      "text/plain": [
       "'qetuoadgjladgjzcbm'"
      ]
     },
     "execution_count": 6,
     "metadata": {},
     "output_type": "execute_result"
    }
   ],
   "source": [
    "# 6. Print every other character of my_string using slicing.\n",
    "my_string[::2]"
   ]
  },
  {
   "cell_type": "code",
   "execution_count": 7,
   "id": "12facf48-9eff-4d90-af6a-242f25b0c951",
   "metadata": {},
   "outputs": [
    {
     "data": {
      "text/plain": [
       "'mnbvcxzkjhgfdsa lkjhgfdsapoiuytrewq'"
      ]
     },
     "execution_count": 7,
     "metadata": {},
     "output_type": "execute_result"
    }
   ],
   "source": [
    "# 7. Print my_string in reverse using slicing.\n",
    "my_string[::-1]"
   ]
  },
  {
   "cell_type": "code",
   "execution_count": 8,
   "id": "a3363650-868c-4044-b04c-6585a83a1237",
   "metadata": {},
   "outputs": [
    {
     "data": {
      "text/plain": [
       "'qw'"
      ]
     },
     "execution_count": 8,
     "metadata": {},
     "output_type": "execute_result"
    }
   ],
   "source": [
    "# 8. Print the first two characters of my_string using slicing.\n",
    "my_string[:2:]"
   ]
  },
  {
   "cell_type": "code",
   "execution_count": 9,
   "id": "5c67aa40-9ddb-4e48-a1cd-3b06f9a3b87b",
   "metadata": {},
   "outputs": [
    {
     "data": {
      "text/plain": [
       "'iopasd'"
      ]
     },
     "execution_count": 9,
     "metadata": {},
     "output_type": "execute_result"
    }
   ],
   "source": [
    "# 9. Print the characters of my_string from index 7 to index 12 (inclusive) using slicing.\n",
    "my_string[7:13:]"
   ]
  },
  {
   "cell_type": "code",
   "execution_count": 10,
   "id": "eb63b52b-f4ca-4e23-88df-07387096c75a",
   "metadata": {},
   "outputs": [
    {
     "data": {
      "text/plain": [
       "'bnm'"
      ]
     },
     "execution_count": 10,
     "metadata": {},
     "output_type": "execute_result"
    }
   ],
   "source": [
    "# 10. Print the last three characters of my_string using slicing.\n",
    "my_string[-3::]"
   ]
  },
  {
   "cell_type": "code",
   "execution_count": 11,
   "id": "f9e42d24-cc59-472b-8e0b-551e12035580",
   "metadata": {},
   "outputs": [
    {
     "name": "stdout",
     "output_type": "stream",
     "text": [
      "m\n",
      "n\n",
      "b\n",
      "v\n",
      "c\n",
      "x\n",
      "z\n",
      "k\n",
      "j\n",
      "h\n",
      "g\n",
      "f\n",
      "d\n",
      "s\n",
      "a\n",
      " \n",
      "l\n",
      "k\n",
      "j\n",
      "h\n",
      "g\n",
      "f\n",
      "d\n",
      "s\n",
      "a\n",
      "p\n",
      "o\n",
      "i\n",
      "u\n",
      "y\n",
      "t\n",
      "r\n",
      "e\n",
      "w\n",
      "q\n"
     ]
    }
   ],
   "source": [
    "# 11. Print the characters of my_string in reverse order using slicing.\n",
    "for i in my_string[::-1]:\n",
    "    print(i)"
   ]
  },
  {
   "cell_type": "code",
   "execution_count": 12,
   "id": "9d8d62d9-2c2c-4d03-93f1-d589b0f1a145",
   "metadata": {},
   "outputs": [
    {
     "data": {
      "text/plain": [
       "'eyosgkafjxb'"
      ]
     },
     "execution_count": 12,
     "metadata": {},
     "output_type": "execute_result"
    }
   ],
   "source": [
    "# 12. Print every third character of my_string starting from the second character using slicing.\n",
    "my_string[2::3]"
   ]
  },
  {
   "cell_type": "code",
   "execution_count": 13,
   "id": "694aed5a-710c-40da-a880-ae7c0bc50b08",
   "metadata": {},
   "outputs": [],
   "source": [
    "# 13. Create a new string variable named new_string and assign it the value \"learning is fun\". \n",
    "new_string = \"learning is fun\""
   ]
  },
  {
   "cell_type": "code",
   "execution_count": 14,
   "id": "7b6a5358-fcd7-489c-9f8c-be6ed76f2027",
   "metadata": {},
   "outputs": [
    {
     "data": {
      "text/plain": [
       "'qwertyuiopasdfghjkl asdfghjkzxcvbnmlearning is fun'"
      ]
     },
     "execution_count": 14,
     "metadata": {},
     "output_type": "execute_result"
    }
   ],
   "source": [
    "# Concatenate my_string and new_string using the + operator and print the resulting string.\n",
    "my_string + new_string"
   ]
  },
  {
   "cell_type": "code",
   "execution_count": 15,
   "id": "76794181-fac2-4f07-ae0f-442aee0df3f0",
   "metadata": {},
   "outputs": [],
   "source": [
    "# 14. Create a string variable named my_string and assign it the value \"Python is easy to learn!\".\n",
    "my_string = \"Python is easy to learn!\""
   ]
  },
  {
   "cell_type": "code",
   "execution_count": 16,
   "id": "8fa6db84-42a2-4dd8-979e-9fb81f2aea48",
   "metadata": {},
   "outputs": [
    {
     "data": {
      "text/plain": [
       "24"
      ]
     },
     "execution_count": 16,
     "metadata": {},
     "output_type": "execute_result"
    }
   ],
   "source": [
    "# 14a. Print the length of my_string.\n",
    "len(my_string)"
   ]
  },
  {
   "cell_type": "code",
   "execution_count": 17,
   "id": "b1bb4c27-349d-4e97-9fb0-1154e75aab13",
   "metadata": {},
   "outputs": [
    {
     "data": {
      "text/plain": [
       "'PYTHON IS EASY TO LEARN!'"
      ]
     },
     "execution_count": 17,
     "metadata": {},
     "output_type": "execute_result"
    }
   ],
   "source": [
    "# 14b. Convert my_string to uppercase and print it.\n",
    "my_string.upper()"
   ]
  },
  {
   "cell_type": "code",
   "execution_count": 18,
   "id": "07efeab2-4b3e-462f-80e0-b6533c5e9551",
   "metadata": {},
   "outputs": [
    {
     "data": {
      "text/plain": [
       "'Python is powerful to learn!'"
      ]
     },
     "execution_count": 18,
     "metadata": {},
     "output_type": "execute_result"
    }
   ],
   "source": [
    "# 14c. Replace the word \"easy\" in my_string with the word \"powerful\" and print the resulting string.\n",
    "my_string.replace('easy', 'powerful')"
   ]
  },
  {
   "cell_type": "code",
   "execution_count": 19,
   "id": "c49d79c1-67af-4f22-a352-622865f3bff7",
   "metadata": {},
   "outputs": [],
   "source": [
    "# 15. Create a string variable named email and assign it the value \"jane.doe@example.com\".\n",
    "email = \"jane.doe@example.com\""
   ]
  },
  {
   "cell_type": "code",
   "execution_count": 20,
   "id": "95b02943-2003-40dd-b5a7-28fed91bc0f9",
   "metadata": {},
   "outputs": [
    {
     "data": {
      "text/plain": [
       "'jane.doe'"
      ]
     },
     "execution_count": 20,
     "metadata": {},
     "output_type": "execute_result"
    }
   ],
   "source": [
    "# 15a. Print the username (i.e., \"jane.doe\") by slicing the string.\n",
    "email[:8:]"
   ]
  },
  {
   "cell_type": "code",
   "execution_count": 21,
   "id": "faf9653d-6ee5-4479-8dd0-339f23221f13",
   "metadata": {},
   "outputs": [
    {
     "data": {
      "text/plain": [
       "'example.com'"
      ]
     },
     "execution_count": 21,
     "metadata": {},
     "output_type": "execute_result"
    }
   ],
   "source": [
    "# 15b. Print the domain (i.e., \"example.com\") by slicing the string.\n",
    "email[9::]"
   ]
  },
  {
   "cell_type": "code",
   "execution_count": 22,
   "id": "1e495004-ca55-42e8-a5c1-0ed4cc66dd45",
   "metadata": {},
   "outputs": [
    {
     "data": {
      "text/plain": [
       "'jane.doe@mycompany.com'"
      ]
     },
     "execution_count": 22,
     "metadata": {},
     "output_type": "execute_result"
    }
   ],
   "source": [
    "# 15c. Replace the domain with \"mycompany.com\" and print the resulting email address.\n",
    "email.replace('example.com', 'mycompany.com')"
   ]
  },
  {
   "cell_type": "code",
   "execution_count": 23,
   "id": "9739fe20-87e0-436a-9db1-9aab79801c28",
   "metadata": {},
   "outputs": [],
   "source": [
    "# 16. Create a string variable named my_string and assign it the value \"Python is fun\".\n",
    "my_string = \"Python is fun\""
   ]
  },
  {
   "cell_type": "code",
   "execution_count": 24,
   "id": "f6cecdf5-b47e-476d-a497-98c77f14a073",
   "metadata": {},
   "outputs": [
    {
     "name": "stdout",
     "output_type": "stream",
     "text": [
      "True\n"
     ]
    }
   ],
   "source": [
    "# 16a. Check if the word \"is\" is in my_string and print the result.\n",
    "print('is' in my_string)"
   ]
  },
  {
   "cell_type": "code",
   "execution_count": 25,
   "id": "2c4b0a85-f59e-41fa-89f3-608013130b87",
   "metadata": {},
   "outputs": [
    {
     "name": "stdout",
     "output_type": "stream",
     "text": [
      "False\n"
     ]
    }
   ],
   "source": [
    "# 16b. Check if the word \"Java\" is not in my_string and print the result.\n",
    "print('Java' in my_string)"
   ]
  },
  {
   "cell_type": "code",
   "execution_count": 26,
   "id": "0b3009c3-7d30-4aa4-aadf-c140e1159179",
   "metadata": {},
   "outputs": [
    {
     "data": {
      "text/plain": [
       "['Python', 'is', 'fun']"
      ]
     },
     "execution_count": 26,
     "metadata": {},
     "output_type": "execute_result"
    }
   ],
   "source": [
    "# 16c. Split my_string into a list of words and print the result.\n",
    "my_string.split(' ')"
   ]
  },
  {
   "cell_type": "code",
   "execution_count": 27,
   "id": "fcd08530-dd39-4178-b432-b33b7fed9b3a",
   "metadata": {},
   "outputs": [],
   "source": [
    "# 17. Create a string variable named my_string and assign it the value \"Programming is fun!\".\n",
    "my_string = \"Programming is fun!\""
   ]
  },
  {
   "cell_type": "code",
   "execution_count": 28,
   "id": "7419befb-4228-452a-bea2-b3cdd559cdf2",
   "metadata": {},
   "outputs": [
    {
     "data": {
      "text/plain": [
       "'Programming is awesome!'"
      ]
     },
     "execution_count": 28,
     "metadata": {},
     "output_type": "execute_result"
    }
   ],
   "source": [
    "# 17a. Use string interpolation to replace \"fun\" with \"awesome\" and print the resulting string.\n",
    "my_string.replace('fun', 'awesome')"
   ]
  },
  {
   "cell_type": "code",
   "execution_count": 29,
   "id": "4462ca49-726a-4da7-9c1a-612f2785d0a7",
   "metadata": {},
   "outputs": [],
   "source": [
    "# 17b. Use the split method to split my_string into a list of words and print the result.\n",
    "a = my_string.split(' ')"
   ]
  },
  {
   "cell_type": "code",
   "execution_count": 30,
   "id": "554f1289-d3c0-41f6-af24-e4914feb0750",
   "metadata": {},
   "outputs": [
    {
     "data": {
      "text/plain": [
       "['Programming', 'is', 'fun!']"
      ]
     },
     "execution_count": 30,
     "metadata": {},
     "output_type": "execute_result"
    }
   ],
   "source": [
    "a"
   ]
  },
  {
   "cell_type": "code",
   "execution_count": 31,
   "id": "ebc213f2-0c0d-471e-ac60-31b9191c75e4",
   "metadata": {},
   "outputs": [],
   "source": [
    "# 17c. Use the join method to concatenate the list of words into a single string using a space as a separator and print the resulting string.\n",
    "b = ' '.join(a)"
   ]
  },
  {
   "cell_type": "code",
   "execution_count": 32,
   "id": "3ba60c1c-cbbd-4e59-bb35-7c9d7eb025a3",
   "metadata": {},
   "outputs": [
    {
     "data": {
      "text/plain": [
       "'Programming is fun!'"
      ]
     },
     "execution_count": 32,
     "metadata": {},
     "output_type": "execute_result"
    }
   ],
   "source": [
    "b"
   ]
  },
  {
   "cell_type": "code",
   "execution_count": 33,
   "id": "076a5a2a-39c4-49f6-97a3-c308fcfa2ee5",
   "metadata": {},
   "outputs": [],
   "source": [
    "# 18. Create a string variable named my_string and assign it the value \"This is a test sentence.\".\n",
    "my_string = \"This is a test sentence\""
   ]
  },
  {
   "cell_type": "code",
   "execution_count": 34,
   "id": "ddb1f728-5b17-45f3-83da-19ca1d7fc263",
   "metadata": {},
   "outputs": [
    {
     "data": {
      "text/plain": [
       "4"
      ]
     },
     "execution_count": 34,
     "metadata": {},
     "output_type": "execute_result"
    }
   ],
   "source": [
    "# 18a. Use the count method to count the number of occurrences of the letter \"e\" in my_string and print the result.\n",
    "my_string.count('e')"
   ]
  },
  {
   "cell_type": "code",
   "execution_count": 35,
   "id": "5da647ab-62eb-480a-ac62-505af496085a",
   "metadata": {},
   "outputs": [
    {
     "data": {
      "text/plain": [
       "10"
      ]
     },
     "execution_count": 35,
     "metadata": {},
     "output_type": "execute_result"
    }
   ],
   "source": [
    "# 18b. Use the find method to find the index of the first occurrence of the word \"test\" in my_string and print the result.\n",
    "my_string.find('test')"
   ]
  },
  {
   "cell_type": "code",
   "execution_count": 36,
   "id": "81a97667-f751-4526-9077-4d814f7a20e9",
   "metadata": {},
   "outputs": [
    {
     "data": {
      "text/plain": [
       "'This is a example sentence'"
      ]
     },
     "execution_count": 36,
     "metadata": {},
     "output_type": "execute_result"
    }
   ],
   "source": [
    "# 18c. Use the replace method to replace the word \"test\" with the word \"example\" in my_string and print the resulting string.\n",
    "my_string.replace('test', 'example')"
   ]
  },
  {
   "cell_type": "code",
   "execution_count": 37,
   "id": "412c0fea-75ab-4e1d-8142-ac6b206a3245",
   "metadata": {},
   "outputs": [],
   "source": [
    "# 19. Create a string variable named my_string and assign it the value \"python\".\n",
    "my_string = \"python\""
   ]
  },
  {
   "cell_type": "code",
   "execution_count": 38,
   "id": "af3d726f-d6af-4330-857d-806022e8dc40",
   "metadata": {},
   "outputs": [
    {
     "data": {
      "text/plain": [
       "'typ'"
      ]
     },
     "execution_count": 38,
     "metadata": {},
     "output_type": "execute_result"
    }
   ],
   "source": [
    "# 19a. Use slicing to print the first three characters of my_string in reverse order.\n",
    "my_string[2::-1]"
   ]
  },
  {
   "cell_type": "code",
   "execution_count": 39,
   "id": "cbba27a2-e401-4528-9c80-57948a775a5d",
   "metadata": {},
   "outputs": [
    {
     "data": {
      "text/plain": [
       "'no'"
      ]
     },
     "execution_count": 39,
     "metadata": {},
     "output_type": "execute_result"
    }
   ],
   "source": [
    "# 19b. Use slicing to print the last two characters of my_string in reverse order.\n",
    "my_string[:3:-1]"
   ]
  },
  {
   "cell_type": "code",
   "execution_count": 40,
   "id": "5b8ded10-ad40-4a67-b64a-49b319283268",
   "metadata": {},
   "outputs": [],
   "source": [
    "# 19c. Use the join method to add a hyphen between each character of my_string and print the resulting string.\n",
    "# x = list(my_string)\n",
    "\n",
    "x = []\n",
    "\n",
    "for i in my_string:\n",
    "    x.append(i)"
   ]
  },
  {
   "cell_type": "code",
   "execution_count": 41,
   "id": "a63261d4-bc7b-4c77-8438-ceef1ae2f0fa",
   "metadata": {},
   "outputs": [
    {
     "data": {
      "text/plain": [
       "['p', 'y', 't', 'h', 'o', 'n']"
      ]
     },
     "execution_count": 41,
     "metadata": {},
     "output_type": "execute_result"
    }
   ],
   "source": [
    "x"
   ]
  },
  {
   "cell_type": "code",
   "execution_count": 42,
   "id": "5a4a637e-e600-46e7-9f59-e4735ff8a346",
   "metadata": {},
   "outputs": [],
   "source": [
    "y = '-'.join(x)"
   ]
  },
  {
   "cell_type": "code",
   "execution_count": 43,
   "id": "dec4be6e-87e0-4388-a1f8-6301dfd3a60d",
   "metadata": {},
   "outputs": [
    {
     "data": {
      "text/plain": [
       "'p-y-t-h-o-n'"
      ]
     },
     "execution_count": 43,
     "metadata": {},
     "output_type": "execute_result"
    }
   ],
   "source": [
    "y"
   ]
  },
  {
   "cell_type": "code",
   "execution_count": 44,
   "id": "e4f487d9-b1ae-4c28-bd13-e0d239b7b4f7",
   "metadata": {},
   "outputs": [],
   "source": [
    "# 20. Create a string variable named my_string and assign it the value \"Python is a popular programming language\".\n",
    "my_string = \"Python is a popular programming language\""
   ]
  },
  {
   "cell_type": "code",
   "execution_count": 45,
   "id": "9a485e5f-67d4-4556-923d-528f74a65296",
   "metadata": {},
   "outputs": [
    {
     "data": {
      "text/plain": [
       "'Python Is A Popular Programming Language'"
      ]
     },
     "execution_count": 45,
     "metadata": {},
     "output_type": "execute_result"
    }
   ],
   "source": [
    "# 20a. Use the title method to capitalize the first letter of each word in my_string and print the resulting string.\n",
    "my_string.title()"
   ]
  },
  {
   "cell_type": "code",
   "execution_count": 46,
   "id": "cd950dc0-239d-4cc4-acc3-d95be8ff54d8",
   "metadata": {},
   "outputs": [
    {
     "data": {
      "text/plain": [
       "['Python', 'is', 'a', 'popular', 'programming', 'language']"
      ]
     },
     "execution_count": 46,
     "metadata": {},
     "output_type": "execute_result"
    }
   ],
   "source": [
    "# 20b. Use the split method to split my_string into a list of words and print the result.\n",
    "my_string.split(' ')"
   ]
  },
  {
   "cell_type": "code",
   "execution_count": 47,
   "id": "ddeb824c-5496-4316-9d3b-8afd469f9a17",
   "metadata": {},
   "outputs": [
    {
     "data": {
      "text/plain": [
       "'Java is a popular programming language'"
      ]
     },
     "execution_count": 47,
     "metadata": {},
     "output_type": "execute_result"
    }
   ],
   "source": [
    "# 20c. Use the replace method to replace the word \"Python\" with \"Java\" in my_string and print the resulting string.\n",
    "my_string.replace('Python', 'Java')"
   ]
  },
  {
   "cell_type": "code",
   "execution_count": 48,
   "id": "2e2a1c43-cdb4-449c-be64-cb0084af9a36",
   "metadata": {},
   "outputs": [],
   "source": [
    "# 21. Create a string variable named my_string and assign it the value \"Hello, World!\".\n",
    "my_string = \"Hello, World!\""
   ]
  },
  {
   "cell_type": "code",
   "execution_count": 49,
   "id": "61619bd3-af4d-4fa7-b5c8-f1cd22f4956e",
   "metadata": {},
   "outputs": [
    {
     "data": {
      "text/plain": [
       "'hello, world!'"
      ]
     },
     "execution_count": 49,
     "metadata": {},
     "output_type": "execute_result"
    }
   ],
   "source": [
    "# 21a. Use the lower method to convert my_string to lowercase and print the resulting string.\n",
    "my_string.lower()"
   ]
  },
  {
   "cell_type": "code",
   "execution_count": 50,
   "id": "19c41456-5d68-4866-9630-61013152228e",
   "metadata": {},
   "outputs": [
    {
     "data": {
      "text/plain": [
       "'HELLO, WORLD!'"
      ]
     },
     "execution_count": 50,
     "metadata": {},
     "output_type": "execute_result"
    }
   ],
   "source": [
    "# 21b. Use the upper method to convert my_string to uppercase and print the resulting string.\n",
    "my_string.upper()"
   ]
  },
  {
   "cell_type": "code",
   "execution_count": 51,
   "id": "f22582ba-af2d-4ed5-8a81-4e930d66cc5a",
   "metadata": {},
   "outputs": [
    {
     "data": {
      "text/plain": [
       "'World'"
      ]
     },
     "execution_count": 51,
     "metadata": {},
     "output_type": "execute_result"
    }
   ],
   "source": [
    "# 21c. Use slicing to print the string \"World\" from my_string.\n",
    "my_string[7:12:]"
   ]
  },
  {
   "cell_type": "code",
   "execution_count": 52,
   "id": "1d04698c-2a05-47b4-842e-111f57fca7c7",
   "metadata": {},
   "outputs": [],
   "source": [
    "# 22. Create a string variable named my_string and assign it the value \"racecar\".\n",
    "my_string = \"racecar\""
   ]
  },
  {
   "cell_type": "code",
   "execution_count": 53,
   "id": "56fc7804-1a37-4c86-abbc-7dda153c3396",
   "metadata": {},
   "outputs": [
    {
     "data": {
      "text/plain": [
       "'race'"
      ]
     },
     "execution_count": 53,
     "metadata": {},
     "output_type": "execute_result"
    }
   ],
   "source": [
    "# 22a. Use slicing to print the string \"race\" from my_string.\n",
    "my_string[:4:]"
   ]
  },
  {
   "cell_type": "code",
   "execution_count": 54,
   "id": "8d722200-d100-43a6-8929-94e972503a1f",
   "metadata": {},
   "outputs": [
    {
     "data": {
      "text/plain": [
       "'cec'"
      ]
     },
     "execution_count": 54,
     "metadata": {},
     "output_type": "execute_result"
    }
   ],
   "source": [
    "# 22b. Use slicing to print the string \"cec\" from my_string in reverse order.\n",
    "my_string[-3:1:-1]"
   ]
  },
  {
   "cell_type": "code",
   "execution_count": 55,
   "id": "ebb8fe89-21d3-43cc-82eb-37117e39c613",
   "metadata": {},
   "outputs": [
    {
     "name": "stdout",
     "output_type": "stream",
     "text": [
      "String is a palindrome\n"
     ]
    }
   ],
   "source": [
    "# 22c. Check if my_string is a palindrome (i.e., reads the same forwards and backwards) and print the result.\n",
    "if my_string == my_string[::-1]:\n",
    "    print(\"String is a palindrome\")"
   ]
  },
  {
   "cell_type": "code",
   "execution_count": 56,
   "id": "07567490-f0d2-4178-8c46-58bc0258b123",
   "metadata": {},
   "outputs": [],
   "source": [
    "# 23. Create a list named fruits with the values [\"apple\", \"banana\", \"cherry\", \"mango\", \"orange\"].\n",
    "fruits = ['apple', 'banana', 'cherry', 'mango', 'orange']"
   ]
  },
  {
   "cell_type": "code",
   "execution_count": 57,
   "id": "c88fe63f-0885-4d42-9ba5-e53578558b27",
   "metadata": {},
   "outputs": [
    {
     "data": {
      "text/plain": [
       "'apple'"
      ]
     },
     "execution_count": 57,
     "metadata": {},
     "output_type": "execute_result"
    }
   ],
   "source": [
    "# 23a. Print the first fruit.\n",
    "fruits[0]"
   ]
  },
  {
   "cell_type": "code",
   "execution_count": 58,
   "id": "5b538491-171a-411d-9b37-e91e079bb655",
   "metadata": {},
   "outputs": [
    {
     "data": {
      "text/plain": [
       "['mango', 'orange']"
      ]
     },
     "execution_count": 58,
     "metadata": {},
     "output_type": "execute_result"
    }
   ],
   "source": [
    "# 23b. Print the last two fruits using slicing.\n",
    "fruits[-2::]"
   ]
  },
  {
   "cell_type": "code",
   "execution_count": 59,
   "id": "53b1fed1-5a05-4c24-9b30-1a7abaa93e16",
   "metadata": {},
   "outputs": [],
   "source": [
    "# 23c. Add \"grape\" to the list and print it.\n",
    "fruits.append('grapes')"
   ]
  },
  {
   "cell_type": "code",
   "execution_count": 60,
   "id": "bc4a2176-ed56-4abb-9f1d-5898136b4f46",
   "metadata": {},
   "outputs": [
    {
     "data": {
      "text/plain": [
       "['apple', 'banana', 'cherry', 'mango', 'orange', 'grapes']"
      ]
     },
     "execution_count": 60,
     "metadata": {},
     "output_type": "execute_result"
    }
   ],
   "source": [
    "fruits"
   ]
  },
  {
   "cell_type": "code",
   "execution_count": 61,
   "id": "b8c396a0-6eb4-40f4-a2f8-d555f8f5a760",
   "metadata": {},
   "outputs": [],
   "source": [
    "# 24. Create a list of numbers from 1 to 10.\n",
    "num = list(range(1, 11))"
   ]
  },
  {
   "cell_type": "code",
   "execution_count": 62,
   "id": "9d67ee67-2029-4e03-a0bc-25a2739d76a3",
   "metadata": {},
   "outputs": [
    {
     "data": {
      "text/plain": [
       "[1, 2, 3, 4, 5, 6, 7, 8, 9, 10]"
      ]
     },
     "execution_count": 62,
     "metadata": {},
     "output_type": "execute_result"
    }
   ],
   "source": [
    "num"
   ]
  },
  {
   "cell_type": "code",
   "execution_count": 63,
   "id": "8d4e4e7b-d3da-4c50-9877-57bc11d48ea5",
   "metadata": {},
   "outputs": [
    {
     "data": {
      "text/plain": [
       "[2, 4, 6, 8, 10]"
      ]
     },
     "execution_count": 63,
     "metadata": {},
     "output_type": "execute_result"
    }
   ],
   "source": [
    "# 24a. Print only the even numbers using slicing.\n",
    "num[1::2]"
   ]
  },
  {
   "cell_type": "code",
   "execution_count": 64,
   "id": "d93fe414-842e-4f1c-83fa-2fab47028c7e",
   "metadata": {},
   "outputs": [
    {
     "data": {
      "text/plain": [
       "[10, 9, 8, 7, 6, 5, 4, 3, 2, 1]"
      ]
     },
     "execution_count": 64,
     "metadata": {},
     "output_type": "execute_result"
    }
   ],
   "source": [
    "# 24b. Reverse the list using slicing.\n",
    "num[::-1]"
   ]
  },
  {
   "cell_type": "code",
   "execution_count": 65,
   "id": "bd7f8415-ab98-4631-b2c7-3271a6a69805",
   "metadata": {},
   "outputs": [
    {
     "data": {
      "text/plain": [
       "[1, 4, 7, 10]"
      ]
     },
     "execution_count": 65,
     "metadata": {},
     "output_type": "execute_result"
    }
   ],
   "source": [
    "# 24c. Print every third element of the list.\n",
    "num[::3]"
   ]
  },
  {
   "cell_type": "code",
   "execution_count": 66,
   "id": "0a952445-c863-4890-b6bf-b1f64124e64e",
   "metadata": {},
   "outputs": [],
   "source": [
    "# 25. Create a list named colors with the values [\"red\", \"blue\", \"green\"].\n",
    "colors = ['red', 'blue', 'green']"
   ]
  },
  {
   "cell_type": "code",
   "execution_count": 67,
   "id": "9eaa0633-e7d0-4d51-a8ab-bef20739b150",
   "metadata": {},
   "outputs": [],
   "source": [
    "# 25a. Insert \"yellow\" at the second position.\n",
    "colors.insert(1, 'yellow')"
   ]
  },
  {
   "cell_type": "code",
   "execution_count": 68,
   "id": "a357ded1-5e77-43a9-8245-a0ce6652649a",
   "metadata": {},
   "outputs": [
    {
     "data": {
      "text/plain": [
       "['red', 'yellow', 'blue', 'green']"
      ]
     },
     "execution_count": 68,
     "metadata": {},
     "output_type": "execute_result"
    }
   ],
   "source": [
    "colors"
   ]
  },
  {
   "cell_type": "code",
   "execution_count": 69,
   "id": "9329cb37-2d0c-48a3-9110-a0f580f5ab67",
   "metadata": {},
   "outputs": [],
   "source": [
    "# 25b. Remove \"blue\" from the list.\n",
    "colors.remove('blue')"
   ]
  },
  {
   "cell_type": "code",
   "execution_count": 70,
   "id": "8135dc9c-3876-4ffc-bc2a-f3336f5214f2",
   "metadata": {},
   "outputs": [
    {
     "data": {
      "text/plain": [
       "['red', 'yellow', 'green']"
      ]
     },
     "execution_count": 70,
     "metadata": {},
     "output_type": "execute_result"
    }
   ],
   "source": [
    "# 25c. Print the final list.\n",
    "colors"
   ]
  },
  {
   "cell_type": "code",
   "execution_count": 71,
   "id": "f93ad04c-9a48-479c-b8f3-0cbc7486071a",
   "metadata": {},
   "outputs": [],
   "source": [
    "# 26. Create a list of numbers [10, 20, 30, 40, 50].\n",
    "numbers = [10, 20, 30, 40, 50]"
   ]
  },
  {
   "cell_type": "code",
   "execution_count": 72,
   "id": "7284a91c-2549-4ef3-9be0-e9500669850b",
   "metadata": {},
   "outputs": [],
   "source": [
    "# 26a. Replace the second element with 25.\n",
    "numbers[1] = 25"
   ]
  },
  {
   "cell_type": "code",
   "execution_count": 73,
   "id": "bef5a9cd-1b8e-4dda-8084-007888b1d08a",
   "metadata": {},
   "outputs": [
    {
     "data": {
      "text/plain": [
       "[10, 25, 30, 40, 50]"
      ]
     },
     "execution_count": 73,
     "metadata": {},
     "output_type": "execute_result"
    }
   ],
   "source": [
    "numbers"
   ]
  },
  {
   "cell_type": "code",
   "execution_count": 74,
   "id": "dc9baa35-9a5b-44d4-bcd1-563cd2fa4e0b",
   "metadata": {},
   "outputs": [
    {
     "data": {
      "text/plain": [
       "155"
      ]
     },
     "execution_count": 74,
     "metadata": {},
     "output_type": "execute_result"
    }
   ],
   "source": [
    "# 26b. Print the sum of all elements in the list.\n",
    "sum(numbers)"
   ]
  },
  {
   "cell_type": "code",
   "execution_count": 75,
   "id": "295d2250-ac64-4d69-a77e-01f464826417",
   "metadata": {},
   "outputs": [
    {
     "data": {
      "text/plain": [
       "50"
      ]
     },
     "execution_count": 75,
     "metadata": {},
     "output_type": "execute_result"
    }
   ],
   "source": [
    "# 26c. Print the maximum and minimum values.\n",
    "max(numbers)"
   ]
  },
  {
   "cell_type": "code",
   "execution_count": 76,
   "id": "b96bf868-d551-4fc9-a1f9-6c4a55c0cb66",
   "metadata": {},
   "outputs": [
    {
     "data": {
      "text/plain": [
       "10"
      ]
     },
     "execution_count": 76,
     "metadata": {},
     "output_type": "execute_result"
    }
   ],
   "source": [
    "min(numbers)"
   ]
  },
  {
   "cell_type": "code",
   "execution_count": 77,
   "id": "99c760ed-0207-4c1b-a76f-fcd9981072a8",
   "metadata": {},
   "outputs": [],
   "source": [
    "# 27. Create a list of 5 integers.\n",
    "my_list = [45, 99, 5000, 34, 68]"
   ]
  },
  {
   "cell_type": "code",
   "execution_count": 78,
   "id": "a699178b-d408-4909-91f9-fe26b5712360",
   "metadata": {},
   "outputs": [
    {
     "data": {
      "text/plain": [
       "[45, 99, 5000, 34, 68]"
      ]
     },
     "execution_count": 78,
     "metadata": {},
     "output_type": "execute_result"
    }
   ],
   "source": [
    "my_list"
   ]
  },
  {
   "cell_type": "code",
   "execution_count": 79,
   "id": "084824b5-8edc-4b3a-8815-ffadf4669140",
   "metadata": {},
   "outputs": [
    {
     "data": {
      "text/plain": [
       "[34, 45, 68, 99, 5000]"
      ]
     },
     "execution_count": 79,
     "metadata": {},
     "output_type": "execute_result"
    }
   ],
   "source": [
    "# 27a. Sort the list in ascending order.\n",
    "sorted(my_list)"
   ]
  },
  {
   "cell_type": "code",
   "execution_count": 80,
   "id": "9c2a0993-1844-492f-97c3-94601450221f",
   "metadata": {},
   "outputs": [
    {
     "data": {
      "text/plain": [
       "[5000, 99, 68, 45, 34]"
      ]
     },
     "execution_count": 80,
     "metadata": {},
     "output_type": "execute_result"
    }
   ],
   "source": [
    "# 27b. Sort the list in descending order.\n",
    "my_list.sort(reverse=True)\n",
    "my_list"
   ]
  },
  {
   "cell_type": "code",
   "execution_count": 81,
   "id": "34637602-071a-47b7-a96a-1549f29082b4",
   "metadata": {},
   "outputs": [
    {
     "data": {
      "text/plain": [
       "5"
      ]
     },
     "execution_count": 81,
     "metadata": {},
     "output_type": "execute_result"
    }
   ],
   "source": [
    "# 27c. Print the length of the list.\n",
    "len(my_list)"
   ]
  },
  {
   "cell_type": "code",
   "execution_count": 82,
   "id": "a71a598b-0ccb-4f45-9377-029d1afc4ea8",
   "metadata": {},
   "outputs": [],
   "source": [
    "# 28. Create a tuple named my_tuple with values (1, 2, 3, 4, 5).\n",
    "my_tuple = (1, 2, 3, 4, 5)"
   ]
  },
  {
   "cell_type": "code",
   "execution_count": 83,
   "id": "6156bbc3-e818-4d0f-b81b-31681b8c52b8",
   "metadata": {},
   "outputs": [
    {
     "data": {
      "text/plain": [
       "3"
      ]
     },
     "execution_count": 83,
     "metadata": {},
     "output_type": "execute_result"
    }
   ],
   "source": [
    "# 28a. Print the third element.\n",
    "my_tuple[2]"
   ]
  },
  {
   "cell_type": "code",
   "execution_count": 84,
   "id": "6eab81fc-ae8b-4c86-ac4a-82c2b3b4749e",
   "metadata": {},
   "outputs": [
    {
     "data": {
      "text/plain": [
       "(1, 2, 3)"
      ]
     },
     "execution_count": 84,
     "metadata": {},
     "output_type": "execute_result"
    }
   ],
   "source": [
    "# 28b. Print the first three elements using slicing.\n",
    "my_tuple[:3:]"
   ]
  },
  {
   "cell_type": "code",
   "execution_count": 85,
   "id": "b4bf007e-ca32-474a-b2a0-b987617ff551",
   "metadata": {},
   "outputs": [
    {
     "name": "stdout",
     "output_type": "stream",
     "text": [
      "True\n"
     ]
    }
   ],
   "source": [
    "# 28c. Check if 4 is in my_tuple.\n",
    "print(4 in my_tuple)"
   ]
  },
  {
   "cell_type": "code",
   "execution_count": 86,
   "id": "c4583ffe-31c1-4475-9ce8-f9de033bc7e8",
   "metadata": {},
   "outputs": [],
   "source": [
    "# 29. Create a tuple months with the first six months of the year.\n",
    "months = ('January', 'February', 'March', 'April', 'May', 'June')"
   ]
  },
  {
   "cell_type": "code",
   "execution_count": 87,
   "id": "54851257-98b7-446b-aeae-03789a961da0",
   "metadata": {},
   "outputs": [
    {
     "data": {
      "text/plain": [
       "'June'"
      ]
     },
     "execution_count": 87,
     "metadata": {},
     "output_type": "execute_result"
    }
   ],
   "source": [
    "# 29a. Print the last month.\n",
    "months[-1]"
   ]
  },
  {
   "cell_type": "code",
   "execution_count": 88,
   "id": "37f47fad-775c-49ce-ab02-787345835a69",
   "metadata": {},
   "outputs": [
    {
     "data": {
      "text/plain": [
       "('January', 'February', 'March', 'April')"
      ]
     },
     "execution_count": 88,
     "metadata": {},
     "output_type": "execute_result"
    }
   ],
   "source": [
    "# 29b. Print the first four months.\n",
    "months[:4:]"
   ]
  },
  {
   "cell_type": "code",
   "execution_count": 89,
   "id": "629a4476-edc4-45f4-b982-4657222f917c",
   "metadata": {},
   "outputs": [
    {
     "data": {
      "text/plain": [
       "2"
      ]
     },
     "execution_count": 89,
     "metadata": {},
     "output_type": "execute_result"
    }
   ],
   "source": [
    "# 29c. Find the index of \"March\".\n",
    "months.index('March')"
   ]
  },
  {
   "cell_type": "code",
   "execution_count": 90,
   "id": "38c3e2fe-6b1b-4293-997c-d80ca9d70ab1",
   "metadata": {},
   "outputs": [],
   "source": [
    "# 30. Create a tuple with duplicate values (10, 20, 10, 30, 10, 40).\n",
    "num_tuple = (10, 20, 10, 30, 10, 40)"
   ]
  },
  {
   "cell_type": "code",
   "execution_count": 91,
   "id": "7544230d-9821-4dad-ab69-5a1ac5a716d5",
   "metadata": {},
   "outputs": [
    {
     "data": {
      "text/plain": [
       "3"
      ]
     },
     "execution_count": 91,
     "metadata": {},
     "output_type": "execute_result"
    }
   ],
   "source": [
    "# 30a. Count how many times 10 appears.\n",
    "num_tuple.count(10)"
   ]
  },
  {
   "cell_type": "code",
   "execution_count": 92,
   "id": "04c13c83-8d92-46f7-995f-87b7e2a1da9e",
   "metadata": {},
   "outputs": [
    {
     "data": {
      "text/plain": [
       "3"
      ]
     },
     "execution_count": 92,
     "metadata": {},
     "output_type": "execute_result"
    }
   ],
   "source": [
    "# 30b. Find the index of the first occurrence of 30.\n",
    "num_tuple.index(30)"
   ]
  },
  {
   "cell_type": "code",
   "execution_count": 93,
   "id": "3955f596-d41f-4845-8f59-8410748495d5",
   "metadata": {},
   "outputs": [],
   "source": [
    "# 31. Convert a list [1, 2, 3, 4] into a tuple and print it.\n",
    "myList = [1, 2, 3, 4]"
   ]
  },
  {
   "cell_type": "code",
   "execution_count": 94,
   "id": "f1f8af69-ea7a-440e-a74c-cb28247c358f",
   "metadata": {},
   "outputs": [],
   "source": [
    "myTuple = tuple(myList)"
   ]
  },
  {
   "cell_type": "code",
   "execution_count": 95,
   "id": "a0904192-11b2-4088-b75e-1d4e53892ffe",
   "metadata": {},
   "outputs": [
    {
     "data": {
      "text/plain": [
       "(1, 2, 3, 4)"
      ]
     },
     "execution_count": 95,
     "metadata": {},
     "output_type": "execute_result"
    }
   ],
   "source": [
    "myTuple"
   ]
  },
  {
   "cell_type": "code",
   "execution_count": 96,
   "id": "61a97374-ef86-4d29-ab78-2d62a0931729",
   "metadata": {},
   "outputs": [],
   "source": [
    "# 31a. Convert the tuple back into a list and print it.\n",
    "myNewList = list(myTuple)"
   ]
  },
  {
   "cell_type": "code",
   "execution_count": 97,
   "id": "51aed836-f4f4-4574-a4e1-f1f843b48aca",
   "metadata": {},
   "outputs": [
    {
     "data": {
      "text/plain": [
       "[1, 2, 3, 4]"
      ]
     },
     "execution_count": 97,
     "metadata": {},
     "output_type": "execute_result"
    }
   ],
   "source": [
    "myNewList"
   ]
  },
  {
   "cell_type": "code",
   "execution_count": 98,
   "id": "79211fcb-4a7f-478f-936a-193b00c7700a",
   "metadata": {},
   "outputs": [],
   "source": [
    "# 32. Create a tuple student = (\"Alice\", 21, \"Computer Science\").\n",
    "student = (\"Alice\", 21, \"Computer Science\")"
   ]
  },
  {
   "cell_type": "code",
   "execution_count": 99,
   "id": "1b38a9f4-2d19-42f5-8f49-db4c7dae6aed",
   "metadata": {},
   "outputs": [
    {
     "data": {
      "text/plain": [
       "'Alice'"
      ]
     },
     "execution_count": 99,
     "metadata": {},
     "output_type": "execute_result"
    }
   ],
   "source": [
    "# 32a. Print the name.\n",
    "student[0]"
   ]
  },
  {
   "cell_type": "code",
   "execution_count": 100,
   "id": "7ed1d63c-b70a-4418-88ea-8c8772eafdd3",
   "metadata": {},
   "outputs": [
    {
     "data": {
      "text/plain": [
       "21"
      ]
     },
     "execution_count": 100,
     "metadata": {},
     "output_type": "execute_result"
    }
   ],
   "source": [
    "# 32b. Print the age.\n",
    "student[1]"
   ]
  },
  {
   "cell_type": "code",
   "execution_count": 101,
   "id": "ad00cf05-8a80-4197-86c1-e9d90b9fdf7f",
   "metadata": {},
   "outputs": [
    {
     "data": {
      "text/plain": [
       "'Computer Science'"
      ]
     },
     "execution_count": 101,
     "metadata": {},
     "output_type": "execute_result"
    }
   ],
   "source": [
    "# 32c. Print the department.\n",
    "student[2]"
   ]
  },
  {
   "cell_type": "code",
   "execution_count": 102,
   "id": "7e345073-aa81-49ed-8f31-b730f59fc140",
   "metadata": {},
   "outputs": [],
   "source": [
    "# 33. Create a string \"PythonProgramming\".\n",
    "str1 = \"PythonProgramming\""
   ]
  },
  {
   "cell_type": "code",
   "execution_count": 103,
   "id": "b528e2fc-10ea-4c2e-99ab-7e8850795de4",
   "metadata": {},
   "outputs": [
    {
     "data": {
      "text/plain": [
       "'Progr'"
      ]
     },
     "execution_count": 103,
     "metadata": {},
     "output_type": "execute_result"
    }
   ],
   "source": [
    "# 33a. Print the middle 5 characters.\n",
    "str1[6:11:]"
   ]
  },
  {
   "cell_type": "code",
   "execution_count": 104,
   "id": "e05555be-8f59-4a5c-aaad-ef6cae2ba8bc",
   "metadata": {},
   "outputs": [
    {
     "data": {
      "text/plain": [
       "'ythonProgrammin'"
      ]
     },
     "execution_count": 104,
     "metadata": {},
     "output_type": "execute_result"
    }
   ],
   "source": [
    "# 33b. Print the string without the first and last characters.\n",
    "str1[1:16:]"
   ]
  },
  {
   "cell_type": "code",
   "execution_count": 105,
   "id": "7d81903a-c83a-4725-90b5-19c6e453a91e",
   "metadata": {},
   "outputs": [],
   "source": [
    "# 34. Create a string \" Data Science \".\n",
    "str2 = \" Data Science \""
   ]
  },
  {
   "cell_type": "code",
   "execution_count": 106,
   "id": "6a559d52-81b6-4dee-83b6-522fa6cc246d",
   "metadata": {},
   "outputs": [],
   "source": [
    "# 34a. Remove leading and trailing spaces.\n",
    "m = str2.strip()"
   ]
  },
  {
   "cell_type": "code",
   "execution_count": 107,
   "id": "4b5653b4-f0c0-4098-a5ca-afbb06728196",
   "metadata": {},
   "outputs": [
    {
     "data": {
      "text/plain": [
       "'Data Science'"
      ]
     },
     "execution_count": 107,
     "metadata": {},
     "output_type": "execute_result"
    }
   ],
   "source": [
    "m"
   ]
  },
  {
   "cell_type": "code",
   "execution_count": 108,
   "id": "f7163946-ab9c-4c13-92c7-b5e86a4d10e7",
   "metadata": {},
   "outputs": [
    {
     "data": {
      "text/plain": [
       "14"
      ]
     },
     "execution_count": 108,
     "metadata": {},
     "output_type": "execute_result"
    }
   ],
   "source": [
    "# 34b. Print the string length before and after removing spaces.\n",
    "len(str2)"
   ]
  },
  {
   "cell_type": "code",
   "execution_count": 109,
   "id": "34e792c5-bc73-4bd0-bc2f-c701bc6c75c7",
   "metadata": {},
   "outputs": [
    {
     "data": {
      "text/plain": [
       "12"
      ]
     },
     "execution_count": 109,
     "metadata": {},
     "output_type": "execute_result"
    }
   ],
   "source": [
    "len(m)"
   ]
  },
  {
   "cell_type": "code",
   "execution_count": 110,
   "id": "3daf1160-40ad-4891-ad11-cf414933035a",
   "metadata": {},
   "outputs": [],
   "source": [
    "# 35. Create a string \"MachineLearning\".\n",
    "str3 = \"MachineLearning\""
   ]
  },
  {
   "cell_type": "code",
   "execution_count": 111,
   "id": "6b2b1a53-46ce-4807-ad8d-14de1063c4b0",
   "metadata": {},
   "outputs": [
    {
     "data": {
      "text/plain": [
       "'machinelearning'"
      ]
     },
     "execution_count": 111,
     "metadata": {},
     "output_type": "execute_result"
    }
   ],
   "source": [
    "# 35a. Print the string in all lowercase.\n",
    "str3.lower()"
   ]
  },
  {
   "cell_type": "code",
   "execution_count": 112,
   "id": "dc7c8d8a-c8f4-4ac9-8ab0-eaeab451ff8b",
   "metadata": {},
   "outputs": [
    {
     "data": {
      "text/plain": [
       "'MACHINELEARNING'"
      ]
     },
     "execution_count": 112,
     "metadata": {},
     "output_type": "execute_result"
    }
   ],
   "source": [
    "# 35b. Print the string in all uppercase.\n",
    "str3.upper()"
   ]
  },
  {
   "cell_type": "code",
   "execution_count": 113,
   "id": "abab5a7a-ac19-4977-9147-c1728e2b07f8",
   "metadata": {},
   "outputs": [
    {
     "data": {
      "text/plain": [
       "'mACHINElEARNING'"
      ]
     },
     "execution_count": 113,
     "metadata": {},
     "output_type": "execute_result"
    }
   ],
   "source": [
    "# 35c. Swap the case of all letters.\n",
    "str3.swapcase()"
   ]
  },
  {
   "cell_type": "code",
   "execution_count": 114,
   "id": "b09ebbad-6460-4196-9af5-273661786690",
   "metadata": {},
   "outputs": [],
   "source": [
    "# 36. Create a string \"python is powerful\".\n",
    "str4 = \"python is powerful\""
   ]
  },
  {
   "cell_type": "code",
   "execution_count": 115,
   "id": "1b2421c9-065c-4cf6-b5b3-5a83f0c0b99e",
   "metadata": {},
   "outputs": [
    {
     "data": {
      "text/plain": [
       "'Python is powerful'"
      ]
     },
     "execution_count": 115,
     "metadata": {},
     "output_type": "execute_result"
    }
   ],
   "source": [
    "# 36a. Capitalize only the first letter of the string.\n",
    "str4.capitalize()"
   ]
  },
  {
   "cell_type": "code",
   "execution_count": 116,
   "id": "0a64f795-8500-4a6b-82e4-816978404015",
   "metadata": {},
   "outputs": [
    {
     "data": {
      "text/plain": [
       "'Python Is Powerful'"
      ]
     },
     "execution_count": 116,
     "metadata": {},
     "output_type": "execute_result"
    }
   ],
   "source": [
    "# 36b. Use .title() to capitalize the first letter of each word.\n",
    "str4.title()"
   ]
  },
  {
   "cell_type": "code",
   "execution_count": 117,
   "id": "98660f5f-84a4-4abb-b60d-7edb2ecb527d",
   "metadata": {},
   "outputs": [],
   "source": [
    "# 37. Create a string \"datascience123\".\n",
    "str5 = \"datascience123\""
   ]
  },
  {
   "cell_type": "code",
   "execution_count": 118,
   "id": "0e8dd192-a7bf-49ce-8438-5e6b811ca58c",
   "metadata": {},
   "outputs": [
    {
     "data": {
      "text/plain": [
       "True"
      ]
     },
     "execution_count": 118,
     "metadata": {},
     "output_type": "execute_result"
    }
   ],
   "source": [
    "# 37a. Check if the string is alphanumeric.\n",
    "str5.isalnum()"
   ]
  },
  {
   "cell_type": "code",
   "execution_count": 119,
   "id": "d75ed113-815e-45d2-a42c-9ef56ada05fe",
   "metadata": {},
   "outputs": [
    {
     "data": {
      "text/plain": [
       "False"
      ]
     },
     "execution_count": 119,
     "metadata": {},
     "output_type": "execute_result"
    }
   ],
   "source": [
    "# 37b. Check if the string contains only digits.\n",
    "str5.isdigit()"
   ]
  },
  {
   "cell_type": "code",
   "execution_count": 120,
   "id": "08520cef-90d1-4671-9fb5-c08ead4166e8",
   "metadata": {},
   "outputs": [
    {
     "data": {
      "text/plain": [
       "False"
      ]
     },
     "execution_count": 120,
     "metadata": {},
     "output_type": "execute_result"
    }
   ],
   "source": [
    "# 37c. Check if the string contains only alphabets.\n",
    "str5.isalpha()"
   ]
  },
  {
   "cell_type": "code",
   "execution_count": 121,
   "id": "71d4eb0a-639a-4607-b460-5acfe5140cde",
   "metadata": {},
   "outputs": [],
   "source": [
    "# 38. Create a string \"hello world\".\n",
    "str6 = \"hello world\""
   ]
  },
  {
   "cell_type": "code",
   "execution_count": 122,
   "id": "0a6c6560-56f1-4355-9272-4461db8c585a",
   "metadata": {},
   "outputs": [
    {
     "data": {
      "text/plain": [
       "2"
      ]
     },
     "execution_count": 122,
     "metadata": {},
     "output_type": "execute_result"
    }
   ],
   "source": [
    "# 38a. Count how many times \"o\" appears.\n",
    "str6.count('o')"
   ]
  },
  {
   "cell_type": "code",
   "execution_count": 123,
   "id": "29e9fb25-78b6-4be2-9875-3dfedb880034",
   "metadata": {},
   "outputs": [
    {
     "data": {
      "text/plain": [
       "6"
      ]
     },
     "execution_count": 123,
     "metadata": {},
     "output_type": "execute_result"
    }
   ],
   "source": [
    "# 38b. Find the index of the first occurrence of \"world\".\n",
    "str6.index('world')"
   ]
  },
  {
   "cell_type": "code",
   "execution_count": 124,
   "id": "d92e86da-933d-4911-820c-becd9c153c5b",
   "metadata": {},
   "outputs": [],
   "source": [
    "# 39. Create a string \"abcd\".\n",
    "str7 = \"abcd\""
   ]
  },
  {
   "cell_type": "code",
   "execution_count": 125,
   "id": "80cfde43-3068-45c0-b71f-9186575f2b46",
   "metadata": {},
   "outputs": [
    {
     "data": {
      "text/plain": [
       "'a-b-c-d'"
      ]
     },
     "execution_count": 125,
     "metadata": {},
     "output_type": "execute_result"
    }
   ],
   "source": [
    "# 39a. Generate \"a-b-c-d\" using .join().\n",
    "'-'.join(str7)"
   ]
  },
  {
   "cell_type": "code",
   "execution_count": 126,
   "id": "e7869b92-7f14-4cf8-8b94-fe59d4893c11",
   "metadata": {},
   "outputs": [
    {
     "data": {
      "text/plain": [
       "'abcdabcdabcd'"
      ]
     },
     "execution_count": 126,
     "metadata": {},
     "output_type": "execute_result"
    }
   ],
   "source": [
    "# 39b. Repeat the string 3 times.\n",
    "str7*3"
   ]
  },
  {
   "cell_type": "code",
   "execution_count": 127,
   "id": "4aff6abd-7f29-449c-976a-4a975bbe145c",
   "metadata": {},
   "outputs": [],
   "source": [
    "# 40. Create a string \"python\" and check:\n",
    "str8 = \"python\""
   ]
  },
  {
   "cell_type": "code",
   "execution_count": 128,
   "id": "c91d40c8-251a-466e-a72f-8ad88d832e6a",
   "metadata": {},
   "outputs": [
    {
     "data": {
      "text/plain": [
       "True"
      ]
     },
     "execution_count": 128,
     "metadata": {},
     "output_type": "execute_result"
    }
   ],
   "source": [
    "# 40a, Does it start with \"py\"?\n",
    "str8.startswith('py')"
   ]
  },
  {
   "cell_type": "code",
   "execution_count": 129,
   "id": "b5e0aa4f-9c25-49fc-af24-2143aedb8a24",
   "metadata": {},
   "outputs": [
    {
     "data": {
      "text/plain": [
       "True"
      ]
     },
     "execution_count": 129,
     "metadata": {},
     "output_type": "execute_result"
    }
   ],
   "source": [
    "# 40b. Does it end with \"on\"?\n",
    "str8.endswith('on')"
   ]
  },
  {
   "cell_type": "code",
   "execution_count": 130,
   "id": "9c8d79f0-5b7f-4a1f-bf27-0847a466be32",
   "metadata": {},
   "outputs": [],
   "source": [
    "# 41. Create a string \"Artificial Intelligence\".\n",
    "str9 = \"Artificial Intelligence\""
   ]
  },
  {
   "cell_type": "code",
   "execution_count": 131,
   "id": "e5c9eca9-3fa3-4f02-8413-5a9c65db28bb",
   "metadata": {},
   "outputs": [
    {
     "data": {
      "text/plain": [
       "['Artificial', 'Intelligence']"
      ]
     },
     "execution_count": 131,
     "metadata": {},
     "output_type": "execute_result"
    }
   ],
   "source": [
    "# 41a. Split the string into a list of words.\n",
    "str9.split(' ')"
   ]
  },
  {
   "cell_type": "code",
   "execution_count": 132,
   "id": "b50f4e2d-bea8-4a68-a4dc-de9ec7fe4717",
   "metadata": {},
   "outputs": [],
   "source": [
    "# 41b. Print the longest word.\n",
    "s = str9.split()"
   ]
  },
  {
   "cell_type": "code",
   "execution_count": 133,
   "id": "3d107870-e7bf-4db9-a8fd-2a9408ec3f3c",
   "metadata": {},
   "outputs": [
    {
     "data": {
      "text/plain": [
       "['Artificial', 'Intelligence']"
      ]
     },
     "execution_count": 133,
     "metadata": {},
     "output_type": "execute_result"
    }
   ],
   "source": [
    "s"
   ]
  },
  {
   "cell_type": "code",
   "execution_count": 134,
   "id": "edc87723-4147-4a7e-93d9-db519a4b6abe",
   "metadata": {},
   "outputs": [
    {
     "data": {
      "text/plain": [
       "'Intelligence'"
      ]
     },
     "execution_count": 134,
     "metadata": {},
     "output_type": "execute_result"
    }
   ],
   "source": [
    "max(s, key=len)"
   ]
  },
  {
   "cell_type": "code",
   "execution_count": 135,
   "id": "6a265a96-1026-41c2-8075-d89ddaffe05c",
   "metadata": {},
   "outputs": [],
   "source": [
    "# 42. Create a string \"reverse me\".\n",
    "str10 = \"reverse me\""
   ]
  },
  {
   "cell_type": "code",
   "execution_count": 136,
   "id": "94af25e5-0fb2-40a3-95d6-822b0ccbebc5",
   "metadata": {},
   "outputs": [
    {
     "data": {
      "text/plain": [
       "'em esrever'"
      ]
     },
     "execution_count": 136,
     "metadata": {},
     "output_type": "execute_result"
    }
   ],
   "source": [
    "# 42a. Reverse the string using slicing.\n",
    "str10[::-1]"
   ]
  },
  {
   "cell_type": "code",
   "execution_count": 137,
   "id": "0aa083a6-97a0-4a47-854d-88c4c62d344e",
   "metadata": {},
   "outputs": [],
   "source": [
    "# 42b. Reverse each word individually (output: \"esrever em\").\n",
    "c = str10[::-1].split(' ')"
   ]
  },
  {
   "cell_type": "code",
   "execution_count": 138,
   "id": "a85753f6-c8ee-43d2-abf5-6c4de12672de",
   "metadata": {},
   "outputs": [
    {
     "data": {
      "text/plain": [
       "['em', 'esrever']"
      ]
     },
     "execution_count": 138,
     "metadata": {},
     "output_type": "execute_result"
    }
   ],
   "source": [
    "c"
   ]
  },
  {
   "cell_type": "code",
   "execution_count": 139,
   "id": "42591930-fd90-4d3f-8b24-e87098a11379",
   "metadata": {},
   "outputs": [],
   "source": [
    "c.reverse()"
   ]
  },
  {
   "cell_type": "code",
   "execution_count": 140,
   "id": "7721fbd3-a4c2-4bc7-8a9b-848c269c3c03",
   "metadata": {},
   "outputs": [
    {
     "data": {
      "text/plain": [
       "['esrever', 'em']"
      ]
     },
     "execution_count": 140,
     "metadata": {},
     "output_type": "execute_result"
    }
   ],
   "source": [
    "c"
   ]
  },
  {
   "cell_type": "code",
   "execution_count": 141,
   "id": "8dbfdab7-96af-4909-bd16-3ff3f2d42938",
   "metadata": {},
   "outputs": [
    {
     "data": {
      "text/plain": [
       "'esrever em'"
      ]
     },
     "execution_count": 141,
     "metadata": {},
     "output_type": "execute_result"
    }
   ],
   "source": [
    "' '.join(c)"
   ]
  },
  {
   "cell_type": "code",
   "execution_count": null,
   "id": "e1e05841-b25f-4b35-ab96-cd0e110a15eb",
   "metadata": {},
   "outputs": [],
   "source": []
  }
 ],
 "metadata": {
  "kernelspec": {
   "display_name": "Python 3 (ipykernel)",
   "language": "python",
   "name": "python3"
  },
  "language_info": {
   "codemirror_mode": {
    "name": "ipython",
    "version": 3
   },
   "file_extension": ".py",
   "mimetype": "text/x-python",
   "name": "python",
   "nbconvert_exporter": "python",
   "pygments_lexer": "ipython3",
   "version": "3.11.7"
  }
 },
 "nbformat": 4,
 "nbformat_minor": 5
}
